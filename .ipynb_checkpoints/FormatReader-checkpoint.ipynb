{
 "cells": [
  {
   "cell_type": "code",
   "execution_count": 2,
   "metadata": {},
   "outputs": [],
   "source": [
    "%matplotlib inline\n",
    "\n",
    "import numpy as np\n",
    "import pandas as pd\n",
    "from matplotlib import pyplot as plt\n",
    "import matplotlib.cm as cm"
   ]
  },
  {
   "cell_type": "code",
   "execution_count": 3,
   "metadata": {},
   "outputs": [
    {
     "name": "stderr",
     "output_type": "stream",
     "text": [
      "'ls' is not recognized as an internal or external command,\n",
      "operable program or batch file.\n"
     ]
    }
   ],
   "source": [
    "!ls"
   ]
  },
  {
   "cell_type": "code",
   "execution_count": 4,
   "metadata": {
    "collapsed": true
   },
   "outputs": [],
   "source": [
    "unitsTab = pd.read_csv('codeConversions/units.csv')\n",
    "unitsTab.index = unitsTab['Unit Code']\n",
    "unitsDict = unitsTab.to_dict()['Units']\n",
    "\n",
    "paramsTab = pd.read_csv('codeConversions/parameters.csv')\n",
    "paramsTab.index = paramsTab['Parameter Code']\n",
    "paramsDict = paramsTab.to_dict()['Parameter']"
   ]
  },
  {
   "cell_type": "code",
   "execution_count": 5,
   "metadata": {
    "collapsed": true
   },
   "outputs": [],
   "source": [
    "def name_pollutant(row):\n",
    "    try: name = paramsDict[int(row.parameter)]\n",
    "    except KeyError:\n",
    "        name = 'Unknown'\n",
    "    return name"
   ]
  },
  {
   "cell_type": "code",
   "execution_count": 6,
   "metadata": {
    "scrolled": true
   },
   "outputs": [
    {
     "name": "stderr",
     "output_type": "stream",
     "text": [
      "C:\\Users\\nmohamed\\AppData\\Local\\Continuum\\Anaconda3\\lib\\site-packages\\IPython\\core\\interactiveshell.py:2717: DtypeWarning: Columns (0,19) have mixed types. Specify dtype option on import or set low_memory=False.\n",
      "  interactivity=interactivity, compiler=compiler, result=result)\n"
     ]
    },
    {
     "data": {
      "text/html": [
       "<div>\n",
       "<style>\n",
       "    .dataframe thead tr:only-child th {\n",
       "        text-align: right;\n",
       "    }\n",
       "\n",
       "    .dataframe thead th {\n",
       "        text-align: left;\n",
       "    }\n",
       "\n",
       "    .dataframe tbody tr th {\n",
       "        vertical-align: top;\n",
       "    }\n",
       "</style>\n",
       "<table border=\"1\" class=\"dataframe\">\n",
       "  <thead>\n",
       "    <tr style=\"text-align: right;\">\n",
       "      <th></th>\n",
       "      <th>site</th>\n",
       "      <th>data_status</th>\n",
       "      <th>action_code</th>\n",
       "      <th>datetime</th>\n",
       "      <th>parameter</th>\n",
       "      <th>duration</th>\n",
       "      <th>frequency</th>\n",
       "      <th>value</th>\n",
       "      <th>unit</th>\n",
       "      <th>qc</th>\n",
       "      <th>poc</th>\n",
       "      <th>lat</th>\n",
       "      <th>lon</th>\n",
       "      <th>GISDatum</th>\n",
       "      <th>elev</th>\n",
       "      <th>method_code</th>\n",
       "      <th>mpc</th>\n",
       "      <th>mpc_value</th>\n",
       "      <th>uncertainty</th>\n",
       "      <th>qualifiers</th>\n",
       "    </tr>\n",
       "  </thead>\n",
       "  <tbody>\n",
       "    <tr>\n",
       "      <th>202437</th>\n",
       "      <td>840020900034</td>\n",
       "      <td>1.0</td>\n",
       "      <td>10.0</td>\n",
       "      <td>2016-05-09 16:00:00</td>\n",
       "      <td>42602.0</td>\n",
       "      <td>60.0</td>\n",
       "      <td>0.0</td>\n",
       "      <td>7.7</td>\n",
       "      <td>8.0</td>\n",
       "      <td>0.0</td>\n",
       "      <td>1.0</td>\n",
       "      <td>64.84569</td>\n",
       "      <td>-147.727413</td>\n",
       "      <td>WGS84</td>\n",
       "      <td>132.0</td>\n",
       "      <td>574.0</td>\n",
       "      <td>1.0</td>\n",
       "      <td>0.05</td>\n",
       "      <td>NaN</td>\n",
       "      <td>NaN</td>\n",
       "    </tr>\n",
       "    <tr>\n",
       "      <th>202438</th>\n",
       "      <td>840020900034</td>\n",
       "      <td>1.0</td>\n",
       "      <td>10.0</td>\n",
       "      <td>2016-05-18 16:00:00</td>\n",
       "      <td>42602.0</td>\n",
       "      <td>60.0</td>\n",
       "      <td>0.0</td>\n",
       "      <td>2.7</td>\n",
       "      <td>8.0</td>\n",
       "      <td>0.0</td>\n",
       "      <td>1.0</td>\n",
       "      <td>64.84569</td>\n",
       "      <td>-147.727413</td>\n",
       "      <td>WGS84</td>\n",
       "      <td>132.0</td>\n",
       "      <td>574.0</td>\n",
       "      <td>1.0</td>\n",
       "      <td>0.05</td>\n",
       "      <td>NaN</td>\n",
       "      <td>NaN</td>\n",
       "    </tr>\n",
       "    <tr>\n",
       "      <th>202439</th>\n",
       "      <td>840020900034</td>\n",
       "      <td>1.0</td>\n",
       "      <td>10.0</td>\n",
       "      <td>2016-05-19 16:00:00</td>\n",
       "      <td>42602.0</td>\n",
       "      <td>60.0</td>\n",
       "      <td>0.0</td>\n",
       "      <td>9.8</td>\n",
       "      <td>8.0</td>\n",
       "      <td>0.0</td>\n",
       "      <td>1.0</td>\n",
       "      <td>64.84569</td>\n",
       "      <td>-147.727413</td>\n",
       "      <td>WGS84</td>\n",
       "      <td>132.0</td>\n",
       "      <td>574.0</td>\n",
       "      <td>1.0</td>\n",
       "      <td>0.05</td>\n",
       "      <td>NaN</td>\n",
       "      <td>NaN</td>\n",
       "    </tr>\n",
       "    <tr>\n",
       "      <th>202440</th>\n",
       "      <td>840020900034</td>\n",
       "      <td>1.0</td>\n",
       "      <td>10.0</td>\n",
       "      <td>2016-05-30 16:00:00</td>\n",
       "      <td>42602.0</td>\n",
       "      <td>60.0</td>\n",
       "      <td>0.0</td>\n",
       "      <td>0.2</td>\n",
       "      <td>8.0</td>\n",
       "      <td>0.0</td>\n",
       "      <td>1.0</td>\n",
       "      <td>64.84569</td>\n",
       "      <td>-147.727413</td>\n",
       "      <td>WGS84</td>\n",
       "      <td>132.0</td>\n",
       "      <td>574.0</td>\n",
       "      <td>1.0</td>\n",
       "      <td>0.05</td>\n",
       "      <td>NaN</td>\n",
       "      <td>NaN</td>\n",
       "    </tr>\n",
       "    <tr>\n",
       "      <th>202441</th>\n",
       "      <td>840020900034</td>\n",
       "      <td>1.0</td>\n",
       "      <td>10.0</td>\n",
       "      <td>2016-06-02 16:00:00</td>\n",
       "      <td>42602.0</td>\n",
       "      <td>60.0</td>\n",
       "      <td>0.0</td>\n",
       "      <td>4.8</td>\n",
       "      <td>8.0</td>\n",
       "      <td>0.0</td>\n",
       "      <td>1.0</td>\n",
       "      <td>64.84569</td>\n",
       "      <td>-147.727413</td>\n",
       "      <td>WGS84</td>\n",
       "      <td>132.0</td>\n",
       "      <td>574.0</td>\n",
       "      <td>1.0</td>\n",
       "      <td>0.05</td>\n",
       "      <td>NaN</td>\n",
       "      <td>NaN</td>\n",
       "    </tr>\n",
       "  </tbody>\n",
       "</table>\n",
       "</div>"
      ],
      "text/plain": [
       "                site  data_status  action_code            datetime  parameter  \\\n",
       "202437  840020900034          1.0         10.0 2016-05-09 16:00:00    42602.0   \n",
       "202438  840020900034          1.0         10.0 2016-05-18 16:00:00    42602.0   \n",
       "202439  840020900034          1.0         10.0 2016-05-19 16:00:00    42602.0   \n",
       "202440  840020900034          1.0         10.0 2016-05-30 16:00:00    42602.0   \n",
       "202441  840020900034          1.0         10.0 2016-06-02 16:00:00    42602.0   \n",
       "\n",
       "        duration  frequency  value  unit   qc  poc       lat         lon  \\\n",
       "202437      60.0        0.0    7.7   8.0  0.0  1.0  64.84569 -147.727413   \n",
       "202438      60.0        0.0    2.7   8.0  0.0  1.0  64.84569 -147.727413   \n",
       "202439      60.0        0.0    9.8   8.0  0.0  1.0  64.84569 -147.727413   \n",
       "202440      60.0        0.0    0.2   8.0  0.0  1.0  64.84569 -147.727413   \n",
       "202441      60.0        0.0    4.8   8.0  0.0  1.0  64.84569 -147.727413   \n",
       "\n",
       "       GISDatum   elev  method_code  mpc  mpc_value  uncertainty qualifiers  \n",
       "202437    WGS84  132.0        574.0  1.0       0.05          NaN        NaN  \n",
       "202438    WGS84  132.0        574.0  1.0       0.05          NaN        NaN  \n",
       "202439    WGS84  132.0        574.0  1.0       0.05          NaN        NaN  \n",
       "202440    WGS84  132.0        574.0  1.0       0.05          NaN        NaN  \n",
       "202441    WGS84  132.0        574.0  1.0       0.05          NaN        NaN  "
      ]
     },
     "execution_count": 6,
     "metadata": {},
     "output_type": "execute_result"
    }
   ],
   "source": [
    "filename = 'Fairbanks_criteria_pollutants.txt'\n",
    "df_full = pd.read_csv(filename, parse_dates=[3])\n",
    "df_full.dropna(subset=['datetime'], inplace=True)\n",
    "df_full.tail()"
   ]
  },
  {
   "cell_type": "code",
   "execution_count": 7,
   "metadata": {},
   "outputs": [],
   "source": [
    "df_full['pollutant'] = df_full.apply(name_pollutant, axis=1)"
   ]
  },
  {
   "cell_type": "code",
   "execution_count": 8,
   "metadata": {},
   "outputs": [
    {
     "data": {
      "text/plain": [
       "0                          Ozone\n",
       "1                          Ozone\n",
       "2                          Ozone\n",
       "3                          Ozone\n",
       "4                          Ozone\n",
       "5                          Ozone\n",
       "6                          Ozone\n",
       "7                          Ozone\n",
       "8                          Ozone\n",
       "9                          Ozone\n",
       "10                         Ozone\n",
       "11                         Ozone\n",
       "12                         Ozone\n",
       "13                         Ozone\n",
       "14                         Ozone\n",
       "15                         Ozone\n",
       "16                         Ozone\n",
       "17                         Ozone\n",
       "18                         Ozone\n",
       "19                         Ozone\n",
       "20                         Ozone\n",
       "21                         Ozone\n",
       "22                         Ozone\n",
       "23                         Ozone\n",
       "24                         Ozone\n",
       "25                         Ozone\n",
       "26                         Ozone\n",
       "27                         Ozone\n",
       "28                         Ozone\n",
       "29                         Ozone\n",
       "                   ...          \n",
       "202412    Nitrogen dioxide (NO2)\n",
       "202413    Nitrogen dioxide (NO2)\n",
       "202414    Nitrogen dioxide (NO2)\n",
       "202415    Nitrogen dioxide (NO2)\n",
       "202416    Nitrogen dioxide (NO2)\n",
       "202417    Nitrogen dioxide (NO2)\n",
       "202418    Nitrogen dioxide (NO2)\n",
       "202419    Nitrogen dioxide (NO2)\n",
       "202420    Nitrogen dioxide (NO2)\n",
       "202421    Nitrogen dioxide (NO2)\n",
       "202422    Nitrogen dioxide (NO2)\n",
       "202423    Nitrogen dioxide (NO2)\n",
       "202424    Nitrogen dioxide (NO2)\n",
       "202425    Nitrogen dioxide (NO2)\n",
       "202426    Nitrogen dioxide (NO2)\n",
       "202427    Nitrogen dioxide (NO2)\n",
       "202428    Nitrogen dioxide (NO2)\n",
       "202429    Nitrogen dioxide (NO2)\n",
       "202430    Nitrogen dioxide (NO2)\n",
       "202431    Nitrogen dioxide (NO2)\n",
       "202432    Nitrogen dioxide (NO2)\n",
       "202433    Nitrogen dioxide (NO2)\n",
       "202434    Nitrogen dioxide (NO2)\n",
       "202435    Nitrogen dioxide (NO2)\n",
       "202436    Nitrogen dioxide (NO2)\n",
       "202437    Nitrogen dioxide (NO2)\n",
       "202438    Nitrogen dioxide (NO2)\n",
       "202439    Nitrogen dioxide (NO2)\n",
       "202440    Nitrogen dioxide (NO2)\n",
       "202441    Nitrogen dioxide (NO2)\n",
       "Name: pollutant, Length: 202442, dtype: object"
      ]
     },
     "execution_count": 8,
     "metadata": {},
     "output_type": "execute_result"
    }
   ],
   "source": [
    "df_full.pollutant"
   ]
  },
  {
   "cell_type": "code",
   "execution_count": 9,
   "metadata": {},
   "outputs": [
    {
     "data": {
      "text/plain": [
       "'PM10 Total 0-10um STP'"
      ]
     },
     "execution_count": 9,
     "metadata": {},
     "output_type": "execute_result"
    }
   ],
   "source": [
    "paramsDict[81102]"
   ]
  },
  {
   "cell_type": "code",
   "execution_count": 10,
   "metadata": {},
   "outputs": [],
   "source": [
    "df_pm = df_full.loc[df_full.parameter > 80000]"
   ]
  },
  {
   "cell_type": "code",
   "execution_count": 11,
   "metadata": {},
   "outputs": [
    {
     "name": "stderr",
     "output_type": "stream",
     "text": [
      "C:\\Users\\nmohamed\\AppData\\Local\\Continuum\\Anaconda3\\lib\\site-packages\\ipykernel_launcher.py:3: SettingWithCopyWarning: \n",
      "A value is trying to be set on a copy of a slice from a DataFrame\n",
      "\n",
      "See the caveats in the documentation: http://pandas.pydata.org/pandas-docs/stable/indexing.html#indexing-view-versus-copy\n",
      "  This is separate from the ipykernel package so we can avoid doing imports until\n"
     ]
    }
   ],
   "source": [
    "df_pm.parameter.describe()\n",
    "df_pm.index = df_pm.datetime\n",
    "df_pm.sort_index(inplace = True)"
   ]
  },
  {
   "cell_type": "code",
   "execution_count": 12,
   "metadata": {},
   "outputs": [
    {
     "data": {
      "text/plain": [
       "<matplotlib.axes._subplots.AxesSubplot at 0x201c2dd4eb8>"
      ]
     },
     "execution_count": 12,
     "metadata": {},
     "output_type": "execute_result"
    },
    {
     "data": {
      "image/png": "[encoded data removed]",
      "text/plain": [
       "<matplotlib.figure.Figure at 0x201c3066390>"
      ]
     },
     "metadata": {},
     "output_type": "display_data"
    }
   ],
   "source": [
    "df_pm.value.plot()"
   ]
  },
  {
   "cell_type": "code",
   "execution_count": 13,
   "metadata": {},
   "outputs": [
    {
     "name": "stderr",
     "output_type": "stream",
     "text": [
      "C:\\Users\\nmohamed\\AppData\\Local\\Continuum\\Anaconda3\\lib\\site-packages\\ipykernel_launcher.py:1: SettingWithCopyWarning: \n",
      "A value is trying to be set on a copy of a slice from a DataFrame.\n",
      "Try using .loc[row_indexer,col_indexer] = value instead\n",
      "\n",
      "See the caveats in the documentation: http://pandas.pydata.org/pandas-docs/stable/indexing.html#indexing-view-versus-copy\n",
      "  \"\"\"Entry point for launching an IPython kernel.\n"
     ]
    },
    {
     "data": {
      "text/plain": [
       "<matplotlib.axes._subplots.AxesSubplot at 0x201c1420f98>"
      ]
     },
     "execution_count": 13,
     "metadata": {},
     "output_type": "execute_result"
    },
    {
     "data": {
      "image/png": "[encoded data removed]",
      "text/plain": [
       "<matplotlib.figure.Figure at 0x201c60ef860>"
      ]
     },
     "metadata": {},
     "output_type": "display_data"
    }
   ],
   "source": [
    "df_pm['doy'] = df_pm.index.dayofyear\n",
    "annual_mean = df_pm.groupby('doy').value.mean()\n",
    "annual_mean.plot()"
   ]
  },
  {
   "cell_type": "code",
   "execution_count": 14,
   "metadata": {},
   "outputs": [
    {
     "name": "stderr",
     "output_type": "stream",
     "text": [
      "C:\\Users\\nmohamed\\AppData\\Local\\Continuum\\Anaconda3\\lib\\site-packages\\ipykernel_launcher.py:1: SettingWithCopyWarning: \n",
      "A value is trying to be set on a copy of a slice from a DataFrame.\n",
      "Try using .loc[row_indexer,col_indexer] = value instead\n",
      "\n",
      "See the caveats in the documentation: http://pandas.pydata.org/pandas-docs/stable/indexing.html#indexing-view-versus-copy\n",
      "  \"\"\"Entry point for launching an IPython kernel.\n"
     ]
    },
    {
     "data": {
      "text/plain": [
       "<matplotlib.axes._subplots.AxesSubplot at 0x201c38c6710>"
      ]
     },
     "execution_count": 14,
     "metadata": {},
     "output_type": "execute_result"
    },
    {
     "data": {
      "image/png": "[encoded data removed]",
      "text/plain": [
       "<matplotlib.figure.Figure at 0x201c3616160>"
      ]
     },
     "metadata": {},
     "output_type": "display_data"
    }
   ],
   "source": [
    "df_pm['hour'] = df_pm.index.hour\n",
    "hourly_mean = df_pm.groupby('hour').value.mean()\n",
    "hourly_mean.plot()"
   ]
  },
  {
   "cell_type": "code",
   "execution_count": 15,
   "metadata": {
    "collapsed": true
   },
   "outputs": [],
   "source": [
    "def makeSeason(row):\n",
    "    month = row['month']\n",
    "    if month in [11,12,1,2]:\n",
    "        return 'Winter'\n",
    "    elif month in [5,6,7,8]:\n",
    "        return 'Summer'\n",
    "    elif month in [3,4]:\n",
    "        return 'Spring'\n",
    "    elif month in [9,10]:\n",
    "        return 'Fall'\n",
    "    \n",
    "def replace(group):\n",
    "    mean, std = group.mean(), group.std()\n",
    "    outliers = (group - mean).abs() > 2*std\n",
    "    group[outliers] = mean        # or \"group[~outliers].mean()\"\n",
    "    return group"
   ]
  },
  {
   "cell_type": "code",
   "execution_count": 16,
   "metadata": {},
   "outputs": [
    {
     "name": "stderr",
     "output_type": "stream",
     "text": [
      "C:\\Users\\nmohamed\\AppData\\Local\\Continuum\\Anaconda3\\lib\\site-packages\\ipykernel_launcher.py:1: SettingWithCopyWarning: \n",
      "A value is trying to be set on a copy of a slice from a DataFrame.\n",
      "Try using .loc[row_indexer,col_indexer] = value instead\n",
      "\n",
      "See the caveats in the documentation: http://pandas.pydata.org/pandas-docs/stable/indexing.html#indexing-view-versus-copy\n",
      "  \"\"\"Entry point for launching an IPython kernel.\n",
      "C:\\Users\\nmohamed\\AppData\\Local\\Continuum\\Anaconda3\\lib\\site-packages\\ipykernel_launcher.py:2: SettingWithCopyWarning: \n",
      "A value is trying to be set on a copy of a slice from a DataFrame.\n",
      "Try using .loc[row_indexer,col_indexer] = value instead\n",
      "\n",
      "See the caveats in the documentation: http://pandas.pydata.org/pandas-docs/stable/indexing.html#indexing-view-versus-copy\n",
      "  \n",
      "C:\\Users\\nmohamed\\AppData\\Local\\Continuum\\Anaconda3\\lib\\site-packages\\ipykernel_launcher.py:3: SettingWithCopyWarning: \n",
      "A value is trying to be set on a copy of a slice from a DataFrame.\n",
      "Try using .loc[row_indexer,col_indexer] = value instead\n",
      "\n",
      "See the caveats in the documentation: http://pandas.pydata.org/pandas-docs/stable/indexing.html#indexing-view-versus-copy\n",
      "  This is separate from the ipykernel package so we can avoid doing imports until\n"
     ]
    }
   ],
   "source": [
    "df_pm['month'] = df_pm.index.month\n",
    "df_pm['season'] = df_pm.apply(makeSeason, axis=1)\n",
    "df_pm['filtVal'] = df_pm.groupby('season').value.transform(replace)"
   ]
  },
  {
   "cell_type": "code",
   "execution_count": 17,
   "metadata": {
    "collapsed": true
   },
   "outputs": [],
   "source": [
    "winter = df_pm.loc[df_pm.season == 'Winter']\n",
    "winter_daily = winter.groupby('hour').filtVal.mean()\n",
    "\n",
    "spring = df_pm.loc[df_pm.season == 'Spring']\n",
    "spring_daily = spring.groupby('hour').filtVal.mean()\n",
    "\n",
    "summer = df_pm.loc[df_pm.season == 'Summer']\n",
    "summer_daily = summer.groupby('hour').filtVal.mean()\n",
    "\n",
    "fall = df_pm.loc[df_pm.season == 'Fall']\n",
    "fall_daily = fall.groupby('hour').filtVal.mean()"
   ]
  },
  {
   "cell_type": "code",
   "execution_count": 18,
   "metadata": {},
   "outputs": [
    {
     "data": {
      "text/plain": [
       "<matplotlib.legend.Legend at 0x201c365a908>"
      ]
     },
     "execution_count": 18,
     "metadata": {},
     "output_type": "execute_result"
    },
    {
     "data": {
      "image/png": "[encoded data removed]",
      "text/plain": [
       "<matplotlib.figure.Figure at 0x201c365a6d8>"
      ]
     },
     "metadata": {},
     "output_type": "display_data"
    }
   ],
   "source": [
    "y_label = unitsDict[winter.unit[0]]\n",
    "plt.figure()\n",
    "winter_daily.plot(label='Winter')\n",
    "spring_daily.plot(label='Spring')\n",
    "summer_daily.plot(label='Summer')\n",
    "fall_daily.plot(label='Fall') \n",
    "plt.ylabel(y_label)\n",
    "plt.legend(bbox_to_anchor=(1.31, 1.03))\n",
    "#plt.legend()"
   ]
  },
  {
   "cell_type": "code",
   "execution_count": 19,
   "metadata": {},
   "outputs": [
    {
     "name": "stderr",
     "output_type": "stream",
     "text": [
      "'ls' is not recognized as an internal or external command,\n",
      "operable program or batch file.\n"
     ]
    }
   ],
   "source": [
    "!ls"
   ]
  },
  {
   "cell_type": "code",
   "execution_count": null,
   "metadata": {},
   "outputs": [
    {
     "name": "stderr",
     "output_type": "stream",
     "text": [
      "C:\\Users\\nmohamed\\AppData\\Local\\Continuum\\Anaconda3\\lib\\site-packages\\IPython\\core\\interactiveshell.py:2717: DtypeWarning: Columns (0,19) have mixed types. Specify dtype option on import or set low_memory=False.\n",
      "  interactivity=interactivity, compiler=compiler, result=result)\n"
     ]
    },
    {
     "data": {
      "text/html": [
       "<div>\n",
       "<style>\n",
       "    .dataframe thead tr:only-child th {\n",
       "        text-align: right;\n",
       "    }\n",
       "\n",
       "    .dataframe thead th {\n",
       "        text-align: left;\n",
       "    }\n",
       "\n",
       "    .dataframe tbody tr th {\n",
       "        vertical-align: top;\n",
       "    }\n",
       "</style>\n",
       "<table border=\"1\" class=\"dataframe\">\n",
       "  <thead>\n",
       "    <tr style=\"text-align: right;\">\n",
       "      <th></th>\n",
       "      <th>site</th>\n",
       "      <th>data_status</th>\n",
       "      <th>action_code</th>\n",
       "      <th>datetime</th>\n",
       "      <th>parameter</th>\n",
       "      <th>duration</th>\n",
       "      <th>frequency</th>\n",
       "      <th>value</th>\n",
       "      <th>unit</th>\n",
       "      <th>qc</th>\n",
       "      <th>poc</th>\n",
       "      <th>lat</th>\n",
       "      <th>lon</th>\n",
       "      <th>GISDatum</th>\n",
       "      <th>elev</th>\n",
       "      <th>method_code</th>\n",
       "      <th>mpc</th>\n",
       "      <th>mpc_value</th>\n",
       "      <th>uncertainty</th>\n",
       "      <th>qualifiers</th>\n",
       "    </tr>\n",
       "  </thead>\n",
       "  <tbody>\n",
       "    <tr>\n",
       "      <th>384452</th>\n",
       "      <td>840020900034</td>\n",
       "      <td>1.0</td>\n",
       "      <td>10.0</td>\n",
       "      <td>2016-07-03 22:00:00</td>\n",
       "      <td>42602.0</td>\n",
       "      <td>60.0</td>\n",
       "      <td>0.0</td>\n",
       "      <td>0.6</td>\n",
       "      <td>8.0</td>\n",
       "      <td>0.0</td>\n",
       "      <td>1.0</td>\n",
       "      <td>64.84569</td>\n",
       "      <td>-147.727413</td>\n",
       "      <td>WGS84</td>\n",
       "      <td>132.0</td>\n",
       "      <td>574.0</td>\n",
       "      <td>1.0</td>\n",
       "      <td>0.05</td>\n",
       "      <td>NaN</td>\n",
       "      <td>NaN</td>\n",
       "    </tr>\n",
       "    <tr>\n",
       "      <th>384453</th>\n",
       "      <td>840020900034</td>\n",
       "      <td>1.0</td>\n",
       "      <td>10.0</td>\n",
       "      <td>2016-07-13 22:00:00</td>\n",
       "      <td>42602.0</td>\n",
       "      <td>60.0</td>\n",
       "      <td>0.0</td>\n",
       "      <td>1.9</td>\n",
       "      <td>8.0</td>\n",
       "      <td>0.0</td>\n",
       "      <td>1.0</td>\n",
       "      <td>64.84569</td>\n",
       "      <td>-147.727413</td>\n",
       "      <td>WGS84</td>\n",
       "      <td>132.0</td>\n",
       "      <td>574.0</td>\n",
       "      <td>1.0</td>\n",
       "      <td>0.05</td>\n",
       "      <td>NaN</td>\n",
       "      <td>NaN</td>\n",
       "    </tr>\n",
       "    <tr>\n",
       "      <th>384454</th>\n",
       "      <td>840020900034</td>\n",
       "      <td>1.0</td>\n",
       "      <td>10.0</td>\n",
       "      <td>2016-07-20 22:00:00</td>\n",
       "      <td>42602.0</td>\n",
       "      <td>60.0</td>\n",
       "      <td>0.0</td>\n",
       "      <td>0.3</td>\n",
       "      <td>8.0</td>\n",
       "      <td>0.0</td>\n",
       "      <td>1.0</td>\n",
       "      <td>64.84569</td>\n",
       "      <td>-147.727413</td>\n",
       "      <td>WGS84</td>\n",
       "      <td>132.0</td>\n",
       "      <td>574.0</td>\n",
       "      <td>1.0</td>\n",
       "      <td>0.05</td>\n",
       "      <td>NaN</td>\n",
       "      <td>NaN</td>\n",
       "    </tr>\n",
       "    <tr>\n",
       "      <th>384455</th>\n",
       "      <td>840020900034</td>\n",
       "      <td>1.0</td>\n",
       "      <td>10.0</td>\n",
       "      <td>2016-09-12 22:00:00</td>\n",
       "      <td>42602.0</td>\n",
       "      <td>60.0</td>\n",
       "      <td>0.0</td>\n",
       "      <td>8.8</td>\n",
       "      <td>8.0</td>\n",
       "      <td>0.0</td>\n",
       "      <td>1.0</td>\n",
       "      <td>64.84569</td>\n",
       "      <td>-147.727413</td>\n",
       "      <td>WGS84</td>\n",
       "      <td>132.0</td>\n",
       "      <td>574.0</td>\n",
       "      <td>1.0</td>\n",
       "      <td>0.05</td>\n",
       "      <td>NaN</td>\n",
       "      <td>NaN</td>\n",
       "    </tr>\n",
       "    <tr>\n",
       "      <th>384456</th>\n",
       "      <td>840020900034</td>\n",
       "      <td>1.0</td>\n",
       "      <td>10.0</td>\n",
       "      <td>2016-09-20 22:00:00</td>\n",
       "      <td>42602.0</td>\n",
       "      <td>60.0</td>\n",
       "      <td>0.0</td>\n",
       "      <td>11.9</td>\n",
       "      <td>8.0</td>\n",
       "      <td>0.0</td>\n",
       "      <td>1.0</td>\n",
       "      <td>64.84569</td>\n",
       "      <td>-147.727413</td>\n",
       "      <td>WGS84</td>\n",
       "      <td>132.0</td>\n",
       "      <td>574.0</td>\n",
       "      <td>1.0</td>\n",
       "      <td>0.05</td>\n",
       "      <td>NaN</td>\n",
       "      <td>NaN</td>\n",
       "    </tr>\n",
       "  </tbody>\n",
       "</table>\n",
       "</div>"
      ],
      "text/plain": [
       "                site  data_status  action_code            datetime  parameter  \\\n",
       "384452  840020900034          1.0         10.0 2016-07-03 22:00:00    42602.0   \n",
       "384453  840020900034          1.0         10.0 2016-07-13 22:00:00    42602.0   \n",
       "384454  840020900034          1.0         10.0 2016-07-20 22:00:00    42602.0   \n",
       "384455  840020900034          1.0         10.0 2016-09-12 22:00:00    42602.0   \n",
       "384456  840020900034          1.0         10.0 2016-09-20 22:00:00    42602.0   \n",
       "\n",
       "        duration  frequency  value  unit   qc  poc       lat         lon  \\\n",
       "384452      60.0        0.0    0.6   8.0  0.0  1.0  64.84569 -147.727413   \n",
       "384453      60.0        0.0    1.9   8.0  0.0  1.0  64.84569 -147.727413   \n",
       "384454      60.0        0.0    0.3   8.0  0.0  1.0  64.84569 -147.727413   \n",
       "384455      60.0        0.0    8.8   8.0  0.0  1.0  64.84569 -147.727413   \n",
       "384456      60.0        0.0   11.9   8.0  0.0  1.0  64.84569 -147.727413   \n",
       "\n",
       "       GISDatum   elev  method_code  mpc  mpc_value  uncertainty qualifiers  \n",
       "384452    WGS84  132.0        574.0  1.0       0.05          NaN        NaN  \n",
       "384453    WGS84  132.0        574.0  1.0       0.05          NaN        NaN  \n",
       "384454    WGS84  132.0        574.0  1.0       0.05          NaN        NaN  \n",
       "384455    WGS84  132.0        574.0  1.0       0.05          NaN        NaN  \n",
       "384456    WGS84  132.0        574.0  1.0       0.05          NaN        NaN  "
      ]
     },
     "execution_count": 20,
     "metadata": {},
     "output_type": "execute_result"
    }
   ],
   "source": [
    "filename2 = 'Fairbanks_winddata.txt'\n",
    "df2 = pd.read_csv(filename2, parse_dates=[3])\n",
    "df2.dropna(subset=['datetime'], inplace=True)\n",
    "df2.tail()"
   ]
  },
  {
   "cell_type": "code",
   "execution_count": null,
   "metadata": {},
   "outputs": [],
   "source": [
    "df2.index = df2.datetime\n",
    "df2.sort_index(inplace=True)\n",
    "\n",
    "df2['doy'] = df2.index.dayofyear\n",
    "df2['hour'] = df2.index.hour\n",
    "df2['month'] = df2.index.month\n",
    "df2['season'] = df2.apply(makeSeason, axis=1)"
   ]
  },
  {
   "cell_type": "code",
   "execution_count": null,
   "metadata": {},
   "outputs": [],
   "source": [
    "paramsList = []\n",
    "for i, row in df2.iterrows():\n",
    "    if row.parameter not in paramsList:\n",
    "        paramsList.append(row.parameter)"
   ]
  },
  {
   "cell_type": "code",
   "execution_count": null,
   "metadata": {},
   "outputs": [],
   "source": [
    "for item in paramsList:\n",
    "    print(str(item)+\": \"+paramsDict[item])"
   ]
  },
  {
   "cell_type": "code",
   "execution_count": null,
   "metadata": {
    "collapsed": true
   },
   "outputs": [],
   "source": [
    "df_pm25 = df2.loc[df2.parameter == 88501]"
   ]
  },
  {
   "cell_type": "code",
   "execution_count": null,
   "metadata": {},
   "outputs": [],
   "source": [
    "df_pm25.index = df_pm25.datetime\n",
    "df_pm25.sort_index(inplace=True)"
   ]
  },
  {
   "cell_type": "code",
   "execution_count": null,
   "metadata": {},
   "outputs": [],
   "source": [
    "df_pm25.value.plot()"
   ]
  },
  {
   "cell_type": "code",
   "execution_count": null,
   "metadata": {},
   "outputs": [],
   "source": [
    "annual_mean = df_pm25.groupby('doy').value.mean()\n",
    "annual_mean.plot()"
   ]
  },
  {
   "cell_type": "code",
   "execution_count": null,
   "metadata": {},
   "outputs": [],
   "source": [
    "hourly_mean = df_pm25.groupby('hour').value.mean()\n",
    "hourly_mean.plot()"
   ]
  },
  {
   "cell_type": "code",
   "execution_count": null,
   "metadata": {},
   "outputs": [],
   "source": [
    "df_pm25['filtVal'] = df_pm25.groupby('season').value.transform(replace)"
   ]
  },
  {
   "cell_type": "code",
   "execution_count": null,
   "metadata": {},
   "outputs": [],
   "source": [
    "winter = df_pm25.loc[df_pm25.season == 'Winter']\n",
    "winter_daily = winter.groupby('hour').filtVal.mean()\n",
    "\n",
    "spring = df_pm25.loc[df_pm25.season == 'Spring']\n",
    "spring_daily = spring.groupby('hour').filtVal.mean()\n",
    "\n",
    "summer = df_pm25.loc[df_pm25.season == 'Summer']\n",
    "summer_daily = summer.groupby('hour').filtVal.mean()\n",
    "\n",
    "fall = df_pm25.loc[df_pm25.season == 'Fall']\n",
    "fall_daily = fall.groupby('hour').filtVal.mean()"
   ]
  },
  {
   "cell_type": "code",
   "execution_count": null,
   "metadata": {},
   "outputs": [],
   "source": [
    "y_label = unitsDict[winter.unit[0]]\n",
    "plt.figure()\n",
    "winter_daily.plot(label='Winter')\n",
    "spring_daily.plot(label='Spring')\n",
    "summer_daily.plot(label='Summer')\n",
    "fall_daily.plot(label='Fall') \n",
    "plt.title(\"PM 2.5 per Season\")\n",
    "plt.ylabel(y_label)\n",
    "plt.legend(bbox_to_anchor=(1.31, 1.03))\n",
    "#plt.legend()"
   ]
  },
  {
   "cell_type": "markdown",
   "metadata": {},
   "source": [
    "61103.0: Wind Speed - Resultant\n",
    "61104.0: Wind Direction - Resultant"
   ]
  },
  {
   "cell_type": "code",
   "execution_count": null,
   "metadata": {},
   "outputs": [],
   "source": [
    "dfwSpeed = df2.loc[df2.parameter == 61103]\n",
    "dfwDir = df2.loc[df2.parameter == 61104]\n",
    "df_co = df2.loc[df2.parameter == 42101]\n",
    "df_nox = df2.loc[df2.parameter == 42603]\n",
    "df_pm10 = df2.loc[df2.parameter == 81102]\n",
    "df_temp = df2.loc[df2.parameter == 62101]"
   ]
  },
  {
   "cell_type": "code",
   "execution_count": null,
   "metadata": {},
   "outputs": [],
   "source": [
    "df_wind = pd.DataFrame({'speed': dfwSpeed.value, 'direction': dfwDir.value, 'pm25': df_pm25.filtVal})\n",
    "df_wind.index = df_wind.speed"
   ]
  },
  {
   "cell_type": "code",
   "execution_count": null,
   "metadata": {},
   "outputs": [],
   "source": [
    "plot_windrose(df_wind, kind='contour', bins=np.arange(0.01,8,1), cmap=cm.hot, lw=3)"
   ]
  },
  {
   "cell_type": "code",
   "execution_count": null,
   "metadata": {},
   "outputs": [],
   "source": [
    "plot_windrose(df_wind, var_name = 'pm25', kind='contourf', bins=np.arange(0.01,55,5), cmap=cm.hot, lw=3)"
   ]
  },
  {
   "cell_type": "code",
   "execution_count": null,
   "metadata": {},
   "outputs": [],
   "source": [
    "df_wind.describe()"
   ]
  },
  {
   "cell_type": "code",
   "execution_count": null,
   "metadata": {},
   "outputs": [],
   "source": [
    "df_wind.tail()"
   ]
  },
  {
   "cell_type": "code",
   "execution_count": null,
   "metadata": {},
   "outputs": [],
   "source": [
    "# https://www.ncbi.nlm.nih.gov/pmc/articles/PMC4385435/ and psccleanair.org as sources\n",
    "\n",
    "wood_stove_emissions = (winter_daily - summer_daily)\n",
    "epa_cert_co = (.2*97)/(.8*244) # 20% households have certified stoves\n",
    "                        \n",
    "with_approved_stoves = (wood_stove_emissions* (1-epa_cert_co)) * (97/244) +  summer_daily"
   ]
  },
  {
   "cell_type": "code",
   "execution_count": null,
   "metadata": {
    "collapsed": true
   },
   "outputs": [],
   "source": [
    "epa_cert_co = (.2*97)/(.8*244) # 20% households have certified stoves"
   ]
  },
  {
   "cell_type": "code",
   "execution_count": null,
   "metadata": {},
   "outputs": [],
   "source": [
    "plt.figure()\n",
    "winter_daily.plot(label='Winter (with current stoves)')\n",
    "with_approved_stoves.plot(label = 'Winter (with EPA approved stoves)')\n",
    "summer_daily.plot(label = 'Summer Levels')\n",
    "y_label = unitsDict[winter.unit[0]]\n",
    "plt.ylabel(y_label)\n",
    "plt.legend(bbox_to_anchor=(1.8, 1.03))"
   ]
  },
  {
   "cell_type": "code",
   "execution_count": null,
   "metadata": {},
   "outputs": [],
   "source": [
    ".332 *.8"
   ]
  },
  {
   "cell_type": "code",
   "execution_count": null,
   "metadata": {},
   "outputs": [],
   "source": [
    "(.2*97)/(.8*244)"
   ]
  },
  {
   "cell_type": "code",
   "execution_count": null,
   "metadata": {},
   "outputs": [],
   "source": [
    "df_pm25.filtVal.describe()"
   ]
  },
  {
   "cell_type": "code",
   "execution_count": null,
   "metadata": {},
   "outputs": [],
   "source": [
    "df_co.index = df_co.datetime\n",
    "df_co.sort_index(inplace=True)\n",
    "df_co['filtVal'] = df_co.groupby('season').value.transform(replace)\n",
    "\n",
    "winter_co = df_co.loc[df_co.season == 'Winter']\n",
    "winter_daily_co = winter_co.groupby('hour').filtVal.mean()\n",
    "\n",
    "spring_co = df_co.loc[df_co.season == 'Spring']\n",
    "spring_daily_co = spring_co.groupby('hour').filtVal.mean()\n",
    "\n",
    "summer_co = df_co.loc[df_co.season == 'Summer']\n",
    "summer_daily_co = summer_co.groupby('hour').filtVal.mean()\n",
    "\n",
    "fall_co = df_co.loc[df_co.season == 'Fall']\n",
    "fall_daily_co = fall_co.groupby('hour').filtVal.mean()"
   ]
  },
  {
   "cell_type": "code",
   "execution_count": null,
   "metadata": {},
   "outputs": [],
   "source": [
    "y_label = unitsDict[winter_co.unit[0]]\n",
    "plt.figure()\n",
    "winter_daily_co.plot(label='Winter')\n",
    "spring_daily_co.plot(label='Spring')\n",
    "summer_daily_co.plot(label='Summer')\n",
    "fall_daily_co.plot(label='Fall') \n",
    "plt.title(\"CO Concentration per Season\")\n",
    "plt.ylabel(y_label)\n",
    "plt.legend(bbox_to_anchor=(1.31, 1.03))"
   ]
  },
  {
   "cell_type": "code",
   "execution_count": null,
   "metadata": {},
   "outputs": [],
   "source": [
    "winter_co.index"
   ]
  },
  {
   "cell_type": "code",
   "execution_count": null,
   "metadata": {},
   "outputs": [],
   "source": [
    "y_label_pm = unitsDict[winter.unit[0]]\n",
    "y_label_co = unitsDict[winter_co.unit[0]]\n",
    "\n",
    "fig, ax1 = plt.subplots()\n",
    "\n",
    "pm_w = ax1.plot(winter_daily.index, winter_daily, 'b-', label = 'Winter PM 2.5')\n",
    "pm_s = ax1.plot(summer_daily.index, summer_daily, 'r-', label = 'Summer PM 2.5')\n",
    "ax1.set_xlabel('Hour of Day')\n",
    "ax1.set_ylabel(y_label_pm + ' (PM 2.5)')\n",
    "\n",
    "ax2 = ax1.twinx()\n",
    "#winter_daily_co.plot(label='Winter CO')\n",
    "#summer_daily_co.plot(label='Summer CO')\n",
    "co_w = ax2.plot(winter_daily_co.index, winter_daily_co, 'c-', label = 'Winter CO')\n",
    "co_s = ax2.plot(summer_daily_co.index, summer_daily_co, 'm-', label = 'Summer CO')\n",
    "ax2.set_ylabel(y_label_co + ' (CO)')\n",
    "\n",
    "lns = pm_w+ pm_s + co_w + co_s\n",
    "labs = [l.get_label() for l in lns]\n",
    "ax1.set_xlim(0, 24)\n",
    "ax2.set_xlim(0,24)\n",
    "plt.legend(lns, labs, bbox_to_anchor=(1.55, 1.03))\n",
    "\n",
    "plt.title(\"CO and PM 2.5 Concentration for Winter and Summer\")\n",
    "#plt.legend(bbox_to_anchor=(1.5, 1.03))"
   ]
  },
  {
   "cell_type": "markdown",
   "metadata": {},
   "source": [
    "Theta, R = np.meshgrid(df_wind.direction, df_wind.speed)\n",
    "C = np.sinc(Theta-2)+(5-np.sqrt(R))+np.random.rand(len(r),len(theta))\n",
    "C = np.ma.masked_less_equal(C,2)\n",
    "\n",
    "fig, ax = plt.subplots(subplot_kw={\"projection\":\"polar\"})\n",
    "\n",
    "ax.pcolormesh(Theta, R, C, vmin=2, vmax=5)\n",
    "\n",
    "plt.show()"
   ]
  },
  {
   "cell_type": "code",
   "execution_count": null,
   "metadata": {
    "collapsed": true
   },
   "outputs": [],
   "source": [
    "df_pm10.index = df_pm10.datetime\n",
    "df_pm10.sort_index(inplace=True)\n",
    "\n",
    "df_nox.index = df_nox.datetime\n",
    "df_nox.sort_index(inplace=True)\n",
    "\n",
    "df_co.index = df_co.datetime\n",
    "df_co.sort_index(inplace=True)\n",
    "\n",
    "dfwSpeed.index = dfwSpeed.datetime\n",
    "dfwSpeed.sort_index(inplace=True)\n",
    "\n",
    "dfwDir.index = dfwDir.datetime\n",
    "dfwSpeed.sort_index(inplace = True)"
   ]
  },
  {
   "cell_type": "code",
   "execution_count": null,
   "metadata": {
    "collapsed": true
   },
   "outputs": [],
   "source": [
    "d = {'date':df_pm25.datetime, 'ws': dfwSpeed.value, 'wd': dfwDir.value,\n",
    "    'pm25':df_pm25.filtVal, 'co':df_co.filtVal, 'nox':df_nox.value,\n",
    "    'pm10':df_pm10.value}\n",
    "\n",
    "df_to_save = pd.DataFrame(data = d)"
   ]
  },
  {
   "cell_type": "code",
   "execution_count": null,
   "metadata": {},
   "outputs": [],
   "source": [
    "df_to_save.head()"
   ]
  },
  {
   "cell_type": "code",
   "execution_count": null,
   "metadata": {},
   "outputs": [],
   "source": [
    "df_to_save.dropna(subset=['wd'], inplace=True)\n",
    "df_to_save.dropna(subset=['ws'], inplace=True)\n",
    "df_to_save.tail()"
   ]
  },
  {
   "cell_type": "code",
   "execution_count": null,
   "metadata": {},
   "outputs": [],
   "source": [
    "df_to_save.shape"
   ]
  },
  {
   "cell_type": "code",
   "execution_count": null,
   "metadata": {
    "collapsed": true
   },
   "outputs": [],
   "source": [
    "df_to_save.to_csv(\"fairbanks_windrose_data.csv\", columns = ['date', 'ws','wd','pm25','co','nox','pm10'])"
   ]
  },
  {
   "cell_type": "code",
   "execution_count": null,
   "metadata": {},
   "outputs": [],
   "source": [
    "df_nox"
   ]
  },
  {
   "cell_type": "code",
   "execution_count": null,
   "metadata": {},
   "outputs": [],
   "source": [
    "df_nox['filtVal'] = df_nox.groupby('season').value.transform(replace)\n",
    "\n",
    "winter_nox = df_nox.loc[df_nox.season == 'Winter']\n",
    "winter_daily_nox = winter_nox.groupby('hour').filtVal.mean()\n",
    "\n",
    "#spring_nox = df_nox.loc[df_nox.season == 'Spring']\n",
    "#spring_daily_nox = spring_nox.groupby('hour').filtVal.mean()\n",
    "\n",
    "summer_nox = df_nox.loc[df_nox.season == 'Summer']\n",
    "summer_daily_nox = summer_nox.groupby('hour').filtVal.mean()\n",
    "\n",
    "#fall_nox = df_nox.loc[df_co.season == 'Fall']\n",
    "#fall_daily_nox = fall_nox.groupby('hour').filtVal.mean()"
   ]
  },
  {
   "cell_type": "code",
   "execution_count": null,
   "metadata": {},
   "outputs": [],
   "source": [
    "y_label_pm = unitsDict[winter.unit[0]]\n",
    "y_label_nox = unitsDict[winter_nox.unit[0]]\n",
    "\n",
    "fig, ax1 = plt.subplots()\n",
    "\n",
    "pm_w = ax1.plot(winter_daily.index, winter_daily, 'b-', label = 'Winter PM 2.5')\n",
    "pm_s = ax1.plot(summer_daily.index, summer_daily, 'r-', label = 'Summer PM 2.5')\n",
    "ax1.set_xlabel('Hour of Day')\n",
    "ax1.set_ylabel(y_label_pm + ' (PM 2.5)')\n",
    "\n",
    "ax2 = ax1.twinx()\n",
    "#winter_daily_co.plot(label='Winter CO')\n",
    "#summer_daily_co.plot(label='Summer CO')\n",
    "nox_w = ax2.plot(winter_daily_nox.index, winter_daily_nox, 'c-', label = 'Winter NOx')\n",
    "nox_s = ax2.plot(summer_daily_nox.index, summer_daily_nox, 'm-', label = 'Summer NOx')\n",
    "#co_w = ax2.plot(winter_daily_co.index, winter_daily_co, 'g-', label = 'Winter CO')\n",
    "#co_s = ax2.plot(summer_daily_co.index, summer_daily_co, 'b-', label = 'Summer CO')\n",
    "ax2.set_ylabel(y_label_nox + ' (NOx)')\n",
    "\n",
    "lns = pm_w+ pm_s + nox_w + nox_s# + co_w + co_s\n",
    "labs = [l.get_label() for l in lns]\n",
    "ax1.set_xlim(0, 24)\n",
    "ax2.set_xlim(0,24)\n",
    "plt.legend(lns, labs, bbox_to_anchor=(1.55, 1.03))\n",
    "\n",
    "plt.title(\"NOx and PM 2.5 Concentration for Winter and Summer\")"
   ]
  },
  {
   "cell_type": "code",
   "execution_count": null,
   "metadata": {
    "collapsed": true
   },
   "outputs": [],
   "source": []
  }
 ],
 "metadata": {
  "anaconda-cloud": {},
  "kernelspec": {
   "display_name": "Python 3",
   "language": "python",
   "name": "python3"
  },
  "language_info": {
   "codemirror_mode": {
    "name": "ipython",
    "version": 3
   },
   "file_extension": ".py",
   "mimetype": "text/x-python",
   "name": "python",
   "nbconvert_exporter": "python",
   "pygments_lexer": "ipython3",
   "version": "3.6.1"
  }
 },
 "nbformat": 4,
 "nbformat_minor": 1
}
