{
 "cells": [
  {
   "cell_type": "code",
   "execution_count": 5,
   "metadata": {
    "collapsed": true
   },
   "outputs": [],
   "source": [
    "%matplotlib inline\n",
    "\n",
    "import numpy as np\n",
    "import pandas as pd\n",
    "from matplotlib import pyplot as plt\n",
    "import matplotlib.cm as cm"
   ]
  },
  {
   "cell_type": "code",
   "execution_count": 6,
   "metadata": {
    "collapsed": false
   },
   "outputs": [
    {
     "name": "stdout",
     "output_type": "stream",
     "text": [
      "codeConversions\t\t\t   Fairbanks_winddata.txt\tREADME.md\r\n",
      "Fairbanks_criteria_pollutants.txt  fairbanks_windrose_data.csv\r\n",
      "Fairbanks_frequency.pdf\t\t   FormatReader.ipynb\r\n"
     ]
    }
   ],
   "source": [
    "!ls"
   ]
  },
  {
   "cell_type": "code",
   "execution_count": 7,
   "metadata": {
    "collapsed": true
   },
   "outputs": [],
   "source": [
    "unitsTab = pd.read_csv('codeConversions/units.csv')\n",
    "unitsTab.index = unitsTab['Unit Code']\n",
    "unitsDict = unitsTab.to_dict()['Units']\n",
    "\n",
    "paramsTab = pd.read_csv('codeConversions/parameters.csv')\n",
    "paramsTab.index = paramsTab['Parameter Code']\n",
    "paramsDict = paramsTab.to_dict()['Parameter']"
   ]
  },
  {
   "cell_type": "code",
   "execution_count": 8,
   "metadata": {
    "collapsed": true
   },
   "outputs": [],
   "source": [
    "def name_pollutant(row):\n",
    "    try: name = paramsDict[int(row.parameter)]\n",
    "    except KeyError:\n",
    "        name = 'Unknown'\n",
    "    return name"
   ]
  },
  {
   "cell_type": "code",
   "execution_count": 9,
   "metadata": {
    "collapsed": false,
    "scrolled": true
   },
   "outputs": [
    {
     "name": "stderr",
     "output_type": "stream",
     "text": [
      "/home/kaitlyn/anaconda3/lib/python3.5/site-packages/IPython/core/interactiveshell.py:2717: DtypeWarning: Columns (0,19) have mixed types. Specify dtype option on import or set low_memory=False.\n",
      "  interactivity=interactivity, compiler=compiler, result=result)\n"
     ]
    },
    {
     "data": {
      "text/html": [
       "<div>\n",
       "<table border=\"1\" class=\"dataframe\">\n",
       "  <thead>\n",
       "    <tr style=\"text-align: right;\">\n",
       "      <th></th>\n",
       "      <th>site</th>\n",
       "      <th>data_status</th>\n",
       "      <th>action_code</th>\n",
       "      <th>datetime</th>\n",
       "      <th>parameter</th>\n",
       "      <th>duration</th>\n",
       "      <th>frequency</th>\n",
       "      <th>value</th>\n",
       "      <th>unit</th>\n",
       "      <th>qc</th>\n",
       "      <th>poc</th>\n",
       "      <th>lat</th>\n",
       "      <th>lon</th>\n",
       "      <th>GISDatum</th>\n",
       "      <th>elev</th>\n",
       "      <th>method_code</th>\n",
       "      <th>mpc</th>\n",
       "      <th>mpc_value</th>\n",
       "      <th>uncertainty</th>\n",
       "      <th>qualifiers</th>\n",
       "    </tr>\n",
       "  </thead>\n",
       "  <tbody>\n",
       "    <tr>\n",
       "      <th>202437</th>\n",
       "      <td>840020900034</td>\n",
       "      <td>1.0</td>\n",
       "      <td>10.0</td>\n",
       "      <td>2016-05-09 16:00:00</td>\n",
       "      <td>42602.0</td>\n",
       "      <td>60.0</td>\n",
       "      <td>0.0</td>\n",
       "      <td>7.7</td>\n",
       "      <td>8.0</td>\n",
       "      <td>0.0</td>\n",
       "      <td>1.0</td>\n",
       "      <td>64.84569</td>\n",
       "      <td>-147.727413</td>\n",
       "      <td>WGS84</td>\n",
       "      <td>132.0</td>\n",
       "      <td>574.0</td>\n",
       "      <td>1.0</td>\n",
       "      <td>0.05</td>\n",
       "      <td>NaN</td>\n",
       "      <td>NaN</td>\n",
       "    </tr>\n",
       "    <tr>\n",
       "      <th>202438</th>\n",
       "      <td>840020900034</td>\n",
       "      <td>1.0</td>\n",
       "      <td>10.0</td>\n",
       "      <td>2016-05-18 16:00:00</td>\n",
       "      <td>42602.0</td>\n",
       "      <td>60.0</td>\n",
       "      <td>0.0</td>\n",
       "      <td>2.7</td>\n",
       "      <td>8.0</td>\n",
       "      <td>0.0</td>\n",
       "      <td>1.0</td>\n",
       "      <td>64.84569</td>\n",
       "      <td>-147.727413</td>\n",
       "      <td>WGS84</td>\n",
       "      <td>132.0</td>\n",
       "      <td>574.0</td>\n",
       "      <td>1.0</td>\n",
       "      <td>0.05</td>\n",
       "      <td>NaN</td>\n",
       "      <td>NaN</td>\n",
       "    </tr>\n",
       "    <tr>\n",
       "      <th>202439</th>\n",
       "      <td>840020900034</td>\n",
       "      <td>1.0</td>\n",
       "      <td>10.0</td>\n",
       "      <td>2016-05-19 16:00:00</td>\n",
       "      <td>42602.0</td>\n",
       "      <td>60.0</td>\n",
       "      <td>0.0</td>\n",
       "      <td>9.8</td>\n",
       "      <td>8.0</td>\n",
       "      <td>0.0</td>\n",
       "      <td>1.0</td>\n",
       "      <td>64.84569</td>\n",
       "      <td>-147.727413</td>\n",
       "      <td>WGS84</td>\n",
       "      <td>132.0</td>\n",
       "      <td>574.0</td>\n",
       "      <td>1.0</td>\n",
       "      <td>0.05</td>\n",
       "      <td>NaN</td>\n",
       "      <td>NaN</td>\n",
       "    </tr>\n",
       "    <tr>\n",
       "      <th>202440</th>\n",
       "      <td>840020900034</td>\n",
       "      <td>1.0</td>\n",
       "      <td>10.0</td>\n",
       "      <td>2016-05-30 16:00:00</td>\n",
       "      <td>42602.0</td>\n",
       "      <td>60.0</td>\n",
       "      <td>0.0</td>\n",
       "      <td>0.2</td>\n",
       "      <td>8.0</td>\n",
       "      <td>0.0</td>\n",
       "      <td>1.0</td>\n",
       "      <td>64.84569</td>\n",
       "      <td>-147.727413</td>\n",
       "      <td>WGS84</td>\n",
       "      <td>132.0</td>\n",
       "      <td>574.0</td>\n",
       "      <td>1.0</td>\n",
       "      <td>0.05</td>\n",
       "      <td>NaN</td>\n",
       "      <td>NaN</td>\n",
       "    </tr>\n",
       "    <tr>\n",
       "      <th>202441</th>\n",
       "      <td>840020900034</td>\n",
       "      <td>1.0</td>\n",
       "      <td>10.0</td>\n",
       "      <td>2016-06-02 16:00:00</td>\n",
       "      <td>42602.0</td>\n",
       "      <td>60.0</td>\n",
       "      <td>0.0</td>\n",
       "      <td>4.8</td>\n",
       "      <td>8.0</td>\n",
       "      <td>0.0</td>\n",
       "      <td>1.0</td>\n",
       "      <td>64.84569</td>\n",
       "      <td>-147.727413</td>\n",
       "      <td>WGS84</td>\n",
       "      <td>132.0</td>\n",
       "      <td>574.0</td>\n",
       "      <td>1.0</td>\n",
       "      <td>0.05</td>\n",
       "      <td>NaN</td>\n",
       "      <td>NaN</td>\n",
       "    </tr>\n",
       "  </tbody>\n",
       "</table>\n",
       "</div>"
      ],
      "text/plain": [
       "                site  data_status  action_code            datetime  parameter  \\\n",
       "202437  840020900034          1.0         10.0 2016-05-09 16:00:00    42602.0   \n",
       "202438  840020900034          1.0         10.0 2016-05-18 16:00:00    42602.0   \n",
       "202439  840020900034          1.0         10.0 2016-05-19 16:00:00    42602.0   \n",
       "202440  840020900034          1.0         10.0 2016-05-30 16:00:00    42602.0   \n",
       "202441  840020900034          1.0         10.0 2016-06-02 16:00:00    42602.0   \n",
       "\n",
       "        duration  frequency  value  unit   qc  poc       lat         lon  \\\n",
       "202437      60.0        0.0    7.7   8.0  0.0  1.0  64.84569 -147.727413   \n",
       "202438      60.0        0.0    2.7   8.0  0.0  1.0  64.84569 -147.727413   \n",
       "202439      60.0        0.0    9.8   8.0  0.0  1.0  64.84569 -147.727413   \n",
       "202440      60.0        0.0    0.2   8.0  0.0  1.0  64.84569 -147.727413   \n",
       "202441      60.0        0.0    4.8   8.0  0.0  1.0  64.84569 -147.727413   \n",
       "\n",
       "       GISDatum   elev  method_code  mpc  mpc_value  uncertainty qualifiers  \n",
       "202437    WGS84  132.0        574.0  1.0       0.05          NaN        NaN  \n",
       "202438    WGS84  132.0        574.0  1.0       0.05          NaN        NaN  \n",
       "202439    WGS84  132.0        574.0  1.0       0.05          NaN        NaN  \n",
       "202440    WGS84  132.0        574.0  1.0       0.05          NaN        NaN  \n",
       "202441    WGS84  132.0        574.0  1.0       0.05          NaN        NaN  "
      ]
     },
     "execution_count": 9,
     "metadata": {},
     "output_type": "execute_result"
    }
   ],
   "source": [
    "filename = 'Fairbanks_criteria_pollutants.txt'\n",
    "df_full = pd.read_csv(filename, parse_dates=[3])\n",
    "df_full.dropna(subset=['datetime'], inplace=True)\n",
    "df_full.tail()"
   ]
  },
  {
   "cell_type": "code",
   "execution_count": 10,
   "metadata": {
    "collapsed": true
   },
   "outputs": [],
   "source": [
    "df_full['pollutant'] = df_full.apply(name_pollutant, axis=1)"
   ]
  },
  {
   "cell_type": "code",
   "execution_count": 11,
   "metadata": {
    "collapsed": false
   },
   "outputs": [
    {
     "data": {
      "text/plain": [
       "0                          Ozone\n",
       "1                          Ozone\n",
       "2                          Ozone\n",
       "3                          Ozone\n",
       "4                          Ozone\n",
       "5                          Ozone\n",
       "6                          Ozone\n",
       "7                          Ozone\n",
       "8                          Ozone\n",
       "9                          Ozone\n",
       "10                         Ozone\n",
       "11                         Ozone\n",
       "12                         Ozone\n",
       "13                         Ozone\n",
       "14                         Ozone\n",
       "15                         Ozone\n",
       "16                         Ozone\n",
       "17                         Ozone\n",
       "18                         Ozone\n",
       "19                         Ozone\n",
       "20                         Ozone\n",
       "21                         Ozone\n",
       "22                         Ozone\n",
       "23                         Ozone\n",
       "24                         Ozone\n",
       "25                         Ozone\n",
       "26                         Ozone\n",
       "27                         Ozone\n",
       "28                         Ozone\n",
       "29                         Ozone\n",
       "                   ...          \n",
       "202412    Nitrogen dioxide (NO2)\n",
       "202413    Nitrogen dioxide (NO2)\n",
       "202414    Nitrogen dioxide (NO2)\n",
       "202415    Nitrogen dioxide (NO2)\n",
       "202416    Nitrogen dioxide (NO2)\n",
       "202417    Nitrogen dioxide (NO2)\n",
       "202418    Nitrogen dioxide (NO2)\n",
       "202419    Nitrogen dioxide (NO2)\n",
       "202420    Nitrogen dioxide (NO2)\n",
       "202421    Nitrogen dioxide (NO2)\n",
       "202422    Nitrogen dioxide (NO2)\n",
       "202423    Nitrogen dioxide (NO2)\n",
       "202424    Nitrogen dioxide (NO2)\n",
       "202425    Nitrogen dioxide (NO2)\n",
       "202426    Nitrogen dioxide (NO2)\n",
       "202427    Nitrogen dioxide (NO2)\n",
       "202428    Nitrogen dioxide (NO2)\n",
       "202429    Nitrogen dioxide (NO2)\n",
       "202430    Nitrogen dioxide (NO2)\n",
       "202431    Nitrogen dioxide (NO2)\n",
       "202432    Nitrogen dioxide (NO2)\n",
       "202433    Nitrogen dioxide (NO2)\n",
       "202434    Nitrogen dioxide (NO2)\n",
       "202435    Nitrogen dioxide (NO2)\n",
       "202436    Nitrogen dioxide (NO2)\n",
       "202437    Nitrogen dioxide (NO2)\n",
       "202438    Nitrogen dioxide (NO2)\n",
       "202439    Nitrogen dioxide (NO2)\n",
       "202440    Nitrogen dioxide (NO2)\n",
       "202441    Nitrogen dioxide (NO2)\n",
       "Name: pollutant, dtype: object"
      ]
     },
     "execution_count": 11,
     "metadata": {},
     "output_type": "execute_result"
    }
   ],
   "source": [
    "df_full.pollutant"
   ]
  },
  {
   "cell_type": "code",
   "execution_count": 12,
   "metadata": {
    "collapsed": false
   },
   "outputs": [
    {
     "data": {
      "text/plain": [
       "'PM10 Total 0-10um STP'"
      ]
     },
     "execution_count": 12,
     "metadata": {},
     "output_type": "execute_result"
    }
   ],
   "source": [
    "paramsDict[81102]"
   ]
  },
  {
   "cell_type": "code",
   "execution_count": 13,
   "metadata": {
    "collapsed": true
   },
   "outputs": [],
   "source": [
    "df_pm = df_full.loc[df_full.parameter > 80000]"
   ]
  },
  {
   "cell_type": "code",
   "execution_count": 14,
   "metadata": {
    "collapsed": false
   },
   "outputs": [
    {
     "name": "stderr",
     "output_type": "stream",
     "text": [
      "/home/kaitlyn/anaconda3/lib/python3.5/site-packages/ipykernel/__main__.py:3: SettingWithCopyWarning: \n",
      "A value is trying to be set on a copy of a slice from a DataFrame\n",
      "\n",
      "See the caveats in the documentation: http://pandas.pydata.org/pandas-docs/stable/indexing.html#indexing-view-versus-copy\n",
      "  app.launch_new_instance()\n"
     ]
    }
   ],
   "source": [
    "df_pm.parameter.describe()\n",
    "df_pm.index = df_pm.datetime\n",
    "df_pm.sort_index(inplace = True)"
   ]
  },
  {
   "cell_type": "code",
   "execution_count": 15,
   "metadata": {
    "collapsed": false
   },
   "outputs": [
    {
     "data": {
      "text/plain": [
       "<matplotlib.axes._subplots.AxesSubplot at 0x7f5024b40048>"
      ]
     },
     "execution_count": 15,
     "metadata": {},
     "output_type": "execute_result"
    },
    {
     "data": {
      "image/png": "[encoded data removed]",
      "text/plain": [
       "<matplotlib.figure.Figure at 0x7f5027f1c080>"
      ]
     },
     "metadata": {},
     "output_type": "display_data"
    }
   ],
   "source": [
    "df_pm.value.plot()"
   ]
  },
  {
   "cell_type": "code",
   "execution_count": 16,
   "metadata": {
    "collapsed": false
   },
   "outputs": [
    {
     "name": "stderr",
     "output_type": "stream",
     "text": [
      "/home/kaitlyn/anaconda3/lib/python3.5/site-packages/ipykernel/__main__.py:1: SettingWithCopyWarning: \n",
      "A value is trying to be set on a copy of a slice from a DataFrame.\n",
      "Try using .loc[row_indexer,col_indexer] = value instead\n",
      "\n",
      "See the caveats in the documentation: http://pandas.pydata.org/pandas-docs/stable/indexing.html#indexing-view-versus-copy\n",
      "  if __name__ == '__main__':\n"
     ]
    },
    {
     "data": {
      "text/plain": [
       "<matplotlib.axes._subplots.AxesSubplot at 0x7f505177e828>"
      ]
     },
     "execution_count": 16,
     "metadata": {},
     "output_type": "execute_result"
    },
    {
     "data": {
      "image/png": "[encoded data removed]",
      "text/plain": [
       "<matplotlib.figure.Figure at 0x7f50263fd438>"
      ]
     },
     "metadata": {},
     "output_type": "display_data"
    }
   ],
   "source": [
    "df_pm['doy'] = df_pm.index.dayofyear\n",
    "annual_mean = df_pm.groupby('doy').value.mean()\n",
    "annual_mean.plot()"
   ]
  },
  {
   "cell_type": "code",
   "execution_count": 17,
   "metadata": {
    "collapsed": false
   },
   "outputs": [
    {
     "name": "stderr",
     "output_type": "stream",
     "text": [
      "/home/kaitlyn/anaconda3/lib/python3.5/site-packages/ipykernel/__main__.py:1: SettingWithCopyWarning: \n",
      "A value is trying to be set on a copy of a slice from a DataFrame.\n",
      "Try using .loc[row_indexer,col_indexer] = value instead\n",
      "\n",
      "See the caveats in the documentation: http://pandas.pydata.org/pandas-docs/stable/indexing.html#indexing-view-versus-copy\n",
      "  if __name__ == '__main__':\n"
     ]
    },
    {
     "data": {
      "text/plain": [
       "<matplotlib.axes._subplots.AxesSubplot at 0x7f50269b6eb8>"
      ]
     },
     "execution_count": 17,
     "metadata": {},
     "output_type": "execute_result"
    },
    {
     "data": {
      "image/png": "[encoded data removed]",
      "text/plain": [
       "<matplotlib.figure.Figure at 0x7f5026a1dda0>"
      ]
     },
     "metadata": {},
     "output_type": "display_data"
    }
   ],
   "source": [
    "df_pm['hour'] = df_pm.index.hour\n",
    "hourly_mean = df_pm.groupby('hour').value.mean()\n",
    "hourly_mean.plot()"
   ]
  },
  {
   "cell_type": "code",
   "execution_count": 18,
   "metadata": {
    "collapsed": true
   },
   "outputs": [],
   "source": [
    "def makeSeason(row):\n",
    "    month = row['month']\n",
    "    if month in [11,12,1,2]:\n",
    "        return 'Winter'\n",
    "    elif month in [5,6,7,8]:\n",
    "        return 'Summer'\n",
    "    elif month in [3,4]:\n",
    "        return 'Spring'\n",
    "    elif month in [9,10]:\n",
    "        return 'Fall'\n",
    "    \n",
    "def replace(group):\n",
    "    mean, std = group.mean(), group.std()\n",
    "    outliers = (group - mean).abs() > 2*std\n",
    "    group[outliers] = mean        # or \"group[~outliers].mean()\"\n",
    "    return group"
   ]
  },
  {
   "cell_type": "code",
   "execution_count": 19,
   "metadata": {
    "collapsed": false
   },
   "outputs": [
    {
     "name": "stderr",
     "output_type": "stream",
     "text": [
      "/home/kaitlyn/anaconda3/lib/python3.5/site-packages/ipykernel/__main__.py:1: SettingWithCopyWarning: \n",
      "A value is trying to be set on a copy of a slice from a DataFrame.\n",
      "Try using .loc[row_indexer,col_indexer] = value instead\n",
      "\n",
      "See the caveats in the documentation: http://pandas.pydata.org/pandas-docs/stable/indexing.html#indexing-view-versus-copy\n",
      "  if __name__ == '__main__':\n",
      "/home/kaitlyn/anaconda3/lib/python3.5/site-packages/ipykernel/__main__.py:2: SettingWithCopyWarning: \n",
      "A value is trying to be set on a copy of a slice from a DataFrame.\n",
      "Try using .loc[row_indexer,col_indexer] = value instead\n",
      "\n",
      "See the caveats in the documentation: http://pandas.pydata.org/pandas-docs/stable/indexing.html#indexing-view-versus-copy\n",
      "  from ipykernel import kernelapp as app\n",
      "/home/kaitlyn/anaconda3/lib/python3.5/site-packages/ipykernel/__main__.py:3: SettingWithCopyWarning: \n",
      "A value is trying to be set on a copy of a slice from a DataFrame.\n",
      "Try using .loc[row_indexer,col_indexer] = value instead\n",
      "\n",
      "See the caveats in the documentation: http://pandas.pydata.org/pandas-docs/stable/indexing.html#indexing-view-versus-copy\n",
      "  app.launch_new_instance()\n"
     ]
    }
   ],
   "source": [
    "df_pm['month'] = df_pm.index.month\n",
    "df_pm['season'] = df_pm.apply(makeSeason, axis=1)\n",
    "df_pm['filtVal'] = df_pm.groupby('season').value.transform(replace)"
   ]
  },
  {
   "cell_type": "code",
   "execution_count": 20,
   "metadata": {
    "collapsed": true
   },
   "outputs": [],
   "source": [
    "winter = df_pm.loc[df_pm.season == 'Winter']\n",
    "winter_daily = winter.groupby('hour').filtVal.mean()\n",
    "\n",
    "spring = df_pm.loc[df_pm.season == 'Spring']\n",
    "spring_daily = spring.groupby('hour').filtVal.mean()\n",
    "\n",
    "summer = df_pm.loc[df_pm.season == 'Summer']\n",
    "summer_daily = summer.groupby('hour').filtVal.mean()\n",
    "\n",
    "fall = df_pm.loc[df_pm.season == 'Fall']\n",
    "fall_daily = fall.groupby('hour').filtVal.mean()"
   ]
  },
  {
   "cell_type": "code",
   "execution_count": 21,
   "metadata": {
    "collapsed": false
   },
   "outputs": [
    {
     "data": {
      "text/plain": [
       "<matplotlib.legend.Legend at 0x7f5025e79f28>"
      ]
     },
     "execution_count": 21,
     "metadata": {},
     "output_type": "execute_result"
    },
    {
     "data": {
      "image/png": "[encoded data removed]",
      "text/plain": [
       "<matplotlib.figure.Figure at 0x7f50269f3438>"
      ]
     },
     "metadata": {},
     "output_type": "display_data"
    }
   ],
   "source": [
    "y_label = unitsDict[winter.unit[0]]\n",
    "plt.figure()\n",
    "winter_daily.plot(label='Winter')\n",
    "spring_daily.plot(label='Spring')\n",
    "summer_daily.plot(label='Summer')\n",
    "fall_daily.plot(label='Fall') \n",
    "plt.ylabel(y_label)\n",
    "plt.legend(bbox_to_anchor=(1.31, 1.03))\n",
    "#plt.legend()"
   ]
  },
  {
   "cell_type": "code",
   "execution_count": 22,
   "metadata": {
    "collapsed": false
   },
   "outputs": [
    {
     "name": "stdout",
     "output_type": "stream",
     "text": [
      "codeConversions\t\t\t   Fairbanks_winddata.txt\tREADME.md\r\n",
      "Fairbanks_criteria_pollutants.txt  fairbanks_windrose_data.csv\r\n",
      "Fairbanks_frequency.pdf\t\t   FormatReader.ipynb\r\n"
     ]
    }
   ],
   "source": [
    "!ls"
   ]
  },
  {
   "cell_type": "code",
   "execution_count": 23,
   "metadata": {
    "collapsed": false
   },
   "outputs": [
    {
     "name": "stderr",
     "output_type": "stream",
     "text": [
      "/home/kaitlyn/anaconda3/lib/python3.5/site-packages/IPython/core/interactiveshell.py:2717: DtypeWarning: Columns (0,19) have mixed types. Specify dtype option on import or set low_memory=False.\n",
      "  interactivity=interactivity, compiler=compiler, result=result)\n"
     ]
    },
    {
     "data": {
      "text/html": [
       "<div>\n",
       "<table border=\"1\" class=\"dataframe\">\n",
       "  <thead>\n",
       "    <tr style=\"text-align: right;\">\n",
       "      <th></th>\n",
       "      <th>site</th>\n",
       "      <th>data_status</th>\n",
       "      <th>action_code</th>\n",
       "      <th>datetime</th>\n",
       "      <th>parameter</th>\n",
       "      <th>duration</th>\n",
       "      <th>frequency</th>\n",
       "      <th>value</th>\n",
       "      <th>unit</th>\n",
       "      <th>qc</th>\n",
       "      <th>poc</th>\n",
       "      <th>lat</th>\n",
       "      <th>lon</th>\n",
       "      <th>GISDatum</th>\n",
       "      <th>elev</th>\n",
       "      <th>method_code</th>\n",
       "      <th>mpc</th>\n",
       "      <th>mpc_value</th>\n",
       "      <th>uncertainty</th>\n",
       "      <th>qualifiers</th>\n",
       "    </tr>\n",
       "  </thead>\n",
       "  <tbody>\n",
       "    <tr>\n",
       "      <th>384452</th>\n",
       "      <td>840020900034</td>\n",
       "      <td>1.0</td>\n",
       "      <td>10.0</td>\n",
       "      <td>2016-07-03 22:00:00</td>\n",
       "      <td>42602.0</td>\n",
       "      <td>60.0</td>\n",
       "      <td>0.0</td>\n",
       "      <td>0.6</td>\n",
       "      <td>8.0</td>\n",
       "      <td>0.0</td>\n",
       "      <td>1.0</td>\n",
       "      <td>64.84569</td>\n",
       "      <td>-147.727413</td>\n",
       "      <td>WGS84</td>\n",
       "      <td>132.0</td>\n",
       "      <td>574.0</td>\n",
       "      <td>1.0</td>\n",
       "      <td>0.05</td>\n",
       "      <td>NaN</td>\n",
       "      <td>NaN</td>\n",
       "    </tr>\n",
       "    <tr>\n",
       "      <th>384453</th>\n",
       "      <td>840020900034</td>\n",
       "      <td>1.0</td>\n",
       "      <td>10.0</td>\n",
       "      <td>2016-07-13 22:00:00</td>\n",
       "      <td>42602.0</td>\n",
       "      <td>60.0</td>\n",
       "      <td>0.0</td>\n",
       "      <td>1.9</td>\n",
       "      <td>8.0</td>\n",
       "      <td>0.0</td>\n",
       "      <td>1.0</td>\n",
       "      <td>64.84569</td>\n",
       "      <td>-147.727413</td>\n",
       "      <td>WGS84</td>\n",
       "      <td>132.0</td>\n",
       "      <td>574.0</td>\n",
       "      <td>1.0</td>\n",
       "      <td>0.05</td>\n",
       "      <td>NaN</td>\n",
       "      <td>NaN</td>\n",
       "    </tr>\n",
       "    <tr>\n",
       "      <th>384454</th>\n",
       "      <td>840020900034</td>\n",
       "      <td>1.0</td>\n",
       "      <td>10.0</td>\n",
       "      <td>2016-07-20 22:00:00</td>\n",
       "      <td>42602.0</td>\n",
       "      <td>60.0</td>\n",
       "      <td>0.0</td>\n",
       "      <td>0.3</td>\n",
       "      <td>8.0</td>\n",
       "      <td>0.0</td>\n",
       "      <td>1.0</td>\n",
       "      <td>64.84569</td>\n",
       "      <td>-147.727413</td>\n",
       "      <td>WGS84</td>\n",
       "      <td>132.0</td>\n",
       "      <td>574.0</td>\n",
       "      <td>1.0</td>\n",
       "      <td>0.05</td>\n",
       "      <td>NaN</td>\n",
       "      <td>NaN</td>\n",
       "    </tr>\n",
       "    <tr>\n",
       "      <th>384455</th>\n",
       "      <td>840020900034</td>\n",
       "      <td>1.0</td>\n",
       "      <td>10.0</td>\n",
       "      <td>2016-09-12 22:00:00</td>\n",
       "      <td>42602.0</td>\n",
       "      <td>60.0</td>\n",
       "      <td>0.0</td>\n",
       "      <td>8.8</td>\n",
       "      <td>8.0</td>\n",
       "      <td>0.0</td>\n",
       "      <td>1.0</td>\n",
       "      <td>64.84569</td>\n",
       "      <td>-147.727413</td>\n",
       "      <td>WGS84</td>\n",
       "      <td>132.0</td>\n",
       "      <td>574.0</td>\n",
       "      <td>1.0</td>\n",
       "      <td>0.05</td>\n",
       "      <td>NaN</td>\n",
       "      <td>NaN</td>\n",
       "    </tr>\n",
       "    <tr>\n",
       "      <th>384456</th>\n",
       "      <td>840020900034</td>\n",
       "      <td>1.0</td>\n",
       "      <td>10.0</td>\n",
       "      <td>2016-09-20 22:00:00</td>\n",
       "      <td>42602.0</td>\n",
       "      <td>60.0</td>\n",
       "      <td>0.0</td>\n",
       "      <td>11.9</td>\n",
       "      <td>8.0</td>\n",
       "      <td>0.0</td>\n",
       "      <td>1.0</td>\n",
       "      <td>64.84569</td>\n",
       "      <td>-147.727413</td>\n",
       "      <td>WGS84</td>\n",
       "      <td>132.0</td>\n",
       "      <td>574.0</td>\n",
       "      <td>1.0</td>\n",
       "      <td>0.05</td>\n",
       "      <td>NaN</td>\n",
       "      <td>NaN</td>\n",
       "    </tr>\n",
       "  </tbody>\n",
       "</table>\n",
       "</div>"
      ],
      "text/plain": [
       "                site  data_status  action_code            datetime  parameter  \\\n",
       "384452  840020900034          1.0         10.0 2016-07-03 22:00:00    42602.0   \n",
       "384453  840020900034          1.0         10.0 2016-07-13 22:00:00    42602.0   \n",
       "384454  840020900034          1.0         10.0 2016-07-20 22:00:00    42602.0   \n",
       "384455  840020900034          1.0         10.0 2016-09-12 22:00:00    42602.0   \n",
       "384456  840020900034          1.0         10.0 2016-09-20 22:00:00    42602.0   \n",
       "\n",
       "        duration  frequency  value  unit   qc  poc       lat         lon  \\\n",
       "384452      60.0        0.0    0.6   8.0  0.0  1.0  64.84569 -147.727413   \n",
       "384453      60.0        0.0    1.9   8.0  0.0  1.0  64.84569 -147.727413   \n",
       "384454      60.0        0.0    0.3   8.0  0.0  1.0  64.84569 -147.727413   \n",
       "384455      60.0        0.0    8.8   8.0  0.0  1.0  64.84569 -147.727413   \n",
       "384456      60.0        0.0   11.9   8.0  0.0  1.0  64.84569 -147.727413   \n",
       "\n",
       "       GISDatum   elev  method_code  mpc  mpc_value  uncertainty qualifiers  \n",
       "384452    WGS84  132.0        574.0  1.0       0.05          NaN        NaN  \n",
       "384453    WGS84  132.0        574.0  1.0       0.05          NaN        NaN  \n",
       "384454    WGS84  132.0        574.0  1.0       0.05          NaN        NaN  \n",
       "384455    WGS84  132.0        574.0  1.0       0.05          NaN        NaN  \n",
       "384456    WGS84  132.0        574.0  1.0       0.05          NaN        NaN  "
      ]
     },
     "execution_count": 23,
     "metadata": {},
     "output_type": "execute_result"
    }
   ],
   "source": [
    "filename2 = 'Fairbanks_winddata.txt'\n",
    "df2 = pd.read_csv(filename2, parse_dates=[3])\n",
    "df2.dropna(subset=['datetime'], inplace=True)\n",
    "df2.tail()"
   ]
  },
  {
   "cell_type": "code",
   "execution_count": 24,
   "metadata": {
    "collapsed": true
   },
   "outputs": [],
   "source": [
    "df2.index = df2.datetime\n",
    "df2.sort_index(inplace=True)\n",
    "\n",
    "df2['doy'] = df2.index.dayofyear\n",
    "df2['hour'] = df2.index.hour\n",
    "df2['month'] = df2.index.month\n",
    "df2['season'] = df2.apply(makeSeason, axis=1)"
   ]
  },
  {
   "cell_type": "code",
   "execution_count": 25,
   "metadata": {
    "collapsed": true
   },
   "outputs": [],
   "source": [
    "paramsList = []\n",
    "for i, row in df2.iterrows():\n",
    "    if row.parameter not in paramsList:\n",
    "        paramsList.append(row.parameter)"
   ]
  },
  {
   "cell_type": "code",
   "execution_count": 26,
   "metadata": {
    "collapsed": false
   },
   "outputs": [
    {
     "name": "stdout",
     "output_type": "stream",
     "text": [
      "62101.0: Outdoor Temperature\n",
      "42600.0: Reactive oxides of nitrogen (NOy)\n",
      "61103.0: Wind Speed - Resultant\n",
      "42101.0: Carbon monoxide\n",
      "88502.0: Acceptable PM2.5 AQI & Speciation Mass\n",
      "85101.0: PM10 - LC\n",
      "88501.0: PM2.5 Raw Data\n",
      "62201.0: Relative Humidity \n",
      "42401.0: Sulfur dioxide\n",
      "86101.0: PM10-2.5 - Local Conditions\n",
      "81102.0: PM10 Total 0-10um STP\n",
      "61104.0: Wind Direction - Resultant\n",
      "44201.0: Ozone\n",
      "42601.0: Nitric oxide (NO)\n",
      "42612.0: NOy - NO\n",
      "64101.0: Barometric pressure\n",
      "42602.0: Nitrogen dioxide (NO2)\n",
      "42603.0: Oxides of nitrogen (NOx)\n"
     ]
    }
   ],
   "source": [
    "for item in paramsList:\n",
    "    print(str(item)+\": \"+paramsDict[item])"
   ]
  },
  {
   "cell_type": "code",
   "execution_count": 27,
   "metadata": {
    "collapsed": true
   },
   "outputs": [],
   "source": [
    "df_pm25 = df2.loc[df2.parameter == 88501]"
   ]
  },
  {
   "cell_type": "code",
   "execution_count": 28,
   "metadata": {
    "collapsed": true
   },
   "outputs": [],
   "source": [
    "df_pm25.index = df_pm25.datetime\n",
    "df_pm25.sort_index(inplace=True)"
   ]
  },
  {
   "cell_type": "code",
   "execution_count": 29,
   "metadata": {
    "collapsed": false
   },
   "outputs": [
    {
     "data": {
      "text/plain": [
       "<matplotlib.axes._subplots.AxesSubplot at 0x7f50269c5da0>"
      ]
     },
     "execution_count": 29,
     "metadata": {},
     "output_type": "execute_result"
    },
    {
     "data": {
      "image/png": "[encoded data removed]",
      "text/plain": [
       "<matplotlib.figure.Figure at 0x7f502649bc50>"
      ]
     },
     "metadata": {},
     "output_type": "display_data"
    }
   ],
   "source": [
    "df_pm25.value.plot()"
   ]
  },
  {
   "cell_type": "code",
   "execution_count": 30,
   "metadata": {
    "collapsed": false
   },
   "outputs": [
    {
     "data": {
      "text/plain": [
       "<matplotlib.axes._subplots.AxesSubplot at 0x7f502649b438>"
      ]
     },
     "execution_count": 30,
     "metadata": {},
     "output_type": "execute_result"
    },
    {
     "data": {
      "image/png": "[encoded data removed]",
      "text/plain": [
       "<matplotlib.figure.Figure at 0x7f4ff962d198>"
      ]
     },
     "metadata": {},
     "output_type": "display_data"
    }
   ],
   "source": [
    "annual_mean = df_pm25.groupby('doy').value.mean()\n",
    "annual_mean.plot()"
   ]
  },
  {
   "cell_type": "code",
   "execution_count": 31,
   "metadata": {
    "collapsed": false
   },
   "outputs": [
    {
     "data": {
      "text/plain": [
       "<matplotlib.axes._subplots.AxesSubplot at 0x7f4ff9419d30>"
      ]
     },
     "execution_count": 31,
     "metadata": {},
     "output_type": "execute_result"
    },
    {
     "data": {
      "image/png": "[encoded data removed]",
      "text/plain": [
       "<matplotlib.figure.Figure at 0x7f4ff965dda0>"
      ]
     },
     "metadata": {},
     "output_type": "display_data"
    }
   ],
   "source": [
    "hourly_mean = df_pm25.groupby('hour').value.mean()\n",
    "hourly_mean.plot()"
   ]
  },
  {
   "cell_type": "code",
   "execution_count": 32,
   "metadata": {
    "collapsed": false
   },
   "outputs": [
    {
     "name": "stderr",
     "output_type": "stream",
     "text": [
      "/home/kaitlyn/anaconda3/lib/python3.5/site-packages/ipykernel/__main__.py:1: SettingWithCopyWarning: \n",
      "A value is trying to be set on a copy of a slice from a DataFrame.\n",
      "Try using .loc[row_indexer,col_indexer] = value instead\n",
      "\n",
      "See the caveats in the documentation: http://pandas.pydata.org/pandas-docs/stable/indexing.html#indexing-view-versus-copy\n",
      "  if __name__ == '__main__':\n"
     ]
    }
   ],
   "source": [
    "df_pm25['filtVal'] = df_pm25.groupby('season').value.transform(replace)"
   ]
  },
  {
   "cell_type": "code",
   "execution_count": 33,
   "metadata": {
    "collapsed": true
   },
   "outputs": [],
   "source": [
    "winter = df_pm25.loc[df_pm25.season == 'Winter']\n",
    "winter_daily = winter.groupby('hour').filtVal.mean()\n",
    "\n",
    "spring = df_pm25.loc[df_pm25.season == 'Spring']\n",
    "spring_daily = spring.groupby('hour').filtVal.mean()\n",
    "\n",
    "summer = df_pm25.loc[df_pm25.season == 'Summer']\n",
    "summer_daily = summer.groupby('hour').filtVal.mean()\n",
    "\n",
    "fall = df_pm25.loc[df_pm25.season == 'Fall']\n",
    "fall_daily = fall.groupby('hour').filtVal.mean()"
   ]
  },
  {
   "cell_type": "code",
   "execution_count": 34,
   "metadata": {
    "collapsed": false
   },
   "outputs": [
    {
     "data": {
      "text/plain": [
       "<matplotlib.legend.Legend at 0x7f4ff9669630>"
      ]
     },
     "execution_count": 34,
     "metadata": {},
     "output_type": "execute_result"
    },
    {
     "data": {
      "image/png": "[encoded data removed]",
      "text/plain": [
       "<matplotlib.figure.Figure at 0x7f4ff93f2780>"
      ]
     },
     "metadata": {},
     "output_type": "display_data"
    }
   ],
   "source": [
    "y_label = unitsDict[winter.unit[0]]\n",
    "plt.figure()\n",
    "winter_daily.plot(label='Winter')\n",
    "spring_daily.plot(label='Spring')\n",
    "summer_daily.plot(label='Summer')\n",
    "fall_daily.plot(label='Fall') \n",
    "plt.title(\"PM 2.5 per Season\")\n",
    "plt.ylabel(y_label)\n",
    "plt.legend(bbox_to_anchor=(1.31, 1.03))\n",
    "#plt.legend()"
   ]
  },
  {
   "cell_type": "markdown",
   "metadata": {},
   "source": [
    "61103.0: Wind Speed - Resultant\n",
    "61104.0: Wind Direction - Resultant"
   ]
  },
  {
   "cell_type": "code",
   "execution_count": 35,
   "metadata": {
    "collapsed": false
   },
   "outputs": [
    {
     "name": "stderr",
     "output_type": "stream",
     "text": [
      "/home/kaitlyn/anaconda3/lib/python3.5/site-packages/pandas/core/generic.py:2701: SettingWithCopyWarning: \n",
      "A value is trying to be set on a copy of a slice from a DataFrame.\n",
      "Try using .loc[row_indexer,col_indexer] = value instead\n",
      "\n",
      "See the caveats in the documentation: http://pandas.pydata.org/pandas-docs/stable/indexing.html#indexing-view-versus-copy\n",
      "  self[name] = value\n"
     ]
    }
   ],
   "source": [
    "dfwSpeed = df2.loc[df2.parameter == 61103]\n",
    "dfwSpeed.value *= .514\n",
    "dfwDir = df2.loc[df2.parameter == 61104]\n",
    "df_co = df2.loc[df2.parameter == 42101]\n",
    "df_nox = df2.loc[df2.parameter == 42603]\n",
    "df_pm10 = df2.loc[df2.parameter == 81102]\n",
    "df_temp = df2.loc[df2.parameter == 62101]"
   ]
  },
  {
   "cell_type": "code",
   "execution_count": 36,
   "metadata": {
    "collapsed": true
   },
   "outputs": [],
   "source": [
    "df_wind = pd.DataFrame({'speed': dfwSpeed.value, 'direction': dfwDir.value, 'pm25': df_pm25.filtVal})\n",
    "df_wind.index = df_wind.speed"
   ]
  },
  {
   "cell_type": "code",
   "execution_count": 37,
   "metadata": {
    "collapsed": true
   },
   "outputs": [],
   "source": [
    "# plot_windrose(df_wind, kind='contour', bins=np.arange(0.01,8,1), cmap=cm.hot, lw=3)"
   ]
  },
  {
   "cell_type": "code",
   "execution_count": 38,
   "metadata": {
    "collapsed": true
   },
   "outputs": [],
   "source": [
    "# plot_windrose(df_wind, var_name = 'pm25', kind='contourf', bins=np.arange(0.01,55,5), cmap=cm.hot, lw=3)"
   ]
  },
  {
   "cell_type": "code",
   "execution_count": 39,
   "metadata": {
    "collapsed": false
   },
   "outputs": [
    {
     "name": "stderr",
     "output_type": "stream",
     "text": [
      "/home/kaitlyn/anaconda3/lib/python3.5/site-packages/numpy/lib/function_base.py:3834: RuntimeWarning: Invalid value encountered in percentile\n",
      "  RuntimeWarning)\n"
     ]
    },
    {
     "data": {
      "text/html": [
       "<div>\n",
       "<table border=\"1\" class=\"dataframe\">\n",
       "  <thead>\n",
       "    <tr style=\"text-align: right;\">\n",
       "      <th></th>\n",
       "      <th>direction</th>\n",
       "      <th>pm25</th>\n",
       "      <th>speed</th>\n",
       "    </tr>\n",
       "  </thead>\n",
       "  <tbody>\n",
       "    <tr>\n",
       "      <th>count</th>\n",
       "      <td>16746.000000</td>\n",
       "      <td>25322.000000</td>\n",
       "      <td>16745.000000</td>\n",
       "    </tr>\n",
       "    <tr>\n",
       "      <th>mean</th>\n",
       "      <td>202.086289</td>\n",
       "      <td>10.513186</td>\n",
       "      <td>1.055000</td>\n",
       "    </tr>\n",
       "    <tr>\n",
       "      <th>std</th>\n",
       "      <td>117.448975</td>\n",
       "      <td>10.501827</td>\n",
       "      <td>0.842099</td>\n",
       "    </tr>\n",
       "    <tr>\n",
       "      <th>min</th>\n",
       "      <td>0.000000</td>\n",
       "      <td>-5.000000</td>\n",
       "      <td>0.000000</td>\n",
       "    </tr>\n",
       "    <tr>\n",
       "      <th>25%</th>\n",
       "      <td>NaN</td>\n",
       "      <td>NaN</td>\n",
       "      <td>NaN</td>\n",
       "    </tr>\n",
       "    <tr>\n",
       "      <th>50%</th>\n",
       "      <td>NaN</td>\n",
       "      <td>NaN</td>\n",
       "      <td>NaN</td>\n",
       "    </tr>\n",
       "    <tr>\n",
       "      <th>75%</th>\n",
       "      <td>NaN</td>\n",
       "      <td>NaN</td>\n",
       "      <td>NaN</td>\n",
       "    </tr>\n",
       "    <tr>\n",
       "      <th>max</th>\n",
       "      <td>360.000000</td>\n",
       "      <td>53.000000</td>\n",
       "      <td>7.710000</td>\n",
       "    </tr>\n",
       "  </tbody>\n",
       "</table>\n",
       "</div>"
      ],
      "text/plain": [
       "          direction          pm25         speed\n",
       "count  16746.000000  25322.000000  16745.000000\n",
       "mean     202.086289     10.513186      1.055000\n",
       "std      117.448975     10.501827      0.842099\n",
       "min        0.000000     -5.000000      0.000000\n",
       "25%             NaN           NaN           NaN\n",
       "50%             NaN           NaN           NaN\n",
       "75%             NaN           NaN           NaN\n",
       "max      360.000000     53.000000      7.710000"
      ]
     },
     "execution_count": 39,
     "metadata": {},
     "output_type": "execute_result"
    }
   ],
   "source": [
    "df_wind.describe()"
   ]
  },
  {
   "cell_type": "code",
   "execution_count": 40,
   "metadata": {
    "collapsed": false
   },
   "outputs": [
    {
     "data": {
      "text/html": [
       "<div>\n",
       "<table border=\"1\" class=\"dataframe\">\n",
       "  <thead>\n",
       "    <tr style=\"text-align: right;\">\n",
       "      <th></th>\n",
       "      <th>direction</th>\n",
       "      <th>pm25</th>\n",
       "      <th>speed</th>\n",
       "    </tr>\n",
       "    <tr>\n",
       "      <th>speed</th>\n",
       "      <th></th>\n",
       "      <th></th>\n",
       "      <th></th>\n",
       "    </tr>\n",
       "  </thead>\n",
       "  <tbody>\n",
       "    <tr>\n",
       "      <th>NaN</th>\n",
       "      <td>NaN</td>\n",
       "      <td>22.0</td>\n",
       "      <td>NaN</td>\n",
       "    </tr>\n",
       "    <tr>\n",
       "      <th>NaN</th>\n",
       "      <td>NaN</td>\n",
       "      <td>17.0</td>\n",
       "      <td>NaN</td>\n",
       "    </tr>\n",
       "    <tr>\n",
       "      <th>NaN</th>\n",
       "      <td>NaN</td>\n",
       "      <td>27.0</td>\n",
       "      <td>NaN</td>\n",
       "    </tr>\n",
       "    <tr>\n",
       "      <th>NaN</th>\n",
       "      <td>NaN</td>\n",
       "      <td>26.0</td>\n",
       "      <td>NaN</td>\n",
       "    </tr>\n",
       "    <tr>\n",
       "      <th>NaN</th>\n",
       "      <td>NaN</td>\n",
       "      <td>38.0</td>\n",
       "      <td>NaN</td>\n",
       "    </tr>\n",
       "  </tbody>\n",
       "</table>\n",
       "</div>"
      ],
      "text/plain": [
       "       direction  pm25  speed\n",
       "speed                        \n",
       "NaN          NaN  22.0    NaN\n",
       "NaN          NaN  17.0    NaN\n",
       "NaN          NaN  27.0    NaN\n",
       "NaN          NaN  26.0    NaN\n",
       "NaN          NaN  38.0    NaN"
      ]
     },
     "execution_count": 40,
     "metadata": {},
     "output_type": "execute_result"
    }
   ],
   "source": [
    "df_wind.tail()"
   ]
  },
  {
   "cell_type": "code",
   "execution_count": 41,
   "metadata": {
    "collapsed": true
   },
   "outputs": [],
   "source": [
    "# https://www.ncbi.nlm.nih.gov/pmc/articles/PMC4385435/ and psccleanair.org as sources\n",
    "\n",
    "wood_stove_emissions = (winter_daily - summer_daily)\n",
    "epa_cert_co = (.2*97)/(.8*244) # 20% households have certified stoves\n",
    "                        \n",
    "with_approved_stoves = (wood_stove_emissions* (1-epa_cert_co)) * (97/244) +  summer_daily"
   ]
  },
  {
   "cell_type": "code",
   "execution_count": 42,
   "metadata": {
    "collapsed": true
   },
   "outputs": [],
   "source": [
    "epa_cert_co = (.2*97)/(.8*244) # 20% households have certified stoves"
   ]
  },
  {
   "cell_type": "code",
   "execution_count": 43,
   "metadata": {
    "collapsed": false
   },
   "outputs": [
    {
     "data": {
      "text/plain": [
       "<matplotlib.legend.Legend at 0x7f4ff9435940>"
      ]
     },
     "execution_count": 43,
     "metadata": {},
     "output_type": "execute_result"
    },
    {
     "data": {
      "image/png": "[encoded data removed]",
      "text/plain": [
       "<matplotlib.figure.Figure at 0x7f4ff9570d30>"
      ]
     },
     "metadata": {},
     "output_type": "display_data"
    }
   ],
   "source": [
    "plt.figure()\n",
    "winter_daily.plot(label='Winter (with current stoves)')\n",
    "with_approved_stoves.plot(label = 'Winter (with EPA approved stoves)')\n",
    "summer_daily.plot(label = 'Summer Levels')\n",
    "y_label = unitsDict[winter.unit[0]]\n",
    "plt.ylabel(y_label)\n",
    "plt.legend(bbox_to_anchor=(1.8, 1.03))"
   ]
  },
  {
   "cell_type": "code",
   "execution_count": 44,
   "metadata": {
    "collapsed": false
   },
   "outputs": [
    {
     "data": {
      "text/plain": [
       "0.2656"
      ]
     },
     "execution_count": 44,
     "metadata": {},
     "output_type": "execute_result"
    }
   ],
   "source": [
    ".332 *.8"
   ]
  },
  {
   "cell_type": "code",
   "execution_count": 45,
   "metadata": {
    "collapsed": false
   },
   "outputs": [
    {
     "data": {
      "text/plain": [
       "0.09938524590163934"
      ]
     },
     "execution_count": 45,
     "metadata": {},
     "output_type": "execute_result"
    }
   ],
   "source": [
    "(.2*97)/(.8*244)"
   ]
  },
  {
   "cell_type": "code",
   "execution_count": 46,
   "metadata": {
    "collapsed": false
   },
   "outputs": [
    {
     "data": {
      "text/plain": [
       "count    25322.000000\n",
       "mean        10.513186\n",
       "std         10.501827\n",
       "min         -5.000000\n",
       "25%          3.000000\n",
       "50%          7.000000\n",
       "75%         15.000000\n",
       "max         53.000000\n",
       "Name: filtVal, dtype: float64"
      ]
     },
     "execution_count": 46,
     "metadata": {},
     "output_type": "execute_result"
    }
   ],
   "source": [
    "df_pm25.filtVal.describe()"
   ]
  },
  {
   "cell_type": "code",
   "execution_count": 47,
   "metadata": {
    "collapsed": false
   },
   "outputs": [
    {
     "name": "stderr",
     "output_type": "stream",
     "text": [
      "/home/kaitlyn/anaconda3/lib/python3.5/site-packages/ipykernel/__main__.py:3: SettingWithCopyWarning: \n",
      "A value is trying to be set on a copy of a slice from a DataFrame.\n",
      "Try using .loc[row_indexer,col_indexer] = value instead\n",
      "\n",
      "See the caveats in the documentation: http://pandas.pydata.org/pandas-docs/stable/indexing.html#indexing-view-versus-copy\n",
      "  app.launch_new_instance()\n"
     ]
    }
   ],
   "source": [
    "df_co.index = df_co.datetime\n",
    "df_co.sort_index(inplace=True)\n",
    "df_co['filtVal'] = df_co.groupby('season').value.transform(replace)\n",
    "\n",
    "winter_co = df_co.loc[df_co.season == 'Winter']\n",
    "winter_daily_co = winter_co.groupby('hour').filtVal.mean()\n",
    "\n",
    "spring_co = df_co.loc[df_co.season == 'Spring']\n",
    "spring_daily_co = spring_co.groupby('hour').filtVal.mean()\n",
    "\n",
    "summer_co = df_co.loc[df_co.season == 'Summer']\n",
    "summer_daily_co = summer_co.groupby('hour').filtVal.mean()\n",
    "\n",
    "fall_co = df_co.loc[df_co.season == 'Fall']\n",
    "fall_daily_co = fall_co.groupby('hour').filtVal.mean()"
   ]
  },
  {
   "cell_type": "code",
   "execution_count": 48,
   "metadata": {
    "collapsed": false
   },
   "outputs": [
    {
     "data": {
      "text/plain": [
       "<matplotlib.legend.Legend at 0x7f4ff93b2c18>"
      ]
     },
     "execution_count": 48,
     "metadata": {},
     "output_type": "execute_result"
    },
    {
     "data": {
      "image/png": "[encoded data removed]",
      "text/plain": [
       "<matplotlib.figure.Figure at 0x7f4ff965d668>"
      ]
     },
     "metadata": {},
     "output_type": "display_data"
    }
   ],
   "source": [
    "y_label = unitsDict[winter_co.unit[0]]\n",
    "plt.figure()\n",
    "winter_daily_co.plot(label='Winter')\n",
    "spring_daily_co.plot(label='Spring')\n",
    "summer_daily_co.plot(label='Summer')\n",
    "fall_daily_co.plot(label='Fall') \n",
    "plt.title(\"CO Concentration per Season\")\n",
    "plt.ylabel(y_label)\n",
    "plt.legend(bbox_to_anchor=(1.31, 1.03))"
   ]
  },
  {
   "cell_type": "code",
   "execution_count": 49,
   "metadata": {
    "collapsed": false
   },
   "outputs": [
    {
     "data": {
      "text/plain": [
       "DatetimeIndex(['2014-01-01 09:00:00', '2014-01-01 10:00:00',\n",
       "               '2014-01-01 11:00:00', '2014-01-01 12:00:00',\n",
       "               '2014-01-01 13:00:00', '2014-01-01 14:00:00',\n",
       "               '2014-01-01 15:00:00', '2014-01-01 16:00:00',\n",
       "               '2014-01-01 17:00:00', '2014-01-01 18:00:00',\n",
       "               ...\n",
       "               '2016-12-31 23:00:00', '2017-01-01 00:00:00',\n",
       "               '2017-01-01 01:00:00', '2017-01-01 02:00:00',\n",
       "               '2017-01-01 03:00:00', '2017-01-01 04:00:00',\n",
       "               '2017-01-01 05:00:00', '2017-01-01 06:00:00',\n",
       "               '2017-01-01 07:00:00', '2017-01-01 08:00:00'],\n",
       "              dtype='datetime64[ns]', name='datetime', length=7875, freq=None)"
      ]
     },
     "execution_count": 49,
     "metadata": {},
     "output_type": "execute_result"
    }
   ],
   "source": [
    "winter_co.index"
   ]
  },
  {
   "cell_type": "code",
   "execution_count": 50,
   "metadata": {
    "collapsed": false
   },
   "outputs": [
    {
     "data": {
      "text/plain": [
       "<matplotlib.text.Text at 0x7f4ff92e07f0>"
      ]
     },
     "execution_count": 50,
     "metadata": {},
     "output_type": "execute_result"
    },
    {
     "data": {
      "image/png": "[encoded data removed]",
      "text/plain": [
       "<matplotlib.figure.Figure at 0x7f4ff9384160>"
      ]
     },
     "metadata": {},
     "output_type": "display_data"
    }
   ],
   "source": [
    "y_label_pm = unitsDict[winter.unit[0]]\n",
    "y_label_co = unitsDict[winter_co.unit[0]]\n",
    "\n",
    "fig, ax1 = plt.subplots()\n",
    "\n",
    "pm_w = ax1.plot(winter_daily.index, winter_daily, 'b-', label = 'Winter PM 2.5')\n",
    "pm_s = ax1.plot(summer_daily.index, summer_daily, 'r-', label = 'Summer PM 2.5')\n",
    "ax1.set_xlabel('Hour of Day')\n",
    "ax1.set_ylabel(y_label_pm + ' (PM 2.5)')\n",
    "\n",
    "ax2 = ax1.twinx()\n",
    "#winter_daily_co.plot(label='Winter CO')\n",
    "#summer_daily_co.plot(label='Summer CO')\n",
    "co_w = ax2.plot(winter_daily_co.index, winter_daily_co, 'c-', label = 'Winter CO')\n",
    "co_s = ax2.plot(summer_daily_co.index, summer_daily_co, 'm-', label = 'Summer CO')\n",
    "ax2.set_ylabel(y_label_co + ' (CO)')\n",
    "\n",
    "lns = pm_w+ pm_s + co_w + co_s\n",
    "labs = [l.get_label() for l in lns]\n",
    "ax1.set_xlim(0, 24)\n",
    "ax2.set_xlim(0,24)\n",
    "plt.legend(lns, labs, bbox_to_anchor=(1.55, 1.03))\n",
    "\n",
    "plt.title(\"CO and PM 2.5 Concentration for Winter and Summer\")\n",
    "#plt.legend(bbox_to_anchor=(1.5, 1.03))"
   ]
  },
  {
   "cell_type": "markdown",
   "metadata": {},
   "source": [
    "Theta, R = np.meshgrid(df_wind.direction, df_wind.speed)\n",
    "C = np.sinc(Theta-2)+(5-np.sqrt(R))+np.random.rand(len(r),len(theta))\n",
    "C = np.ma.masked_less_equal(C,2)\n",
    "\n",
    "fig, ax = plt.subplots(subplot_kw={\"projection\":\"polar\"})\n",
    "\n",
    "ax.pcolormesh(Theta, R, C, vmin=2, vmax=5)\n",
    "\n",
    "plt.show()"
   ]
  },
  {
   "cell_type": "code",
   "execution_count": 51,
   "metadata": {
    "collapsed": true
   },
   "outputs": [],
   "source": [
    "df_pm10.index = df_pm10.datetime\n",
    "df_pm10.sort_index(inplace=True)\n",
    "\n",
    "df_nox.index = df_nox.datetime\n",
    "df_nox.sort_index(inplace=True)\n",
    "\n",
    "df_co.index = df_co.datetime\n",
    "df_co.sort_index(inplace=True)\n",
    "\n",
    "dfwSpeed.index = dfwSpeed.datetime\n",
    "dfwSpeed.sort_index(inplace=True)\n",
    "\n",
    "dfwDir.index = dfwDir.datetime\n",
    "dfwSpeed.sort_index(inplace = True)"
   ]
  },
  {
   "cell_type": "code",
   "execution_count": 52,
   "metadata": {
    "collapsed": false
   },
   "outputs": [
    {
     "data": {
      "text/plain": [
       "<matplotlib.axes._subplots.AxesSubplot at 0x7f4ff9390320>"
      ]
     },
     "execution_count": 52,
     "metadata": {},
     "output_type": "execute_result"
    },
    {
     "data": {
      "image/png": "[encoded data removed]",
      "text/plain": [
       "<matplotlib.figure.Figure at 0x7f4ff93417b8>"
      ]
     },
     "metadata": {},
     "output_type": "display_data"
    }
   ],
   "source": [
    "df_winter = dfwSpeed.loc[dfwDir.season == 'Winter']\n",
    "wind_daily = df_winter.groupby('hour').value.mean()\n",
    "wind_daily.plot()"
   ]
  },
  {
   "cell_type": "code",
   "execution_count": 53,
   "metadata": {
    "collapsed": false
   },
   "outputs": [
    {
     "data": {
      "text/plain": [
       "<matplotlib.axes._subplots.AxesSubplot at 0x7f4ff92354a8>"
      ]
     },
     "execution_count": 53,
     "metadata": {},
     "output_type": "execute_result"
    },
    {
     "data": {
      "image/png": "[encoded data removed]",
      "text/plain": [
       "<matplotlib.figure.Figure at 0x7f4ff920acc0>"
      ]
     },
     "metadata": {},
     "output_type": "display_data"
    }
   ],
   "source": [
    "df_fall = dfwSpeed.loc[dfwDir.season == 'Fall']\n",
    "fall_wind_daily = df_fall.groupby('hour').value.mean()\n",
    "fall_wind_daily.plot()"
   ]
  },
  {
   "cell_type": "code",
   "execution_count": 54,
   "metadata": {
    "collapsed": false
   },
   "outputs": [
    {
     "data": {
      "text/plain": [
       "<matplotlib.axes._subplots.AxesSubplot at 0x7f4ff91be828>"
      ]
     },
     "execution_count": 54,
     "metadata": {},
     "output_type": "execute_result"
    },
    {
     "data": {
      "image/png": "[encoded data removed]",
      "text/plain": [
       "<matplotlib.figure.Figure at 0x7f4ff917acc0>"
      ]
     },
     "metadata": {},
     "output_type": "display_data"
    }
   ],
   "source": [
    "df_summer = dfwSpeed.loc[dfwDir.season == 'Summer']\n",
    "summer_wind_daily = df_summer.groupby('hour').value.mean()\n",
    "summer_wind_daily.plot()"
   ]
  },
  {
   "cell_type": "code",
   "execution_count": 55,
   "metadata": {
    "collapsed": false
   },
   "outputs": [
    {
     "data": {
      "text/plain": [
       "<matplotlib.axes._subplots.AxesSubplot at 0x7f4ff919b080>"
      ]
     },
     "execution_count": 55,
     "metadata": {},
     "output_type": "execute_result"
    },
    {
     "data": {
      "image/png": "[encoded data removed]",
      "text/plain": [
       "<matplotlib.figure.Figure at 0x7f4ff915af28>"
      ]
     },
     "metadata": {},
     "output_type": "display_data"
    }
   ],
   "source": [
    "df_spring = dfwSpeed.loc[dfwDir.season == 'Spring']\n",
    "spring_wind_daily = df_spring.groupby('hour').value.mean()\n",
    "spring_wind_daily.plot()"
   ]
  },
  {
   "cell_type": "code",
   "execution_count": 56,
   "metadata": {
    "collapsed": true
   },
   "outputs": [],
   "source": [
    "d = {'date':df_pm25.datetime, 'ws': dfwSpeed.value, 'wd': dfwDir.value,\n",
    "    'pm25':df_pm25.filtVal, 'co':df_co.filtVal, 'nox':df_nox.value,\n",
    "    'pm10':df_pm10.value}\n",
    "\n",
    "df_to_save = pd.DataFrame(data = d)"
   ]
  },
  {
   "cell_type": "code",
   "execution_count": 57,
   "metadata": {
    "collapsed": false
   },
   "outputs": [
    {
     "data": {
      "text/html": [
       "<div>\n",
       "<table border=\"1\" class=\"dataframe\">\n",
       "  <thead>\n",
       "    <tr style=\"text-align: right;\">\n",
       "      <th></th>\n",
       "      <th>co</th>\n",
       "      <th>date</th>\n",
       "      <th>nox</th>\n",
       "      <th>pm10</th>\n",
       "      <th>pm25</th>\n",
       "      <th>wd</th>\n",
       "      <th>ws</th>\n",
       "    </tr>\n",
       "    <tr>\n",
       "      <th>datetime</th>\n",
       "      <th></th>\n",
       "      <th></th>\n",
       "      <th></th>\n",
       "      <th></th>\n",
       "      <th></th>\n",
       "      <th></th>\n",
       "      <th></th>\n",
       "    </tr>\n",
       "  </thead>\n",
       "  <tbody>\n",
       "    <tr>\n",
       "      <th>2014-01-01 09:00:00</th>\n",
       "      <td>0.64</td>\n",
       "      <td>2014-01-01 09:00:00</td>\n",
       "      <td>NaN</td>\n",
       "      <td>29.0</td>\n",
       "      <td>34.000000</td>\n",
       "      <td>328.0</td>\n",
       "      <td>0.5140</td>\n",
       "    </tr>\n",
       "    <tr>\n",
       "      <th>2014-01-01 10:00:00</th>\n",
       "      <td>0.79</td>\n",
       "      <td>2014-01-01 10:00:00</td>\n",
       "      <td>NaN</td>\n",
       "      <td>53.0</td>\n",
       "      <td>21.663548</td>\n",
       "      <td>345.0</td>\n",
       "      <td>0.4112</td>\n",
       "    </tr>\n",
       "    <tr>\n",
       "      <th>2014-01-01 11:00:00</th>\n",
       "      <td>0.69</td>\n",
       "      <td>2014-01-01 11:00:00</td>\n",
       "      <td>NaN</td>\n",
       "      <td>39.0</td>\n",
       "      <td>40.000000</td>\n",
       "      <td>291.0</td>\n",
       "      <td>0.5140</td>\n",
       "    </tr>\n",
       "    <tr>\n",
       "      <th>2014-01-01 12:00:00</th>\n",
       "      <td>0.59</td>\n",
       "      <td>2014-01-01 12:00:00</td>\n",
       "      <td>NaN</td>\n",
       "      <td>40.0</td>\n",
       "      <td>40.000000</td>\n",
       "      <td>273.0</td>\n",
       "      <td>0.7196</td>\n",
       "    </tr>\n",
       "    <tr>\n",
       "      <th>2014-01-01 13:00:00</th>\n",
       "      <td>0.54</td>\n",
       "      <td>2014-01-01 13:00:00</td>\n",
       "      <td>NaN</td>\n",
       "      <td>33.0</td>\n",
       "      <td>35.000000</td>\n",
       "      <td>349.0</td>\n",
       "      <td>0.5140</td>\n",
       "    </tr>\n",
       "  </tbody>\n",
       "</table>\n",
       "</div>"
      ],
      "text/plain": [
       "                       co                date  nox  pm10       pm25     wd  \\\n",
       "datetime                                                                     \n",
       "2014-01-01 09:00:00  0.64 2014-01-01 09:00:00  NaN  29.0  34.000000  328.0   \n",
       "2014-01-01 10:00:00  0.79 2014-01-01 10:00:00  NaN  53.0  21.663548  345.0   \n",
       "2014-01-01 11:00:00  0.69 2014-01-01 11:00:00  NaN  39.0  40.000000  291.0   \n",
       "2014-01-01 12:00:00  0.59 2014-01-01 12:00:00  NaN  40.0  40.000000  273.0   \n",
       "2014-01-01 13:00:00  0.54 2014-01-01 13:00:00  NaN  33.0  35.000000  349.0   \n",
       "\n",
       "                         ws  \n",
       "datetime                     \n",
       "2014-01-01 09:00:00  0.5140  \n",
       "2014-01-01 10:00:00  0.4112  \n",
       "2014-01-01 11:00:00  0.5140  \n",
       "2014-01-01 12:00:00  0.7196  \n",
       "2014-01-01 13:00:00  0.5140  "
      ]
     },
     "execution_count": 57,
     "metadata": {},
     "output_type": "execute_result"
    }
   ],
   "source": [
    "df_to_save.head()"
   ]
  },
  {
   "cell_type": "code",
   "execution_count": 58,
   "metadata": {
    "collapsed": false
   },
   "outputs": [
    {
     "data": {
      "text/html": [
       "<div>\n",
       "<table border=\"1\" class=\"dataframe\">\n",
       "  <thead>\n",
       "    <tr style=\"text-align: right;\">\n",
       "      <th></th>\n",
       "      <th>co</th>\n",
       "      <th>date</th>\n",
       "      <th>nox</th>\n",
       "      <th>pm10</th>\n",
       "      <th>pm25</th>\n",
       "      <th>wd</th>\n",
       "      <th>ws</th>\n",
       "    </tr>\n",
       "    <tr>\n",
       "      <th>datetime</th>\n",
       "      <th></th>\n",
       "      <th></th>\n",
       "      <th></th>\n",
       "      <th></th>\n",
       "      <th></th>\n",
       "      <th></th>\n",
       "      <th></th>\n",
       "    </tr>\n",
       "  </thead>\n",
       "  <tbody>\n",
       "    <tr>\n",
       "      <th>2016-03-01 04:00:00</th>\n",
       "      <td>0.331978</td>\n",
       "      <td>2016-03-01 04:00:00</td>\n",
       "      <td>56.4</td>\n",
       "      <td>19.0</td>\n",
       "      <td>11.0</td>\n",
       "      <td>283.0</td>\n",
       "      <td>1.3878</td>\n",
       "    </tr>\n",
       "    <tr>\n",
       "      <th>2016-03-01 05:00:00</th>\n",
       "      <td>0.600000</td>\n",
       "      <td>2016-03-01 05:00:00</td>\n",
       "      <td>43.5</td>\n",
       "      <td>15.0</td>\n",
       "      <td>10.0</td>\n",
       "      <td>283.0</td>\n",
       "      <td>1.0794</td>\n",
       "    </tr>\n",
       "    <tr>\n",
       "      <th>2016-03-01 06:00:00</th>\n",
       "      <td>0.650000</td>\n",
       "      <td>2016-03-01 06:00:00</td>\n",
       "      <td>44.8</td>\n",
       "      <td>13.0</td>\n",
       "      <td>11.0</td>\n",
       "      <td>293.0</td>\n",
       "      <td>0.6168</td>\n",
       "    </tr>\n",
       "    <tr>\n",
       "      <th>2016-03-01 07:00:00</th>\n",
       "      <td>0.620000</td>\n",
       "      <td>2016-03-01 07:00:00</td>\n",
       "      <td>37.4</td>\n",
       "      <td>11.0</td>\n",
       "      <td>11.0</td>\n",
       "      <td>298.0</td>\n",
       "      <td>0.8224</td>\n",
       "    </tr>\n",
       "    <tr>\n",
       "      <th>2016-03-01 08:00:00</th>\n",
       "      <td>0.560000</td>\n",
       "      <td>2016-03-01 08:00:00</td>\n",
       "      <td>40.2</td>\n",
       "      <td>9.0</td>\n",
       "      <td>9.0</td>\n",
       "      <td>326.0</td>\n",
       "      <td>0.2056</td>\n",
       "    </tr>\n",
       "  </tbody>\n",
       "</table>\n",
       "</div>"
      ],
      "text/plain": [
       "                           co                date   nox  pm10  pm25     wd  \\\n",
       "datetime                                                                     \n",
       "2016-03-01 04:00:00  0.331978 2016-03-01 04:00:00  56.4  19.0  11.0  283.0   \n",
       "2016-03-01 05:00:00  0.600000 2016-03-01 05:00:00  43.5  15.0  10.0  283.0   \n",
       "2016-03-01 06:00:00  0.650000 2016-03-01 06:00:00  44.8  13.0  11.0  293.0   \n",
       "2016-03-01 07:00:00  0.620000 2016-03-01 07:00:00  37.4  11.0  11.0  298.0   \n",
       "2016-03-01 08:00:00  0.560000 2016-03-01 08:00:00  40.2   9.0   9.0  326.0   \n",
       "\n",
       "                         ws  \n",
       "datetime                     \n",
       "2016-03-01 04:00:00  1.3878  \n",
       "2016-03-01 05:00:00  1.0794  \n",
       "2016-03-01 06:00:00  0.6168  \n",
       "2016-03-01 07:00:00  0.8224  \n",
       "2016-03-01 08:00:00  0.2056  "
      ]
     },
     "execution_count": 58,
     "metadata": {},
     "output_type": "execute_result"
    }
   ],
   "source": [
    "df_to_save.dropna(subset=['wd'], inplace=True)\n",
    "df_to_save.dropna(subset=['ws'], inplace=True)\n",
    "df_to_save.tail()"
   ]
  },
  {
   "cell_type": "code",
   "execution_count": 59,
   "metadata": {
    "collapsed": false
   },
   "outputs": [
    {
     "data": {
      "text/plain": [
       "(16745, 7)"
      ]
     },
     "execution_count": 59,
     "metadata": {},
     "output_type": "execute_result"
    }
   ],
   "source": [
    "df_to_save.shape"
   ]
  },
  {
   "cell_type": "code",
   "execution_count": 60,
   "metadata": {
    "collapsed": true
   },
   "outputs": [],
   "source": [
    "df_to_save.to_csv(\"fairbanks_windrose_data.csv\", columns = ['date', 'ws','wd','pm25','co','nox','pm10'])"
   ]
  },
  {
   "cell_type": "code",
   "execution_count": 61,
   "metadata": {
    "collapsed": false
   },
   "outputs": [
    {
     "data": {
      "text/html": [
       "<div>\n",
       "<table border=\"1\" class=\"dataframe\">\n",
       "  <thead>\n",
       "    <tr style=\"text-align: right;\">\n",
       "      <th></th>\n",
       "      <th>site</th>\n",
       "      <th>data_status</th>\n",
       "      <th>action_code</th>\n",
       "      <th>datetime</th>\n",
       "      <th>parameter</th>\n",
       "      <th>duration</th>\n",
       "      <th>frequency</th>\n",
       "      <th>value</th>\n",
       "      <th>unit</th>\n",
       "      <th>qc</th>\n",
       "      <th>...</th>\n",
       "      <th>elev</th>\n",
       "      <th>method_code</th>\n",
       "      <th>mpc</th>\n",
       "      <th>mpc_value</th>\n",
       "      <th>uncertainty</th>\n",
       "      <th>qualifiers</th>\n",
       "      <th>doy</th>\n",
       "      <th>hour</th>\n",
       "      <th>month</th>\n",
       "      <th>season</th>\n",
       "    </tr>\n",
       "    <tr>\n",
       "      <th>datetime</th>\n",
       "      <th></th>\n",
       "      <th></th>\n",
       "      <th></th>\n",
       "      <th></th>\n",
       "      <th></th>\n",
       "      <th></th>\n",
       "      <th></th>\n",
       "      <th></th>\n",
       "      <th></th>\n",
       "      <th></th>\n",
       "      <th></th>\n",
       "      <th></th>\n",
       "      <th></th>\n",
       "      <th></th>\n",
       "      <th></th>\n",
       "      <th></th>\n",
       "      <th></th>\n",
       "      <th></th>\n",
       "      <th></th>\n",
       "      <th></th>\n",
       "      <th></th>\n",
       "    </tr>\n",
       "  </thead>\n",
       "  <tbody>\n",
       "    <tr>\n",
       "      <th>2014-07-01 12:00:00</th>\n",
       "      <td>840020900034</td>\n",
       "      <td>0.0</td>\n",
       "      <td>10.0</td>\n",
       "      <td>2014-07-01 12:00:00</td>\n",
       "      <td>42603.0</td>\n",
       "      <td>60.0</td>\n",
       "      <td>0.0</td>\n",
       "      <td>0.9</td>\n",
       "      <td>8.0</td>\n",
       "      <td>0.0</td>\n",
       "      <td>...</td>\n",
       "      <td>132.0</td>\n",
       "      <td>574.0</td>\n",
       "      <td>1.0</td>\n",
       "      <td>0.05</td>\n",
       "      <td>NaN</td>\n",
       "      <td>NaN</td>\n",
       "      <td>182</td>\n",
       "      <td>12</td>\n",
       "      <td>7</td>\n",
       "      <td>Summer</td>\n",
       "    </tr>\n",
       "    <tr>\n",
       "      <th>2014-07-01 13:00:00</th>\n",
       "      <td>840020900034</td>\n",
       "      <td>0.0</td>\n",
       "      <td>10.0</td>\n",
       "      <td>2014-07-01 13:00:00</td>\n",
       "      <td>42603.0</td>\n",
       "      <td>60.0</td>\n",
       "      <td>0.0</td>\n",
       "      <td>1.2</td>\n",
       "      <td>8.0</td>\n",
       "      <td>0.0</td>\n",
       "      <td>...</td>\n",
       "      <td>132.0</td>\n",
       "      <td>574.0</td>\n",
       "      <td>1.0</td>\n",
       "      <td>0.05</td>\n",
       "      <td>NaN</td>\n",
       "      <td>NaN</td>\n",
       "      <td>182</td>\n",
       "      <td>13</td>\n",
       "      <td>7</td>\n",
       "      <td>Summer</td>\n",
       "    </tr>\n",
       "    <tr>\n",
       "      <th>2014-07-01 14:00:00</th>\n",
       "      <td>840020900034</td>\n",
       "      <td>0.0</td>\n",
       "      <td>10.0</td>\n",
       "      <td>2014-07-01 14:00:00</td>\n",
       "      <td>42603.0</td>\n",
       "      <td>60.0</td>\n",
       "      <td>0.0</td>\n",
       "      <td>2.2</td>\n",
       "      <td>8.0</td>\n",
       "      <td>0.0</td>\n",
       "      <td>...</td>\n",
       "      <td>132.0</td>\n",
       "      <td>574.0</td>\n",
       "      <td>1.0</td>\n",
       "      <td>0.05</td>\n",
       "      <td>NaN</td>\n",
       "      <td>NaN</td>\n",
       "      <td>182</td>\n",
       "      <td>14</td>\n",
       "      <td>7</td>\n",
       "      <td>Summer</td>\n",
       "    </tr>\n",
       "    <tr>\n",
       "      <th>2014-07-01 15:00:00</th>\n",
       "      <td>840020900034</td>\n",
       "      <td>0.0</td>\n",
       "      <td>10.0</td>\n",
       "      <td>2014-07-01 15:00:00</td>\n",
       "      <td>42603.0</td>\n",
       "      <td>60.0</td>\n",
       "      <td>0.0</td>\n",
       "      <td>4.1</td>\n",
       "      <td>8.0</td>\n",
       "      <td>0.0</td>\n",
       "      <td>...</td>\n",
       "      <td>132.0</td>\n",
       "      <td>574.0</td>\n",
       "      <td>1.0</td>\n",
       "      <td>0.05</td>\n",
       "      <td>NaN</td>\n",
       "      <td>NaN</td>\n",
       "      <td>182</td>\n",
       "      <td>15</td>\n",
       "      <td>7</td>\n",
       "      <td>Summer</td>\n",
       "    </tr>\n",
       "    <tr>\n",
       "      <th>2014-07-01 16:00:00</th>\n",
       "      <td>840020900034</td>\n",
       "      <td>0.0</td>\n",
       "      <td>10.0</td>\n",
       "      <td>2014-07-01 16:00:00</td>\n",
       "      <td>42603.0</td>\n",
       "      <td>60.0</td>\n",
       "      <td>0.0</td>\n",
       "      <td>5.0</td>\n",
       "      <td>8.0</td>\n",
       "      <td>0.0</td>\n",
       "      <td>...</td>\n",
       "      <td>132.0</td>\n",
       "      <td>574.0</td>\n",
       "      <td>1.0</td>\n",
       "      <td>0.05</td>\n",
       "      <td>NaN</td>\n",
       "      <td>NaN</td>\n",
       "      <td>182</td>\n",
       "      <td>16</td>\n",
       "      <td>7</td>\n",
       "      <td>Summer</td>\n",
       "    </tr>\n",
       "    <tr>\n",
       "      <th>2014-07-01 17:00:00</th>\n",
       "      <td>840020900034</td>\n",
       "      <td>0.0</td>\n",
       "      <td>10.0</td>\n",
       "      <td>2014-07-01 17:00:00</td>\n",
       "      <td>42603.0</td>\n",
       "      <td>60.0</td>\n",
       "      <td>0.0</td>\n",
       "      <td>4.8</td>\n",
       "      <td>8.0</td>\n",
       "      <td>0.0</td>\n",
       "      <td>...</td>\n",
       "      <td>132.0</td>\n",
       "      <td>574.0</td>\n",
       "      <td>1.0</td>\n",
       "      <td>0.05</td>\n",
       "      <td>NaN</td>\n",
       "      <td>NaN</td>\n",
       "      <td>182</td>\n",
       "      <td>17</td>\n",
       "      <td>7</td>\n",
       "      <td>Summer</td>\n",
       "    </tr>\n",
       "    <tr>\n",
       "      <th>2014-07-01 18:00:00</th>\n",
       "      <td>840020900034</td>\n",
       "      <td>0.0</td>\n",
       "      <td>10.0</td>\n",
       "      <td>2014-07-01 18:00:00</td>\n",
       "      <td>42603.0</td>\n",
       "      <td>60.0</td>\n",
       "      <td>0.0</td>\n",
       "      <td>6.4</td>\n",
       "      <td>8.0</td>\n",
       "      <td>0.0</td>\n",
       "      <td>...</td>\n",
       "      <td>132.0</td>\n",
       "      <td>574.0</td>\n",
       "      <td>1.0</td>\n",
       "      <td>0.05</td>\n",
       "      <td>NaN</td>\n",
       "      <td>NaN</td>\n",
       "      <td>182</td>\n",
       "      <td>18</td>\n",
       "      <td>7</td>\n",
       "      <td>Summer</td>\n",
       "    </tr>\n",
       "    <tr>\n",
       "      <th>2014-07-01 19:00:00</th>\n",
       "      <td>840020900034</td>\n",
       "      <td>0.0</td>\n",
       "      <td>10.0</td>\n",
       "      <td>2014-07-01 19:00:00</td>\n",
       "      <td>42603.0</td>\n",
       "      <td>60.0</td>\n",
       "      <td>0.0</td>\n",
       "      <td>4.5</td>\n",
       "      <td>8.0</td>\n",
       "      <td>0.0</td>\n",
       "      <td>...</td>\n",
       "      <td>132.0</td>\n",
       "      <td>574.0</td>\n",
       "      <td>1.0</td>\n",
       "      <td>0.05</td>\n",
       "      <td>NaN</td>\n",
       "      <td>NaN</td>\n",
       "      <td>182</td>\n",
       "      <td>19</td>\n",
       "      <td>7</td>\n",
       "      <td>Summer</td>\n",
       "    </tr>\n",
       "    <tr>\n",
       "      <th>2014-07-01 20:00:00</th>\n",
       "      <td>840020900034</td>\n",
       "      <td>0.0</td>\n",
       "      <td>10.0</td>\n",
       "      <td>2014-07-01 20:00:00</td>\n",
       "      <td>42603.0</td>\n",
       "      <td>60.0</td>\n",
       "      <td>0.0</td>\n",
       "      <td>3.6</td>\n",
       "      <td>8.0</td>\n",
       "      <td>0.0</td>\n",
       "      <td>...</td>\n",
       "      <td>132.0</td>\n",
       "      <td>574.0</td>\n",
       "      <td>1.0</td>\n",
       "      <td>0.05</td>\n",
       "      <td>NaN</td>\n",
       "      <td>NaN</td>\n",
       "      <td>182</td>\n",
       "      <td>20</td>\n",
       "      <td>7</td>\n",
       "      <td>Summer</td>\n",
       "    </tr>\n",
       "    <tr>\n",
       "      <th>2014-07-01 21:00:00</th>\n",
       "      <td>840020900034</td>\n",
       "      <td>0.0</td>\n",
       "      <td>10.0</td>\n",
       "      <td>2014-07-01 21:00:00</td>\n",
       "      <td>42603.0</td>\n",
       "      <td>60.0</td>\n",
       "      <td>0.0</td>\n",
       "      <td>3.9</td>\n",
       "      <td>8.0</td>\n",
       "      <td>0.0</td>\n",
       "      <td>...</td>\n",
       "      <td>132.0</td>\n",
       "      <td>574.0</td>\n",
       "      <td>1.0</td>\n",
       "      <td>0.05</td>\n",
       "      <td>NaN</td>\n",
       "      <td>NaN</td>\n",
       "      <td>182</td>\n",
       "      <td>21</td>\n",
       "      <td>7</td>\n",
       "      <td>Summer</td>\n",
       "    </tr>\n",
       "    <tr>\n",
       "      <th>2014-07-01 22:00:00</th>\n",
       "      <td>840020900034</td>\n",
       "      <td>0.0</td>\n",
       "      <td>10.0</td>\n",
       "      <td>2014-07-01 22:00:00</td>\n",
       "      <td>42603.0</td>\n",
       "      <td>60.0</td>\n",
       "      <td>0.0</td>\n",
       "      <td>3.2</td>\n",
       "      <td>8.0</td>\n",
       "      <td>0.0</td>\n",
       "      <td>...</td>\n",
       "      <td>132.0</td>\n",
       "      <td>574.0</td>\n",
       "      <td>1.0</td>\n",
       "      <td>0.05</td>\n",
       "      <td>NaN</td>\n",
       "      <td>NaN</td>\n",
       "      <td>182</td>\n",
       "      <td>22</td>\n",
       "      <td>7</td>\n",
       "      <td>Summer</td>\n",
       "    </tr>\n",
       "    <tr>\n",
       "      <th>2014-07-01 23:00:00</th>\n",
       "      <td>840020900034</td>\n",
       "      <td>0.0</td>\n",
       "      <td>10.0</td>\n",
       "      <td>2014-07-01 23:00:00</td>\n",
       "      <td>42603.0</td>\n",
       "      <td>60.0</td>\n",
       "      <td>0.0</td>\n",
       "      <td>2.8</td>\n",
       "      <td>8.0</td>\n",
       "      <td>0.0</td>\n",
       "      <td>...</td>\n",
       "      <td>132.0</td>\n",
       "      <td>574.0</td>\n",
       "      <td>1.0</td>\n",
       "      <td>0.05</td>\n",
       "      <td>NaN</td>\n",
       "      <td>NaN</td>\n",
       "      <td>182</td>\n",
       "      <td>23</td>\n",
       "      <td>7</td>\n",
       "      <td>Summer</td>\n",
       "    </tr>\n",
       "    <tr>\n",
       "      <th>2014-07-02 00:00:00</th>\n",
       "      <td>840020900034</td>\n",
       "      <td>0.0</td>\n",
       "      <td>10.0</td>\n",
       "      <td>2014-07-02 00:00:00</td>\n",
       "      <td>42603.0</td>\n",
       "      <td>60.0</td>\n",
       "      <td>0.0</td>\n",
       "      <td>3.0</td>\n",
       "      <td>8.0</td>\n",
       "      <td>0.0</td>\n",
       "      <td>...</td>\n",
       "      <td>132.0</td>\n",
       "      <td>574.0</td>\n",
       "      <td>1.0</td>\n",
       "      <td>0.05</td>\n",
       "      <td>NaN</td>\n",
       "      <td>NaN</td>\n",
       "      <td>183</td>\n",
       "      <td>0</td>\n",
       "      <td>7</td>\n",
       "      <td>Summer</td>\n",
       "    </tr>\n",
       "    <tr>\n",
       "      <th>2014-07-02 01:00:00</th>\n",
       "      <td>840020900034</td>\n",
       "      <td>0.0</td>\n",
       "      <td>10.0</td>\n",
       "      <td>2014-07-02 01:00:00</td>\n",
       "      <td>42603.0</td>\n",
       "      <td>60.0</td>\n",
       "      <td>0.0</td>\n",
       "      <td>3.6</td>\n",
       "      <td>8.0</td>\n",
       "      <td>0.0</td>\n",
       "      <td>...</td>\n",
       "      <td>132.0</td>\n",
       "      <td>574.0</td>\n",
       "      <td>1.0</td>\n",
       "      <td>0.05</td>\n",
       "      <td>NaN</td>\n",
       "      <td>NaN</td>\n",
       "      <td>183</td>\n",
       "      <td>1</td>\n",
       "      <td>7</td>\n",
       "      <td>Summer</td>\n",
       "    </tr>\n",
       "    <tr>\n",
       "      <th>2014-07-02 02:00:00</th>\n",
       "      <td>840020900034</td>\n",
       "      <td>0.0</td>\n",
       "      <td>10.0</td>\n",
       "      <td>2014-07-02 02:00:00</td>\n",
       "      <td>42603.0</td>\n",
       "      <td>60.0</td>\n",
       "      <td>0.0</td>\n",
       "      <td>2.8</td>\n",
       "      <td>8.0</td>\n",
       "      <td>0.0</td>\n",
       "      <td>...</td>\n",
       "      <td>132.0</td>\n",
       "      <td>574.0</td>\n",
       "      <td>1.0</td>\n",
       "      <td>0.05</td>\n",
       "      <td>NaN</td>\n",
       "      <td>NaN</td>\n",
       "      <td>183</td>\n",
       "      <td>2</td>\n",
       "      <td>7</td>\n",
       "      <td>Summer</td>\n",
       "    </tr>\n",
       "    <tr>\n",
       "      <th>2014-07-02 03:00:00</th>\n",
       "      <td>840020900034</td>\n",
       "      <td>0.0</td>\n",
       "      <td>10.0</td>\n",
       "      <td>2014-07-02 03:00:00</td>\n",
       "      <td>42603.0</td>\n",
       "      <td>60.0</td>\n",
       "      <td>0.0</td>\n",
       "      <td>1.8</td>\n",
       "      <td>8.0</td>\n",
       "      <td>0.0</td>\n",
       "      <td>...</td>\n",
       "      <td>132.0</td>\n",
       "      <td>574.0</td>\n",
       "      <td>1.0</td>\n",
       "      <td>0.05</td>\n",
       "      <td>NaN</td>\n",
       "      <td>NaN</td>\n",
       "      <td>183</td>\n",
       "      <td>3</td>\n",
       "      <td>7</td>\n",
       "      <td>Summer</td>\n",
       "    </tr>\n",
       "    <tr>\n",
       "      <th>2014-07-02 04:00:00</th>\n",
       "      <td>840020900034</td>\n",
       "      <td>0.0</td>\n",
       "      <td>10.0</td>\n",
       "      <td>2014-07-02 04:00:00</td>\n",
       "      <td>42603.0</td>\n",
       "      <td>60.0</td>\n",
       "      <td>0.0</td>\n",
       "      <td>2.1</td>\n",
       "      <td>8.0</td>\n",
       "      <td>0.0</td>\n",
       "      <td>...</td>\n",
       "      <td>132.0</td>\n",
       "      <td>574.0</td>\n",
       "      <td>1.0</td>\n",
       "      <td>0.05</td>\n",
       "      <td>NaN</td>\n",
       "      <td>NaN</td>\n",
       "      <td>183</td>\n",
       "      <td>4</td>\n",
       "      <td>7</td>\n",
       "      <td>Summer</td>\n",
       "    </tr>\n",
       "    <tr>\n",
       "      <th>2014-07-02 05:00:00</th>\n",
       "      <td>840020900034</td>\n",
       "      <td>0.0</td>\n",
       "      <td>10.0</td>\n",
       "      <td>2014-07-02 05:00:00</td>\n",
       "      <td>42603.0</td>\n",
       "      <td>60.0</td>\n",
       "      <td>0.0</td>\n",
       "      <td>1.1</td>\n",
       "      <td>8.0</td>\n",
       "      <td>0.0</td>\n",
       "      <td>...</td>\n",
       "      <td>132.0</td>\n",
       "      <td>574.0</td>\n",
       "      <td>1.0</td>\n",
       "      <td>0.05</td>\n",
       "      <td>NaN</td>\n",
       "      <td>NaN</td>\n",
       "      <td>183</td>\n",
       "      <td>5</td>\n",
       "      <td>7</td>\n",
       "      <td>Summer</td>\n",
       "    </tr>\n",
       "    <tr>\n",
       "      <th>2014-07-02 06:00:00</th>\n",
       "      <td>840020900034</td>\n",
       "      <td>0.0</td>\n",
       "      <td>10.0</td>\n",
       "      <td>2014-07-02 06:00:00</td>\n",
       "      <td>42603.0</td>\n",
       "      <td>60.0</td>\n",
       "      <td>0.0</td>\n",
       "      <td>1.0</td>\n",
       "      <td>8.0</td>\n",
       "      <td>0.0</td>\n",
       "      <td>...</td>\n",
       "      <td>132.0</td>\n",
       "      <td>574.0</td>\n",
       "      <td>1.0</td>\n",
       "      <td>0.05</td>\n",
       "      <td>NaN</td>\n",
       "      <td>NaN</td>\n",
       "      <td>183</td>\n",
       "      <td>6</td>\n",
       "      <td>7</td>\n",
       "      <td>Summer</td>\n",
       "    </tr>\n",
       "    <tr>\n",
       "      <th>2014-07-02 07:00:00</th>\n",
       "      <td>840020900034</td>\n",
       "      <td>0.0</td>\n",
       "      <td>10.0</td>\n",
       "      <td>2014-07-02 07:00:00</td>\n",
       "      <td>42603.0</td>\n",
       "      <td>60.0</td>\n",
       "      <td>0.0</td>\n",
       "      <td>1.2</td>\n",
       "      <td>8.0</td>\n",
       "      <td>0.0</td>\n",
       "      <td>...</td>\n",
       "      <td>132.0</td>\n",
       "      <td>574.0</td>\n",
       "      <td>1.0</td>\n",
       "      <td>0.05</td>\n",
       "      <td>NaN</td>\n",
       "      <td>NaN</td>\n",
       "      <td>183</td>\n",
       "      <td>7</td>\n",
       "      <td>7</td>\n",
       "      <td>Summer</td>\n",
       "    </tr>\n",
       "    <tr>\n",
       "      <th>2014-07-02 08:00:00</th>\n",
       "      <td>840020900034</td>\n",
       "      <td>0.0</td>\n",
       "      <td>10.0</td>\n",
       "      <td>2014-07-02 08:00:00</td>\n",
       "      <td>42603.0</td>\n",
       "      <td>60.0</td>\n",
       "      <td>0.0</td>\n",
       "      <td>0.7</td>\n",
       "      <td>8.0</td>\n",
       "      <td>0.0</td>\n",
       "      <td>...</td>\n",
       "      <td>132.0</td>\n",
       "      <td>574.0</td>\n",
       "      <td>1.0</td>\n",
       "      <td>0.05</td>\n",
       "      <td>NaN</td>\n",
       "      <td>NaN</td>\n",
       "      <td>183</td>\n",
       "      <td>8</td>\n",
       "      <td>7</td>\n",
       "      <td>Summer</td>\n",
       "    </tr>\n",
       "    <tr>\n",
       "      <th>2014-07-02 09:00:00</th>\n",
       "      <td>840020900034</td>\n",
       "      <td>0.0</td>\n",
       "      <td>10.0</td>\n",
       "      <td>2014-07-02 09:00:00</td>\n",
       "      <td>42603.0</td>\n",
       "      <td>60.0</td>\n",
       "      <td>0.0</td>\n",
       "      <td>1.0</td>\n",
       "      <td>8.0</td>\n",
       "      <td>0.0</td>\n",
       "      <td>...</td>\n",
       "      <td>132.0</td>\n",
       "      <td>574.0</td>\n",
       "      <td>1.0</td>\n",
       "      <td>0.05</td>\n",
       "      <td>NaN</td>\n",
       "      <td>NaN</td>\n",
       "      <td>183</td>\n",
       "      <td>9</td>\n",
       "      <td>7</td>\n",
       "      <td>Summer</td>\n",
       "    </tr>\n",
       "    <tr>\n",
       "      <th>2014-07-02 10:00:00</th>\n",
       "      <td>840020900034</td>\n",
       "      <td>0.0</td>\n",
       "      <td>10.0</td>\n",
       "      <td>2014-07-02 10:00:00</td>\n",
       "      <td>42603.0</td>\n",
       "      <td>60.0</td>\n",
       "      <td>0.0</td>\n",
       "      <td>0.5</td>\n",
       "      <td>8.0</td>\n",
       "      <td>0.0</td>\n",
       "      <td>...</td>\n",
       "      <td>132.0</td>\n",
       "      <td>574.0</td>\n",
       "      <td>1.0</td>\n",
       "      <td>0.05</td>\n",
       "      <td>NaN</td>\n",
       "      <td>NaN</td>\n",
       "      <td>183</td>\n",
       "      <td>10</td>\n",
       "      <td>7</td>\n",
       "      <td>Summer</td>\n",
       "    </tr>\n",
       "    <tr>\n",
       "      <th>2014-07-02 11:00:00</th>\n",
       "      <td>840020900034</td>\n",
       "      <td>0.0</td>\n",
       "      <td>10.0</td>\n",
       "      <td>2014-07-02 11:00:00</td>\n",
       "      <td>42603.0</td>\n",
       "      <td>60.0</td>\n",
       "      <td>0.0</td>\n",
       "      <td>0.3</td>\n",
       "      <td>8.0</td>\n",
       "      <td>0.0</td>\n",
       "      <td>...</td>\n",
       "      <td>132.0</td>\n",
       "      <td>574.0</td>\n",
       "      <td>1.0</td>\n",
       "      <td>0.05</td>\n",
       "      <td>NaN</td>\n",
       "      <td>NaN</td>\n",
       "      <td>183</td>\n",
       "      <td>11</td>\n",
       "      <td>7</td>\n",
       "      <td>Summer</td>\n",
       "    </tr>\n",
       "    <tr>\n",
       "      <th>2014-07-02 12:00:00</th>\n",
       "      <td>840020900034</td>\n",
       "      <td>0.0</td>\n",
       "      <td>10.0</td>\n",
       "      <td>2014-07-02 12:00:00</td>\n",
       "      <td>42603.0</td>\n",
       "      <td>60.0</td>\n",
       "      <td>0.0</td>\n",
       "      <td>0.5</td>\n",
       "      <td>8.0</td>\n",
       "      <td>0.0</td>\n",
       "      <td>...</td>\n",
       "      <td>132.0</td>\n",
       "      <td>574.0</td>\n",
       "      <td>1.0</td>\n",
       "      <td>0.05</td>\n",
       "      <td>NaN</td>\n",
       "      <td>NaN</td>\n",
       "      <td>183</td>\n",
       "      <td>12</td>\n",
       "      <td>7</td>\n",
       "      <td>Summer</td>\n",
       "    </tr>\n",
       "    <tr>\n",
       "      <th>2014-07-02 13:00:00</th>\n",
       "      <td>840020900034</td>\n",
       "      <td>0.0</td>\n",
       "      <td>10.0</td>\n",
       "      <td>2014-07-02 13:00:00</td>\n",
       "      <td>42603.0</td>\n",
       "      <td>60.0</td>\n",
       "      <td>0.0</td>\n",
       "      <td>0.8</td>\n",
       "      <td>8.0</td>\n",
       "      <td>0.0</td>\n",
       "      <td>...</td>\n",
       "      <td>132.0</td>\n",
       "      <td>574.0</td>\n",
       "      <td>1.0</td>\n",
       "      <td>0.05</td>\n",
       "      <td>NaN</td>\n",
       "      <td>NaN</td>\n",
       "      <td>183</td>\n",
       "      <td>13</td>\n",
       "      <td>7</td>\n",
       "      <td>Summer</td>\n",
       "    </tr>\n",
       "    <tr>\n",
       "      <th>2014-07-02 14:00:00</th>\n",
       "      <td>840020900034</td>\n",
       "      <td>0.0</td>\n",
       "      <td>10.0</td>\n",
       "      <td>2014-07-02 14:00:00</td>\n",
       "      <td>42603.0</td>\n",
       "      <td>60.0</td>\n",
       "      <td>0.0</td>\n",
       "      <td>1.4</td>\n",
       "      <td>8.0</td>\n",
       "      <td>0.0</td>\n",
       "      <td>...</td>\n",
       "      <td>132.0</td>\n",
       "      <td>574.0</td>\n",
       "      <td>1.0</td>\n",
       "      <td>0.05</td>\n",
       "      <td>NaN</td>\n",
       "      <td>NaN</td>\n",
       "      <td>183</td>\n",
       "      <td>14</td>\n",
       "      <td>7</td>\n",
       "      <td>Summer</td>\n",
       "    </tr>\n",
       "    <tr>\n",
       "      <th>2014-07-02 15:00:00</th>\n",
       "      <td>840020900034</td>\n",
       "      <td>0.0</td>\n",
       "      <td>10.0</td>\n",
       "      <td>2014-07-02 15:00:00</td>\n",
       "      <td>42603.0</td>\n",
       "      <td>60.0</td>\n",
       "      <td>0.0</td>\n",
       "      <td>5.4</td>\n",
       "      <td>8.0</td>\n",
       "      <td>0.0</td>\n",
       "      <td>...</td>\n",
       "      <td>132.0</td>\n",
       "      <td>574.0</td>\n",
       "      <td>1.0</td>\n",
       "      <td>0.05</td>\n",
       "      <td>NaN</td>\n",
       "      <td>NaN</td>\n",
       "      <td>183</td>\n",
       "      <td>15</td>\n",
       "      <td>7</td>\n",
       "      <td>Summer</td>\n",
       "    </tr>\n",
       "    <tr>\n",
       "      <th>2014-07-02 16:00:00</th>\n",
       "      <td>840020900034</td>\n",
       "      <td>0.0</td>\n",
       "      <td>10.0</td>\n",
       "      <td>2014-07-02 16:00:00</td>\n",
       "      <td>42603.0</td>\n",
       "      <td>60.0</td>\n",
       "      <td>0.0</td>\n",
       "      <td>4.2</td>\n",
       "      <td>8.0</td>\n",
       "      <td>0.0</td>\n",
       "      <td>...</td>\n",
       "      <td>132.0</td>\n",
       "      <td>574.0</td>\n",
       "      <td>1.0</td>\n",
       "      <td>0.05</td>\n",
       "      <td>NaN</td>\n",
       "      <td>NaN</td>\n",
       "      <td>183</td>\n",
       "      <td>16</td>\n",
       "      <td>7</td>\n",
       "      <td>Summer</td>\n",
       "    </tr>\n",
       "    <tr>\n",
       "      <th>2014-07-02 17:00:00</th>\n",
       "      <td>840020900034</td>\n",
       "      <td>0.0</td>\n",
       "      <td>10.0</td>\n",
       "      <td>2014-07-02 17:00:00</td>\n",
       "      <td>42603.0</td>\n",
       "      <td>60.0</td>\n",
       "      <td>0.0</td>\n",
       "      <td>4.1</td>\n",
       "      <td>8.0</td>\n",
       "      <td>0.0</td>\n",
       "      <td>...</td>\n",
       "      <td>132.0</td>\n",
       "      <td>574.0</td>\n",
       "      <td>1.0</td>\n",
       "      <td>0.05</td>\n",
       "      <td>NaN</td>\n",
       "      <td>NaN</td>\n",
       "      <td>183</td>\n",
       "      <td>17</td>\n",
       "      <td>7</td>\n",
       "      <td>Summer</td>\n",
       "    </tr>\n",
       "    <tr>\n",
       "      <th>...</th>\n",
       "      <td>...</td>\n",
       "      <td>...</td>\n",
       "      <td>...</td>\n",
       "      <td>...</td>\n",
       "      <td>...</td>\n",
       "      <td>...</td>\n",
       "      <td>...</td>\n",
       "      <td>...</td>\n",
       "      <td>...</td>\n",
       "      <td>...</td>\n",
       "      <td>...</td>\n",
       "      <td>...</td>\n",
       "      <td>...</td>\n",
       "      <td>...</td>\n",
       "      <td>...</td>\n",
       "      <td>...</td>\n",
       "      <td>...</td>\n",
       "      <td>...</td>\n",
       "      <td>...</td>\n",
       "      <td>...</td>\n",
       "      <td>...</td>\n",
       "    </tr>\n",
       "    <tr>\n",
       "      <th>2016-12-31 01:00:00</th>\n",
       "      <td>840020900034</td>\n",
       "      <td>0.0</td>\n",
       "      <td>10.0</td>\n",
       "      <td>2016-12-31 01:00:00</td>\n",
       "      <td>42603.0</td>\n",
       "      <td>60.0</td>\n",
       "      <td>0.0</td>\n",
       "      <td>1.7</td>\n",
       "      <td>8.0</td>\n",
       "      <td>0.0</td>\n",
       "      <td>...</td>\n",
       "      <td>132.0</td>\n",
       "      <td>574.0</td>\n",
       "      <td>1.0</td>\n",
       "      <td>0.05</td>\n",
       "      <td>NaN</td>\n",
       "      <td>NaN</td>\n",
       "      <td>366</td>\n",
       "      <td>1</td>\n",
       "      <td>12</td>\n",
       "      <td>Winter</td>\n",
       "    </tr>\n",
       "    <tr>\n",
       "      <th>2016-12-31 02:00:00</th>\n",
       "      <td>840020900034</td>\n",
       "      <td>0.0</td>\n",
       "      <td>10.0</td>\n",
       "      <td>2016-12-31 02:00:00</td>\n",
       "      <td>42603.0</td>\n",
       "      <td>60.0</td>\n",
       "      <td>0.0</td>\n",
       "      <td>1.7</td>\n",
       "      <td>8.0</td>\n",
       "      <td>0.0</td>\n",
       "      <td>...</td>\n",
       "      <td>132.0</td>\n",
       "      <td>574.0</td>\n",
       "      <td>1.0</td>\n",
       "      <td>0.05</td>\n",
       "      <td>NaN</td>\n",
       "      <td>NaN</td>\n",
       "      <td>366</td>\n",
       "      <td>2</td>\n",
       "      <td>12</td>\n",
       "      <td>Winter</td>\n",
       "    </tr>\n",
       "    <tr>\n",
       "      <th>2016-12-31 03:00:00</th>\n",
       "      <td>840020900034</td>\n",
       "      <td>0.0</td>\n",
       "      <td>10.0</td>\n",
       "      <td>2016-12-31 03:00:00</td>\n",
       "      <td>42603.0</td>\n",
       "      <td>60.0</td>\n",
       "      <td>0.0</td>\n",
       "      <td>2.0</td>\n",
       "      <td>8.0</td>\n",
       "      <td>0.0</td>\n",
       "      <td>...</td>\n",
       "      <td>132.0</td>\n",
       "      <td>574.0</td>\n",
       "      <td>1.0</td>\n",
       "      <td>0.05</td>\n",
       "      <td>NaN</td>\n",
       "      <td>NaN</td>\n",
       "      <td>366</td>\n",
       "      <td>3</td>\n",
       "      <td>12</td>\n",
       "      <td>Winter</td>\n",
       "    </tr>\n",
       "    <tr>\n",
       "      <th>2016-12-31 04:00:00</th>\n",
       "      <td>840020900034</td>\n",
       "      <td>0.0</td>\n",
       "      <td>10.0</td>\n",
       "      <td>2016-12-31 04:00:00</td>\n",
       "      <td>42603.0</td>\n",
       "      <td>60.0</td>\n",
       "      <td>0.0</td>\n",
       "      <td>2.4</td>\n",
       "      <td>8.0</td>\n",
       "      <td>0.0</td>\n",
       "      <td>...</td>\n",
       "      <td>132.0</td>\n",
       "      <td>574.0</td>\n",
       "      <td>1.0</td>\n",
       "      <td>0.05</td>\n",
       "      <td>NaN</td>\n",
       "      <td>NaN</td>\n",
       "      <td>366</td>\n",
       "      <td>4</td>\n",
       "      <td>12</td>\n",
       "      <td>Winter</td>\n",
       "    </tr>\n",
       "    <tr>\n",
       "      <th>2016-12-31 05:00:00</th>\n",
       "      <td>840020900034</td>\n",
       "      <td>0.0</td>\n",
       "      <td>10.0</td>\n",
       "      <td>2016-12-31 05:00:00</td>\n",
       "      <td>42603.0</td>\n",
       "      <td>60.0</td>\n",
       "      <td>0.0</td>\n",
       "      <td>2.5</td>\n",
       "      <td>8.0</td>\n",
       "      <td>0.0</td>\n",
       "      <td>...</td>\n",
       "      <td>132.0</td>\n",
       "      <td>574.0</td>\n",
       "      <td>1.0</td>\n",
       "      <td>0.05</td>\n",
       "      <td>NaN</td>\n",
       "      <td>NaN</td>\n",
       "      <td>366</td>\n",
       "      <td>5</td>\n",
       "      <td>12</td>\n",
       "      <td>Winter</td>\n",
       "    </tr>\n",
       "    <tr>\n",
       "      <th>2016-12-31 06:00:00</th>\n",
       "      <td>840020900034</td>\n",
       "      <td>0.0</td>\n",
       "      <td>10.0</td>\n",
       "      <td>2016-12-31 06:00:00</td>\n",
       "      <td>42603.0</td>\n",
       "      <td>60.0</td>\n",
       "      <td>0.0</td>\n",
       "      <td>1.7</td>\n",
       "      <td>8.0</td>\n",
       "      <td>0.0</td>\n",
       "      <td>...</td>\n",
       "      <td>132.0</td>\n",
       "      <td>574.0</td>\n",
       "      <td>1.0</td>\n",
       "      <td>0.05</td>\n",
       "      <td>NaN</td>\n",
       "      <td>NaN</td>\n",
       "      <td>366</td>\n",
       "      <td>6</td>\n",
       "      <td>12</td>\n",
       "      <td>Winter</td>\n",
       "    </tr>\n",
       "    <tr>\n",
       "      <th>2016-12-31 07:00:00</th>\n",
       "      <td>840020900034</td>\n",
       "      <td>0.0</td>\n",
       "      <td>10.0</td>\n",
       "      <td>2016-12-31 07:00:00</td>\n",
       "      <td>42603.0</td>\n",
       "      <td>60.0</td>\n",
       "      <td>0.0</td>\n",
       "      <td>1.2</td>\n",
       "      <td>8.0</td>\n",
       "      <td>0.0</td>\n",
       "      <td>...</td>\n",
       "      <td>132.0</td>\n",
       "      <td>574.0</td>\n",
       "      <td>1.0</td>\n",
       "      <td>0.05</td>\n",
       "      <td>NaN</td>\n",
       "      <td>NaN</td>\n",
       "      <td>366</td>\n",
       "      <td>7</td>\n",
       "      <td>12</td>\n",
       "      <td>Winter</td>\n",
       "    </tr>\n",
       "    <tr>\n",
       "      <th>2016-12-31 08:00:00</th>\n",
       "      <td>840020900034</td>\n",
       "      <td>0.0</td>\n",
       "      <td>10.0</td>\n",
       "      <td>2016-12-31 08:00:00</td>\n",
       "      <td>42603.0</td>\n",
       "      <td>60.0</td>\n",
       "      <td>0.0</td>\n",
       "      <td>1.2</td>\n",
       "      <td>8.0</td>\n",
       "      <td>0.0</td>\n",
       "      <td>...</td>\n",
       "      <td>132.0</td>\n",
       "      <td>574.0</td>\n",
       "      <td>1.0</td>\n",
       "      <td>0.05</td>\n",
       "      <td>NaN</td>\n",
       "      <td>NaN</td>\n",
       "      <td>366</td>\n",
       "      <td>8</td>\n",
       "      <td>12</td>\n",
       "      <td>Winter</td>\n",
       "    </tr>\n",
       "    <tr>\n",
       "      <th>2016-12-31 09:00:00</th>\n",
       "      <td>840020900034</td>\n",
       "      <td>0.0</td>\n",
       "      <td>10.0</td>\n",
       "      <td>2016-12-31 09:00:00</td>\n",
       "      <td>42603.0</td>\n",
       "      <td>60.0</td>\n",
       "      <td>0.0</td>\n",
       "      <td>1.3</td>\n",
       "      <td>8.0</td>\n",
       "      <td>0.0</td>\n",
       "      <td>...</td>\n",
       "      <td>132.0</td>\n",
       "      <td>574.0</td>\n",
       "      <td>1.0</td>\n",
       "      <td>0.05</td>\n",
       "      <td>NaN</td>\n",
       "      <td>NaN</td>\n",
       "      <td>366</td>\n",
       "      <td>9</td>\n",
       "      <td>12</td>\n",
       "      <td>Winter</td>\n",
       "    </tr>\n",
       "    <tr>\n",
       "      <th>2016-12-31 12:00:00</th>\n",
       "      <td>840020900034</td>\n",
       "      <td>0.0</td>\n",
       "      <td>10.0</td>\n",
       "      <td>2016-12-31 12:00:00</td>\n",
       "      <td>42603.0</td>\n",
       "      <td>60.0</td>\n",
       "      <td>0.0</td>\n",
       "      <td>1.4</td>\n",
       "      <td>8.0</td>\n",
       "      <td>0.0</td>\n",
       "      <td>...</td>\n",
       "      <td>132.0</td>\n",
       "      <td>574.0</td>\n",
       "      <td>1.0</td>\n",
       "      <td>0.05</td>\n",
       "      <td>NaN</td>\n",
       "      <td>NaN</td>\n",
       "      <td>366</td>\n",
       "      <td>12</td>\n",
       "      <td>12</td>\n",
       "      <td>Winter</td>\n",
       "    </tr>\n",
       "    <tr>\n",
       "      <th>2016-12-31 13:00:00</th>\n",
       "      <td>840020900034</td>\n",
       "      <td>0.0</td>\n",
       "      <td>10.0</td>\n",
       "      <td>2016-12-31 13:00:00</td>\n",
       "      <td>42603.0</td>\n",
       "      <td>60.0</td>\n",
       "      <td>0.0</td>\n",
       "      <td>1.8</td>\n",
       "      <td>8.0</td>\n",
       "      <td>0.0</td>\n",
       "      <td>...</td>\n",
       "      <td>132.0</td>\n",
       "      <td>574.0</td>\n",
       "      <td>1.0</td>\n",
       "      <td>0.05</td>\n",
       "      <td>NaN</td>\n",
       "      <td>NaN</td>\n",
       "      <td>366</td>\n",
       "      <td>13</td>\n",
       "      <td>12</td>\n",
       "      <td>Winter</td>\n",
       "    </tr>\n",
       "    <tr>\n",
       "      <th>2016-12-31 14:00:00</th>\n",
       "      <td>840020900034</td>\n",
       "      <td>0.0</td>\n",
       "      <td>10.0</td>\n",
       "      <td>2016-12-31 14:00:00</td>\n",
       "      <td>42603.0</td>\n",
       "      <td>60.0</td>\n",
       "      <td>0.0</td>\n",
       "      <td>0.9</td>\n",
       "      <td>8.0</td>\n",
       "      <td>0.0</td>\n",
       "      <td>...</td>\n",
       "      <td>132.0</td>\n",
       "      <td>574.0</td>\n",
       "      <td>1.0</td>\n",
       "      <td>0.05</td>\n",
       "      <td>NaN</td>\n",
       "      <td>NaN</td>\n",
       "      <td>366</td>\n",
       "      <td>14</td>\n",
       "      <td>12</td>\n",
       "      <td>Winter</td>\n",
       "    </tr>\n",
       "    <tr>\n",
       "      <th>2016-12-31 15:00:00</th>\n",
       "      <td>840020900034</td>\n",
       "      <td>0.0</td>\n",
       "      <td>10.0</td>\n",
       "      <td>2016-12-31 15:00:00</td>\n",
       "      <td>42603.0</td>\n",
       "      <td>60.0</td>\n",
       "      <td>0.0</td>\n",
       "      <td>1.1</td>\n",
       "      <td>8.0</td>\n",
       "      <td>0.0</td>\n",
       "      <td>...</td>\n",
       "      <td>132.0</td>\n",
       "      <td>574.0</td>\n",
       "      <td>1.0</td>\n",
       "      <td>0.05</td>\n",
       "      <td>NaN</td>\n",
       "      <td>NaN</td>\n",
       "      <td>366</td>\n",
       "      <td>15</td>\n",
       "      <td>12</td>\n",
       "      <td>Winter</td>\n",
       "    </tr>\n",
       "    <tr>\n",
       "      <th>2016-12-31 16:00:00</th>\n",
       "      <td>840020900034</td>\n",
       "      <td>0.0</td>\n",
       "      <td>10.0</td>\n",
       "      <td>2016-12-31 16:00:00</td>\n",
       "      <td>42603.0</td>\n",
       "      <td>60.0</td>\n",
       "      <td>0.0</td>\n",
       "      <td>0.6</td>\n",
       "      <td>8.0</td>\n",
       "      <td>0.0</td>\n",
       "      <td>...</td>\n",
       "      <td>132.0</td>\n",
       "      <td>574.0</td>\n",
       "      <td>1.0</td>\n",
       "      <td>0.05</td>\n",
       "      <td>NaN</td>\n",
       "      <td>NaN</td>\n",
       "      <td>366</td>\n",
       "      <td>16</td>\n",
       "      <td>12</td>\n",
       "      <td>Winter</td>\n",
       "    </tr>\n",
       "    <tr>\n",
       "      <th>2016-12-31 17:00:00</th>\n",
       "      <td>840020900034</td>\n",
       "      <td>0.0</td>\n",
       "      <td>10.0</td>\n",
       "      <td>2016-12-31 17:00:00</td>\n",
       "      <td>42603.0</td>\n",
       "      <td>60.0</td>\n",
       "      <td>0.0</td>\n",
       "      <td>0.8</td>\n",
       "      <td>8.0</td>\n",
       "      <td>0.0</td>\n",
       "      <td>...</td>\n",
       "      <td>132.0</td>\n",
       "      <td>574.0</td>\n",
       "      <td>1.0</td>\n",
       "      <td>0.05</td>\n",
       "      <td>NaN</td>\n",
       "      <td>NaN</td>\n",
       "      <td>366</td>\n",
       "      <td>17</td>\n",
       "      <td>12</td>\n",
       "      <td>Winter</td>\n",
       "    </tr>\n",
       "    <tr>\n",
       "      <th>2016-12-31 18:00:00</th>\n",
       "      <td>840020900034</td>\n",
       "      <td>0.0</td>\n",
       "      <td>10.0</td>\n",
       "      <td>2016-12-31 18:00:00</td>\n",
       "      <td>42603.0</td>\n",
       "      <td>60.0</td>\n",
       "      <td>0.0</td>\n",
       "      <td>3.2</td>\n",
       "      <td>8.0</td>\n",
       "      <td>0.0</td>\n",
       "      <td>...</td>\n",
       "      <td>132.0</td>\n",
       "      <td>574.0</td>\n",
       "      <td>1.0</td>\n",
       "      <td>0.05</td>\n",
       "      <td>NaN</td>\n",
       "      <td>NaN</td>\n",
       "      <td>366</td>\n",
       "      <td>18</td>\n",
       "      <td>12</td>\n",
       "      <td>Winter</td>\n",
       "    </tr>\n",
       "    <tr>\n",
       "      <th>2016-12-31 19:00:00</th>\n",
       "      <td>840020900034</td>\n",
       "      <td>0.0</td>\n",
       "      <td>10.0</td>\n",
       "      <td>2016-12-31 19:00:00</td>\n",
       "      <td>42603.0</td>\n",
       "      <td>60.0</td>\n",
       "      <td>0.0</td>\n",
       "      <td>2.4</td>\n",
       "      <td>8.0</td>\n",
       "      <td>0.0</td>\n",
       "      <td>...</td>\n",
       "      <td>132.0</td>\n",
       "      <td>574.0</td>\n",
       "      <td>1.0</td>\n",
       "      <td>0.05</td>\n",
       "      <td>NaN</td>\n",
       "      <td>NaN</td>\n",
       "      <td>366</td>\n",
       "      <td>19</td>\n",
       "      <td>12</td>\n",
       "      <td>Winter</td>\n",
       "    </tr>\n",
       "    <tr>\n",
       "      <th>2016-12-31 20:00:00</th>\n",
       "      <td>840020900034</td>\n",
       "      <td>0.0</td>\n",
       "      <td>10.0</td>\n",
       "      <td>2016-12-31 20:00:00</td>\n",
       "      <td>42603.0</td>\n",
       "      <td>60.0</td>\n",
       "      <td>0.0</td>\n",
       "      <td>7.9</td>\n",
       "      <td>8.0</td>\n",
       "      <td>0.0</td>\n",
       "      <td>...</td>\n",
       "      <td>132.0</td>\n",
       "      <td>574.0</td>\n",
       "      <td>1.0</td>\n",
       "      <td>0.05</td>\n",
       "      <td>NaN</td>\n",
       "      <td>NaN</td>\n",
       "      <td>366</td>\n",
       "      <td>20</td>\n",
       "      <td>12</td>\n",
       "      <td>Winter</td>\n",
       "    </tr>\n",
       "    <tr>\n",
       "      <th>2016-12-31 21:00:00</th>\n",
       "      <td>840020900034</td>\n",
       "      <td>0.0</td>\n",
       "      <td>10.0</td>\n",
       "      <td>2016-12-31 21:00:00</td>\n",
       "      <td>42603.0</td>\n",
       "      <td>60.0</td>\n",
       "      <td>0.0</td>\n",
       "      <td>7.3</td>\n",
       "      <td>8.0</td>\n",
       "      <td>0.0</td>\n",
       "      <td>...</td>\n",
       "      <td>132.0</td>\n",
       "      <td>574.0</td>\n",
       "      <td>1.0</td>\n",
       "      <td>0.05</td>\n",
       "      <td>NaN</td>\n",
       "      <td>NaN</td>\n",
       "      <td>366</td>\n",
       "      <td>21</td>\n",
       "      <td>12</td>\n",
       "      <td>Winter</td>\n",
       "    </tr>\n",
       "    <tr>\n",
       "      <th>2016-12-31 22:00:00</th>\n",
       "      <td>840020900034</td>\n",
       "      <td>0.0</td>\n",
       "      <td>10.0</td>\n",
       "      <td>2016-12-31 22:00:00</td>\n",
       "      <td>42603.0</td>\n",
       "      <td>60.0</td>\n",
       "      <td>0.0</td>\n",
       "      <td>7.5</td>\n",
       "      <td>8.0</td>\n",
       "      <td>0.0</td>\n",
       "      <td>...</td>\n",
       "      <td>132.0</td>\n",
       "      <td>574.0</td>\n",
       "      <td>1.0</td>\n",
       "      <td>0.05</td>\n",
       "      <td>NaN</td>\n",
       "      <td>NaN</td>\n",
       "      <td>366</td>\n",
       "      <td>22</td>\n",
       "      <td>12</td>\n",
       "      <td>Winter</td>\n",
       "    </tr>\n",
       "    <tr>\n",
       "      <th>2016-12-31 23:00:00</th>\n",
       "      <td>840020900034</td>\n",
       "      <td>0.0</td>\n",
       "      <td>10.0</td>\n",
       "      <td>2016-12-31 23:00:00</td>\n",
       "      <td>42603.0</td>\n",
       "      <td>60.0</td>\n",
       "      <td>0.0</td>\n",
       "      <td>8.6</td>\n",
       "      <td>8.0</td>\n",
       "      <td>0.0</td>\n",
       "      <td>...</td>\n",
       "      <td>132.0</td>\n",
       "      <td>574.0</td>\n",
       "      <td>1.0</td>\n",
       "      <td>0.05</td>\n",
       "      <td>NaN</td>\n",
       "      <td>NaN</td>\n",
       "      <td>366</td>\n",
       "      <td>23</td>\n",
       "      <td>12</td>\n",
       "      <td>Winter</td>\n",
       "    </tr>\n",
       "    <tr>\n",
       "      <th>2017-01-01 00:00:00</th>\n",
       "      <td>840020900034</td>\n",
       "      <td>0.0</td>\n",
       "      <td>10.0</td>\n",
       "      <td>2017-01-01 00:00:00</td>\n",
       "      <td>42603.0</td>\n",
       "      <td>60.0</td>\n",
       "      <td>0.0</td>\n",
       "      <td>31.8</td>\n",
       "      <td>8.0</td>\n",
       "      <td>0.0</td>\n",
       "      <td>...</td>\n",
       "      <td>132.0</td>\n",
       "      <td>574.0</td>\n",
       "      <td>1.0</td>\n",
       "      <td>0.05</td>\n",
       "      <td>NaN</td>\n",
       "      <td>NaN</td>\n",
       "      <td>1</td>\n",
       "      <td>0</td>\n",
       "      <td>1</td>\n",
       "      <td>Winter</td>\n",
       "    </tr>\n",
       "    <tr>\n",
       "      <th>2017-01-01 01:00:00</th>\n",
       "      <td>840020900034</td>\n",
       "      <td>0.0</td>\n",
       "      <td>10.0</td>\n",
       "      <td>2017-01-01 01:00:00</td>\n",
       "      <td>42603.0</td>\n",
       "      <td>60.0</td>\n",
       "      <td>0.0</td>\n",
       "      <td>50.8</td>\n",
       "      <td>8.0</td>\n",
       "      <td>0.0</td>\n",
       "      <td>...</td>\n",
       "      <td>132.0</td>\n",
       "      <td>574.0</td>\n",
       "      <td>1.0</td>\n",
       "      <td>0.05</td>\n",
       "      <td>NaN</td>\n",
       "      <td>NaN</td>\n",
       "      <td>1</td>\n",
       "      <td>1</td>\n",
       "      <td>1</td>\n",
       "      <td>Winter</td>\n",
       "    </tr>\n",
       "    <tr>\n",
       "      <th>2017-01-01 02:00:00</th>\n",
       "      <td>840020900034</td>\n",
       "      <td>0.0</td>\n",
       "      <td>10.0</td>\n",
       "      <td>2017-01-01 02:00:00</td>\n",
       "      <td>42603.0</td>\n",
       "      <td>60.0</td>\n",
       "      <td>0.0</td>\n",
       "      <td>65.5</td>\n",
       "      <td>8.0</td>\n",
       "      <td>0.0</td>\n",
       "      <td>...</td>\n",
       "      <td>132.0</td>\n",
       "      <td>574.0</td>\n",
       "      <td>1.0</td>\n",
       "      <td>0.05</td>\n",
       "      <td>NaN</td>\n",
       "      <td>NaN</td>\n",
       "      <td>1</td>\n",
       "      <td>2</td>\n",
       "      <td>1</td>\n",
       "      <td>Winter</td>\n",
       "    </tr>\n",
       "    <tr>\n",
       "      <th>2017-01-01 03:00:00</th>\n",
       "      <td>840020900034</td>\n",
       "      <td>0.0</td>\n",
       "      <td>10.0</td>\n",
       "      <td>2017-01-01 03:00:00</td>\n",
       "      <td>42603.0</td>\n",
       "      <td>60.0</td>\n",
       "      <td>0.0</td>\n",
       "      <td>121.7</td>\n",
       "      <td>8.0</td>\n",
       "      <td>0.0</td>\n",
       "      <td>...</td>\n",
       "      <td>132.0</td>\n",
       "      <td>574.0</td>\n",
       "      <td>1.0</td>\n",
       "      <td>0.05</td>\n",
       "      <td>NaN</td>\n",
       "      <td>NaN</td>\n",
       "      <td>1</td>\n",
       "      <td>3</td>\n",
       "      <td>1</td>\n",
       "      <td>Winter</td>\n",
       "    </tr>\n",
       "    <tr>\n",
       "      <th>2017-01-01 04:00:00</th>\n",
       "      <td>840020900034</td>\n",
       "      <td>0.0</td>\n",
       "      <td>10.0</td>\n",
       "      <td>2017-01-01 04:00:00</td>\n",
       "      <td>42603.0</td>\n",
       "      <td>60.0</td>\n",
       "      <td>0.0</td>\n",
       "      <td>104.1</td>\n",
       "      <td>8.0</td>\n",
       "      <td>0.0</td>\n",
       "      <td>...</td>\n",
       "      <td>132.0</td>\n",
       "      <td>574.0</td>\n",
       "      <td>1.0</td>\n",
       "      <td>0.05</td>\n",
       "      <td>NaN</td>\n",
       "      <td>NaN</td>\n",
       "      <td>1</td>\n",
       "      <td>4</td>\n",
       "      <td>1</td>\n",
       "      <td>Winter</td>\n",
       "    </tr>\n",
       "    <tr>\n",
       "      <th>2017-01-01 05:00:00</th>\n",
       "      <td>840020900034</td>\n",
       "      <td>0.0</td>\n",
       "      <td>10.0</td>\n",
       "      <td>2017-01-01 05:00:00</td>\n",
       "      <td>42603.0</td>\n",
       "      <td>60.0</td>\n",
       "      <td>0.0</td>\n",
       "      <td>31.8</td>\n",
       "      <td>8.0</td>\n",
       "      <td>0.0</td>\n",
       "      <td>...</td>\n",
       "      <td>132.0</td>\n",
       "      <td>574.0</td>\n",
       "      <td>1.0</td>\n",
       "      <td>0.05</td>\n",
       "      <td>NaN</td>\n",
       "      <td>NaN</td>\n",
       "      <td>1</td>\n",
       "      <td>5</td>\n",
       "      <td>1</td>\n",
       "      <td>Winter</td>\n",
       "    </tr>\n",
       "    <tr>\n",
       "      <th>2017-01-01 06:00:00</th>\n",
       "      <td>840020900034</td>\n",
       "      <td>0.0</td>\n",
       "      <td>10.0</td>\n",
       "      <td>2017-01-01 06:00:00</td>\n",
       "      <td>42603.0</td>\n",
       "      <td>60.0</td>\n",
       "      <td>0.0</td>\n",
       "      <td>36.6</td>\n",
       "      <td>8.0</td>\n",
       "      <td>0.0</td>\n",
       "      <td>...</td>\n",
       "      <td>132.0</td>\n",
       "      <td>574.0</td>\n",
       "      <td>1.0</td>\n",
       "      <td>0.05</td>\n",
       "      <td>NaN</td>\n",
       "      <td>NaN</td>\n",
       "      <td>1</td>\n",
       "      <td>6</td>\n",
       "      <td>1</td>\n",
       "      <td>Winter</td>\n",
       "    </tr>\n",
       "    <tr>\n",
       "      <th>2017-01-01 07:00:00</th>\n",
       "      <td>840020900034</td>\n",
       "      <td>0.0</td>\n",
       "      <td>10.0</td>\n",
       "      <td>2017-01-01 07:00:00</td>\n",
       "      <td>42603.0</td>\n",
       "      <td>60.0</td>\n",
       "      <td>0.0</td>\n",
       "      <td>53.1</td>\n",
       "      <td>8.0</td>\n",
       "      <td>0.0</td>\n",
       "      <td>...</td>\n",
       "      <td>132.0</td>\n",
       "      <td>574.0</td>\n",
       "      <td>1.0</td>\n",
       "      <td>0.05</td>\n",
       "      <td>NaN</td>\n",
       "      <td>NaN</td>\n",
       "      <td>1</td>\n",
       "      <td>7</td>\n",
       "      <td>1</td>\n",
       "      <td>Winter</td>\n",
       "    </tr>\n",
       "    <tr>\n",
       "      <th>2017-01-01 08:00:00</th>\n",
       "      <td>840020900034</td>\n",
       "      <td>0.0</td>\n",
       "      <td>10.0</td>\n",
       "      <td>2017-01-01 08:00:00</td>\n",
       "      <td>42603.0</td>\n",
       "      <td>60.0</td>\n",
       "      <td>0.0</td>\n",
       "      <td>47.9</td>\n",
       "      <td>8.0</td>\n",
       "      <td>0.0</td>\n",
       "      <td>...</td>\n",
       "      <td>132.0</td>\n",
       "      <td>574.0</td>\n",
       "      <td>1.0</td>\n",
       "      <td>0.05</td>\n",
       "      <td>NaN</td>\n",
       "      <td>NaN</td>\n",
       "      <td>1</td>\n",
       "      <td>8</td>\n",
       "      <td>1</td>\n",
       "      <td>Winter</td>\n",
       "    </tr>\n",
       "  </tbody>\n",
       "</table>\n",
       "<p>19758 rows × 24 columns</p>\n",
       "</div>"
      ],
      "text/plain": [
       "                             site  data_status  action_code  \\\n",
       "datetime                                                      \n",
       "2014-07-01 12:00:00  840020900034          0.0         10.0   \n",
       "2014-07-01 13:00:00  840020900034          0.0         10.0   \n",
       "2014-07-01 14:00:00  840020900034          0.0         10.0   \n",
       "2014-07-01 15:00:00  840020900034          0.0         10.0   \n",
       "2014-07-01 16:00:00  840020900034          0.0         10.0   \n",
       "2014-07-01 17:00:00  840020900034          0.0         10.0   \n",
       "2014-07-01 18:00:00  840020900034          0.0         10.0   \n",
       "2014-07-01 19:00:00  840020900034          0.0         10.0   \n",
       "2014-07-01 20:00:00  840020900034          0.0         10.0   \n",
       "2014-07-01 21:00:00  840020900034          0.0         10.0   \n",
       "2014-07-01 22:00:00  840020900034          0.0         10.0   \n",
       "2014-07-01 23:00:00  840020900034          0.0         10.0   \n",
       "2014-07-02 00:00:00  840020900034          0.0         10.0   \n",
       "2014-07-02 01:00:00  840020900034          0.0         10.0   \n",
       "2014-07-02 02:00:00  840020900034          0.0         10.0   \n",
       "2014-07-02 03:00:00  840020900034          0.0         10.0   \n",
       "2014-07-02 04:00:00  840020900034          0.0         10.0   \n",
       "2014-07-02 05:00:00  840020900034          0.0         10.0   \n",
       "2014-07-02 06:00:00  840020900034          0.0         10.0   \n",
       "2014-07-02 07:00:00  840020900034          0.0         10.0   \n",
       "2014-07-02 08:00:00  840020900034          0.0         10.0   \n",
       "2014-07-02 09:00:00  840020900034          0.0         10.0   \n",
       "2014-07-02 10:00:00  840020900034          0.0         10.0   \n",
       "2014-07-02 11:00:00  840020900034          0.0         10.0   \n",
       "2014-07-02 12:00:00  840020900034          0.0         10.0   \n",
       "2014-07-02 13:00:00  840020900034          0.0         10.0   \n",
       "2014-07-02 14:00:00  840020900034          0.0         10.0   \n",
       "2014-07-02 15:00:00  840020900034          0.0         10.0   \n",
       "2014-07-02 16:00:00  840020900034          0.0         10.0   \n",
       "2014-07-02 17:00:00  840020900034          0.0         10.0   \n",
       "...                           ...          ...          ...   \n",
       "2016-12-31 01:00:00  840020900034          0.0         10.0   \n",
       "2016-12-31 02:00:00  840020900034          0.0         10.0   \n",
       "2016-12-31 03:00:00  840020900034          0.0         10.0   \n",
       "2016-12-31 04:00:00  840020900034          0.0         10.0   \n",
       "2016-12-31 05:00:00  840020900034          0.0         10.0   \n",
       "2016-12-31 06:00:00  840020900034          0.0         10.0   \n",
       "2016-12-31 07:00:00  840020900034          0.0         10.0   \n",
       "2016-12-31 08:00:00  840020900034          0.0         10.0   \n",
       "2016-12-31 09:00:00  840020900034          0.0         10.0   \n",
       "2016-12-31 12:00:00  840020900034          0.0         10.0   \n",
       "2016-12-31 13:00:00  840020900034          0.0         10.0   \n",
       "2016-12-31 14:00:00  840020900034          0.0         10.0   \n",
       "2016-12-31 15:00:00  840020900034          0.0         10.0   \n",
       "2016-12-31 16:00:00  840020900034          0.0         10.0   \n",
       "2016-12-31 17:00:00  840020900034          0.0         10.0   \n",
       "2016-12-31 18:00:00  840020900034          0.0         10.0   \n",
       "2016-12-31 19:00:00  840020900034          0.0         10.0   \n",
       "2016-12-31 20:00:00  840020900034          0.0         10.0   \n",
       "2016-12-31 21:00:00  840020900034          0.0         10.0   \n",
       "2016-12-31 22:00:00  840020900034          0.0         10.0   \n",
       "2016-12-31 23:00:00  840020900034          0.0         10.0   \n",
       "2017-01-01 00:00:00  840020900034          0.0         10.0   \n",
       "2017-01-01 01:00:00  840020900034          0.0         10.0   \n",
       "2017-01-01 02:00:00  840020900034          0.0         10.0   \n",
       "2017-01-01 03:00:00  840020900034          0.0         10.0   \n",
       "2017-01-01 04:00:00  840020900034          0.0         10.0   \n",
       "2017-01-01 05:00:00  840020900034          0.0         10.0   \n",
       "2017-01-01 06:00:00  840020900034          0.0         10.0   \n",
       "2017-01-01 07:00:00  840020900034          0.0         10.0   \n",
       "2017-01-01 08:00:00  840020900034          0.0         10.0   \n",
       "\n",
       "                               datetime  parameter  duration  frequency  \\\n",
       "datetime                                                                  \n",
       "2014-07-01 12:00:00 2014-07-01 12:00:00    42603.0      60.0        0.0   \n",
       "2014-07-01 13:00:00 2014-07-01 13:00:00    42603.0      60.0        0.0   \n",
       "2014-07-01 14:00:00 2014-07-01 14:00:00    42603.0      60.0        0.0   \n",
       "2014-07-01 15:00:00 2014-07-01 15:00:00    42603.0      60.0        0.0   \n",
       "2014-07-01 16:00:00 2014-07-01 16:00:00    42603.0      60.0        0.0   \n",
       "2014-07-01 17:00:00 2014-07-01 17:00:00    42603.0      60.0        0.0   \n",
       "2014-07-01 18:00:00 2014-07-01 18:00:00    42603.0      60.0        0.0   \n",
       "2014-07-01 19:00:00 2014-07-01 19:00:00    42603.0      60.0        0.0   \n",
       "2014-07-01 20:00:00 2014-07-01 20:00:00    42603.0      60.0        0.0   \n",
       "2014-07-01 21:00:00 2014-07-01 21:00:00    42603.0      60.0        0.0   \n",
       "2014-07-01 22:00:00 2014-07-01 22:00:00    42603.0      60.0        0.0   \n",
       "2014-07-01 23:00:00 2014-07-01 23:00:00    42603.0      60.0        0.0   \n",
       "2014-07-02 00:00:00 2014-07-02 00:00:00    42603.0      60.0        0.0   \n",
       "2014-07-02 01:00:00 2014-07-02 01:00:00    42603.0      60.0        0.0   \n",
       "2014-07-02 02:00:00 2014-07-02 02:00:00    42603.0      60.0        0.0   \n",
       "2014-07-02 03:00:00 2014-07-02 03:00:00    42603.0      60.0        0.0   \n",
       "2014-07-02 04:00:00 2014-07-02 04:00:00    42603.0      60.0        0.0   \n",
       "2014-07-02 05:00:00 2014-07-02 05:00:00    42603.0      60.0        0.0   \n",
       "2014-07-02 06:00:00 2014-07-02 06:00:00    42603.0      60.0        0.0   \n",
       "2014-07-02 07:00:00 2014-07-02 07:00:00    42603.0      60.0        0.0   \n",
       "2014-07-02 08:00:00 2014-07-02 08:00:00    42603.0      60.0        0.0   \n",
       "2014-07-02 09:00:00 2014-07-02 09:00:00    42603.0      60.0        0.0   \n",
       "2014-07-02 10:00:00 2014-07-02 10:00:00    42603.0      60.0        0.0   \n",
       "2014-07-02 11:00:00 2014-07-02 11:00:00    42603.0      60.0        0.0   \n",
       "2014-07-02 12:00:00 2014-07-02 12:00:00    42603.0      60.0        0.0   \n",
       "2014-07-02 13:00:00 2014-07-02 13:00:00    42603.0      60.0        0.0   \n",
       "2014-07-02 14:00:00 2014-07-02 14:00:00    42603.0      60.0        0.0   \n",
       "2014-07-02 15:00:00 2014-07-02 15:00:00    42603.0      60.0        0.0   \n",
       "2014-07-02 16:00:00 2014-07-02 16:00:00    42603.0      60.0        0.0   \n",
       "2014-07-02 17:00:00 2014-07-02 17:00:00    42603.0      60.0        0.0   \n",
       "...                                 ...        ...       ...        ...   \n",
       "2016-12-31 01:00:00 2016-12-31 01:00:00    42603.0      60.0        0.0   \n",
       "2016-12-31 02:00:00 2016-12-31 02:00:00    42603.0      60.0        0.0   \n",
       "2016-12-31 03:00:00 2016-12-31 03:00:00    42603.0      60.0        0.0   \n",
       "2016-12-31 04:00:00 2016-12-31 04:00:00    42603.0      60.0        0.0   \n",
       "2016-12-31 05:00:00 2016-12-31 05:00:00    42603.0      60.0        0.0   \n",
       "2016-12-31 06:00:00 2016-12-31 06:00:00    42603.0      60.0        0.0   \n",
       "2016-12-31 07:00:00 2016-12-31 07:00:00    42603.0      60.0        0.0   \n",
       "2016-12-31 08:00:00 2016-12-31 08:00:00    42603.0      60.0        0.0   \n",
       "2016-12-31 09:00:00 2016-12-31 09:00:00    42603.0      60.0        0.0   \n",
       "2016-12-31 12:00:00 2016-12-31 12:00:00    42603.0      60.0        0.0   \n",
       "2016-12-31 13:00:00 2016-12-31 13:00:00    42603.0      60.0        0.0   \n",
       "2016-12-31 14:00:00 2016-12-31 14:00:00    42603.0      60.0        0.0   \n",
       "2016-12-31 15:00:00 2016-12-31 15:00:00    42603.0      60.0        0.0   \n",
       "2016-12-31 16:00:00 2016-12-31 16:00:00    42603.0      60.0        0.0   \n",
       "2016-12-31 17:00:00 2016-12-31 17:00:00    42603.0      60.0        0.0   \n",
       "2016-12-31 18:00:00 2016-12-31 18:00:00    42603.0      60.0        0.0   \n",
       "2016-12-31 19:00:00 2016-12-31 19:00:00    42603.0      60.0        0.0   \n",
       "2016-12-31 20:00:00 2016-12-31 20:00:00    42603.0      60.0        0.0   \n",
       "2016-12-31 21:00:00 2016-12-31 21:00:00    42603.0      60.0        0.0   \n",
       "2016-12-31 22:00:00 2016-12-31 22:00:00    42603.0      60.0        0.0   \n",
       "2016-12-31 23:00:00 2016-12-31 23:00:00    42603.0      60.0        0.0   \n",
       "2017-01-01 00:00:00 2017-01-01 00:00:00    42603.0      60.0        0.0   \n",
       "2017-01-01 01:00:00 2017-01-01 01:00:00    42603.0      60.0        0.0   \n",
       "2017-01-01 02:00:00 2017-01-01 02:00:00    42603.0      60.0        0.0   \n",
       "2017-01-01 03:00:00 2017-01-01 03:00:00    42603.0      60.0        0.0   \n",
       "2017-01-01 04:00:00 2017-01-01 04:00:00    42603.0      60.0        0.0   \n",
       "2017-01-01 05:00:00 2017-01-01 05:00:00    42603.0      60.0        0.0   \n",
       "2017-01-01 06:00:00 2017-01-01 06:00:00    42603.0      60.0        0.0   \n",
       "2017-01-01 07:00:00 2017-01-01 07:00:00    42603.0      60.0        0.0   \n",
       "2017-01-01 08:00:00 2017-01-01 08:00:00    42603.0      60.0        0.0   \n",
       "\n",
       "                     value  unit   qc   ...     elev  method_code  mpc  \\\n",
       "datetime                                ...                              \n",
       "2014-07-01 12:00:00    0.9   8.0  0.0   ...    132.0        574.0  1.0   \n",
       "2014-07-01 13:00:00    1.2   8.0  0.0   ...    132.0        574.0  1.0   \n",
       "2014-07-01 14:00:00    2.2   8.0  0.0   ...    132.0        574.0  1.0   \n",
       "2014-07-01 15:00:00    4.1   8.0  0.0   ...    132.0        574.0  1.0   \n",
       "2014-07-01 16:00:00    5.0   8.0  0.0   ...    132.0        574.0  1.0   \n",
       "2014-07-01 17:00:00    4.8   8.0  0.0   ...    132.0        574.0  1.0   \n",
       "2014-07-01 18:00:00    6.4   8.0  0.0   ...    132.0        574.0  1.0   \n",
       "2014-07-01 19:00:00    4.5   8.0  0.0   ...    132.0        574.0  1.0   \n",
       "2014-07-01 20:00:00    3.6   8.0  0.0   ...    132.0        574.0  1.0   \n",
       "2014-07-01 21:00:00    3.9   8.0  0.0   ...    132.0        574.0  1.0   \n",
       "2014-07-01 22:00:00    3.2   8.0  0.0   ...    132.0        574.0  1.0   \n",
       "2014-07-01 23:00:00    2.8   8.0  0.0   ...    132.0        574.0  1.0   \n",
       "2014-07-02 00:00:00    3.0   8.0  0.0   ...    132.0        574.0  1.0   \n",
       "2014-07-02 01:00:00    3.6   8.0  0.0   ...    132.0        574.0  1.0   \n",
       "2014-07-02 02:00:00    2.8   8.0  0.0   ...    132.0        574.0  1.0   \n",
       "2014-07-02 03:00:00    1.8   8.0  0.0   ...    132.0        574.0  1.0   \n",
       "2014-07-02 04:00:00    2.1   8.0  0.0   ...    132.0        574.0  1.0   \n",
       "2014-07-02 05:00:00    1.1   8.0  0.0   ...    132.0        574.0  1.0   \n",
       "2014-07-02 06:00:00    1.0   8.0  0.0   ...    132.0        574.0  1.0   \n",
       "2014-07-02 07:00:00    1.2   8.0  0.0   ...    132.0        574.0  1.0   \n",
       "2014-07-02 08:00:00    0.7   8.0  0.0   ...    132.0        574.0  1.0   \n",
       "2014-07-02 09:00:00    1.0   8.0  0.0   ...    132.0        574.0  1.0   \n",
       "2014-07-02 10:00:00    0.5   8.0  0.0   ...    132.0        574.0  1.0   \n",
       "2014-07-02 11:00:00    0.3   8.0  0.0   ...    132.0        574.0  1.0   \n",
       "2014-07-02 12:00:00    0.5   8.0  0.0   ...    132.0        574.0  1.0   \n",
       "2014-07-02 13:00:00    0.8   8.0  0.0   ...    132.0        574.0  1.0   \n",
       "2014-07-02 14:00:00    1.4   8.0  0.0   ...    132.0        574.0  1.0   \n",
       "2014-07-02 15:00:00    5.4   8.0  0.0   ...    132.0        574.0  1.0   \n",
       "2014-07-02 16:00:00    4.2   8.0  0.0   ...    132.0        574.0  1.0   \n",
       "2014-07-02 17:00:00    4.1   8.0  0.0   ...    132.0        574.0  1.0   \n",
       "...                    ...   ...  ...   ...      ...          ...  ...   \n",
       "2016-12-31 01:00:00    1.7   8.0  0.0   ...    132.0        574.0  1.0   \n",
       "2016-12-31 02:00:00    1.7   8.0  0.0   ...    132.0        574.0  1.0   \n",
       "2016-12-31 03:00:00    2.0   8.0  0.0   ...    132.0        574.0  1.0   \n",
       "2016-12-31 04:00:00    2.4   8.0  0.0   ...    132.0        574.0  1.0   \n",
       "2016-12-31 05:00:00    2.5   8.0  0.0   ...    132.0        574.0  1.0   \n",
       "2016-12-31 06:00:00    1.7   8.0  0.0   ...    132.0        574.0  1.0   \n",
       "2016-12-31 07:00:00    1.2   8.0  0.0   ...    132.0        574.0  1.0   \n",
       "2016-12-31 08:00:00    1.2   8.0  0.0   ...    132.0        574.0  1.0   \n",
       "2016-12-31 09:00:00    1.3   8.0  0.0   ...    132.0        574.0  1.0   \n",
       "2016-12-31 12:00:00    1.4   8.0  0.0   ...    132.0        574.0  1.0   \n",
       "2016-12-31 13:00:00    1.8   8.0  0.0   ...    132.0        574.0  1.0   \n",
       "2016-12-31 14:00:00    0.9   8.0  0.0   ...    132.0        574.0  1.0   \n",
       "2016-12-31 15:00:00    1.1   8.0  0.0   ...    132.0        574.0  1.0   \n",
       "2016-12-31 16:00:00    0.6   8.0  0.0   ...    132.0        574.0  1.0   \n",
       "2016-12-31 17:00:00    0.8   8.0  0.0   ...    132.0        574.0  1.0   \n",
       "2016-12-31 18:00:00    3.2   8.0  0.0   ...    132.0        574.0  1.0   \n",
       "2016-12-31 19:00:00    2.4   8.0  0.0   ...    132.0        574.0  1.0   \n",
       "2016-12-31 20:00:00    7.9   8.0  0.0   ...    132.0        574.0  1.0   \n",
       "2016-12-31 21:00:00    7.3   8.0  0.0   ...    132.0        574.0  1.0   \n",
       "2016-12-31 22:00:00    7.5   8.0  0.0   ...    132.0        574.0  1.0   \n",
       "2016-12-31 23:00:00    8.6   8.0  0.0   ...    132.0        574.0  1.0   \n",
       "2017-01-01 00:00:00   31.8   8.0  0.0   ...    132.0        574.0  1.0   \n",
       "2017-01-01 01:00:00   50.8   8.0  0.0   ...    132.0        574.0  1.0   \n",
       "2017-01-01 02:00:00   65.5   8.0  0.0   ...    132.0        574.0  1.0   \n",
       "2017-01-01 03:00:00  121.7   8.0  0.0   ...    132.0        574.0  1.0   \n",
       "2017-01-01 04:00:00  104.1   8.0  0.0   ...    132.0        574.0  1.0   \n",
       "2017-01-01 05:00:00   31.8   8.0  0.0   ...    132.0        574.0  1.0   \n",
       "2017-01-01 06:00:00   36.6   8.0  0.0   ...    132.0        574.0  1.0   \n",
       "2017-01-01 07:00:00   53.1   8.0  0.0   ...    132.0        574.0  1.0   \n",
       "2017-01-01 08:00:00   47.9   8.0  0.0   ...    132.0        574.0  1.0   \n",
       "\n",
       "                    mpc_value  uncertainty  qualifiers  doy  hour  month  \\\n",
       "datetime                                                                   \n",
       "2014-07-01 12:00:00      0.05          NaN         NaN  182    12      7   \n",
       "2014-07-01 13:00:00      0.05          NaN         NaN  182    13      7   \n",
       "2014-07-01 14:00:00      0.05          NaN         NaN  182    14      7   \n",
       "2014-07-01 15:00:00      0.05          NaN         NaN  182    15      7   \n",
       "2014-07-01 16:00:00      0.05          NaN         NaN  182    16      7   \n",
       "2014-07-01 17:00:00      0.05          NaN         NaN  182    17      7   \n",
       "2014-07-01 18:00:00      0.05          NaN         NaN  182    18      7   \n",
       "2014-07-01 19:00:00      0.05          NaN         NaN  182    19      7   \n",
       "2014-07-01 20:00:00      0.05          NaN         NaN  182    20      7   \n",
       "2014-07-01 21:00:00      0.05          NaN         NaN  182    21      7   \n",
       "2014-07-01 22:00:00      0.05          NaN         NaN  182    22      7   \n",
       "2014-07-01 23:00:00      0.05          NaN         NaN  182    23      7   \n",
       "2014-07-02 00:00:00      0.05          NaN         NaN  183     0      7   \n",
       "2014-07-02 01:00:00      0.05          NaN         NaN  183     1      7   \n",
       "2014-07-02 02:00:00      0.05          NaN         NaN  183     2      7   \n",
       "2014-07-02 03:00:00      0.05          NaN         NaN  183     3      7   \n",
       "2014-07-02 04:00:00      0.05          NaN         NaN  183     4      7   \n",
       "2014-07-02 05:00:00      0.05          NaN         NaN  183     5      7   \n",
       "2014-07-02 06:00:00      0.05          NaN         NaN  183     6      7   \n",
       "2014-07-02 07:00:00      0.05          NaN         NaN  183     7      7   \n",
       "2014-07-02 08:00:00      0.05          NaN         NaN  183     8      7   \n",
       "2014-07-02 09:00:00      0.05          NaN         NaN  183     9      7   \n",
       "2014-07-02 10:00:00      0.05          NaN         NaN  183    10      7   \n",
       "2014-07-02 11:00:00      0.05          NaN         NaN  183    11      7   \n",
       "2014-07-02 12:00:00      0.05          NaN         NaN  183    12      7   \n",
       "2014-07-02 13:00:00      0.05          NaN         NaN  183    13      7   \n",
       "2014-07-02 14:00:00      0.05          NaN         NaN  183    14      7   \n",
       "2014-07-02 15:00:00      0.05          NaN         NaN  183    15      7   \n",
       "2014-07-02 16:00:00      0.05          NaN         NaN  183    16      7   \n",
       "2014-07-02 17:00:00      0.05          NaN         NaN  183    17      7   \n",
       "...                       ...          ...         ...  ...   ...    ...   \n",
       "2016-12-31 01:00:00      0.05          NaN         NaN  366     1     12   \n",
       "2016-12-31 02:00:00      0.05          NaN         NaN  366     2     12   \n",
       "2016-12-31 03:00:00      0.05          NaN         NaN  366     3     12   \n",
       "2016-12-31 04:00:00      0.05          NaN         NaN  366     4     12   \n",
       "2016-12-31 05:00:00      0.05          NaN         NaN  366     5     12   \n",
       "2016-12-31 06:00:00      0.05          NaN         NaN  366     6     12   \n",
       "2016-12-31 07:00:00      0.05          NaN         NaN  366     7     12   \n",
       "2016-12-31 08:00:00      0.05          NaN         NaN  366     8     12   \n",
       "2016-12-31 09:00:00      0.05          NaN         NaN  366     9     12   \n",
       "2016-12-31 12:00:00      0.05          NaN         NaN  366    12     12   \n",
       "2016-12-31 13:00:00      0.05          NaN         NaN  366    13     12   \n",
       "2016-12-31 14:00:00      0.05          NaN         NaN  366    14     12   \n",
       "2016-12-31 15:00:00      0.05          NaN         NaN  366    15     12   \n",
       "2016-12-31 16:00:00      0.05          NaN         NaN  366    16     12   \n",
       "2016-12-31 17:00:00      0.05          NaN         NaN  366    17     12   \n",
       "2016-12-31 18:00:00      0.05          NaN         NaN  366    18     12   \n",
       "2016-12-31 19:00:00      0.05          NaN         NaN  366    19     12   \n",
       "2016-12-31 20:00:00      0.05          NaN         NaN  366    20     12   \n",
       "2016-12-31 21:00:00      0.05          NaN         NaN  366    21     12   \n",
       "2016-12-31 22:00:00      0.05          NaN         NaN  366    22     12   \n",
       "2016-12-31 23:00:00      0.05          NaN         NaN  366    23     12   \n",
       "2017-01-01 00:00:00      0.05          NaN         NaN    1     0      1   \n",
       "2017-01-01 01:00:00      0.05          NaN         NaN    1     1      1   \n",
       "2017-01-01 02:00:00      0.05          NaN         NaN    1     2      1   \n",
       "2017-01-01 03:00:00      0.05          NaN         NaN    1     3      1   \n",
       "2017-01-01 04:00:00      0.05          NaN         NaN    1     4      1   \n",
       "2017-01-01 05:00:00      0.05          NaN         NaN    1     5      1   \n",
       "2017-01-01 06:00:00      0.05          NaN         NaN    1     6      1   \n",
       "2017-01-01 07:00:00      0.05          NaN         NaN    1     7      1   \n",
       "2017-01-01 08:00:00      0.05          NaN         NaN    1     8      1   \n",
       "\n",
       "                     season  \n",
       "datetime                     \n",
       "2014-07-01 12:00:00  Summer  \n",
       "2014-07-01 13:00:00  Summer  \n",
       "2014-07-01 14:00:00  Summer  \n",
       "2014-07-01 15:00:00  Summer  \n",
       "2014-07-01 16:00:00  Summer  \n",
       "2014-07-01 17:00:00  Summer  \n",
       "2014-07-01 18:00:00  Summer  \n",
       "2014-07-01 19:00:00  Summer  \n",
       "2014-07-01 20:00:00  Summer  \n",
       "2014-07-01 21:00:00  Summer  \n",
       "2014-07-01 22:00:00  Summer  \n",
       "2014-07-01 23:00:00  Summer  \n",
       "2014-07-02 00:00:00  Summer  \n",
       "2014-07-02 01:00:00  Summer  \n",
       "2014-07-02 02:00:00  Summer  \n",
       "2014-07-02 03:00:00  Summer  \n",
       "2014-07-02 04:00:00  Summer  \n",
       "2014-07-02 05:00:00  Summer  \n",
       "2014-07-02 06:00:00  Summer  \n",
       "2014-07-02 07:00:00  Summer  \n",
       "2014-07-02 08:00:00  Summer  \n",
       "2014-07-02 09:00:00  Summer  \n",
       "2014-07-02 10:00:00  Summer  \n",
       "2014-07-02 11:00:00  Summer  \n",
       "2014-07-02 12:00:00  Summer  \n",
       "2014-07-02 13:00:00  Summer  \n",
       "2014-07-02 14:00:00  Summer  \n",
       "2014-07-02 15:00:00  Summer  \n",
       "2014-07-02 16:00:00  Summer  \n",
       "2014-07-02 17:00:00  Summer  \n",
       "...                     ...  \n",
       "2016-12-31 01:00:00  Winter  \n",
       "2016-12-31 02:00:00  Winter  \n",
       "2016-12-31 03:00:00  Winter  \n",
       "2016-12-31 04:00:00  Winter  \n",
       "2016-12-31 05:00:00  Winter  \n",
       "2016-12-31 06:00:00  Winter  \n",
       "2016-12-31 07:00:00  Winter  \n",
       "2016-12-31 08:00:00  Winter  \n",
       "2016-12-31 09:00:00  Winter  \n",
       "2016-12-31 12:00:00  Winter  \n",
       "2016-12-31 13:00:00  Winter  \n",
       "2016-12-31 14:00:00  Winter  \n",
       "2016-12-31 15:00:00  Winter  \n",
       "2016-12-31 16:00:00  Winter  \n",
       "2016-12-31 17:00:00  Winter  \n",
       "2016-12-31 18:00:00  Winter  \n",
       "2016-12-31 19:00:00  Winter  \n",
       "2016-12-31 20:00:00  Winter  \n",
       "2016-12-31 21:00:00  Winter  \n",
       "2016-12-31 22:00:00  Winter  \n",
       "2016-12-31 23:00:00  Winter  \n",
       "2017-01-01 00:00:00  Winter  \n",
       "2017-01-01 01:00:00  Winter  \n",
       "2017-01-01 02:00:00  Winter  \n",
       "2017-01-01 03:00:00  Winter  \n",
       "2017-01-01 04:00:00  Winter  \n",
       "2017-01-01 05:00:00  Winter  \n",
       "2017-01-01 06:00:00  Winter  \n",
       "2017-01-01 07:00:00  Winter  \n",
       "2017-01-01 08:00:00  Winter  \n",
       "\n",
       "[19758 rows x 24 columns]"
      ]
     },
     "execution_count": 61,
     "metadata": {},
     "output_type": "execute_result"
    }
   ],
   "source": [
    "df_nox"
   ]
  },
  {
   "cell_type": "code",
   "execution_count": 62,
   "metadata": {
    "collapsed": false
   },
   "outputs": [
    {
     "name": "stderr",
     "output_type": "stream",
     "text": [
      "/home/kaitlyn/anaconda3/lib/python3.5/site-packages/ipykernel/__main__.py:1: SettingWithCopyWarning: \n",
      "A value is trying to be set on a copy of a slice from a DataFrame.\n",
      "Try using .loc[row_indexer,col_indexer] = value instead\n",
      "\n",
      "See the caveats in the documentation: http://pandas.pydata.org/pandas-docs/stable/indexing.html#indexing-view-versus-copy\n",
      "  if __name__ == '__main__':\n"
     ]
    }
   ],
   "source": [
    "df_nox['filtVal'] = df_nox.groupby('season').value.transform(replace)\n",
    "\n",
    "winter_nox = df_nox.loc[df_nox.season == 'Winter']\n",
    "winter_daily_nox = winter_nox.groupby('hour').filtVal.mean()\n",
    "\n",
    "#spring_nox = df_nox.loc[df_nox.season == 'Spring']\n",
    "#spring_daily_nox = spring_nox.groupby('hour').filtVal.mean()\n",
    "\n",
    "summer_nox = df_nox.loc[df_nox.season == 'Summer']\n",
    "summer_daily_nox = summer_nox.groupby('hour').filtVal.mean()\n",
    "\n",
    "#fall_nox = df_nox.loc[df_co.season == 'Fall']\n",
    "#fall_daily_nox = fall_nox.groupby('hour').filtVal.mean()"
   ]
  },
  {
   "cell_type": "code",
   "execution_count": 63,
   "metadata": {
    "collapsed": false
   },
   "outputs": [
    {
     "data": {
      "text/plain": [
       "<matplotlib.text.Text at 0x7f4ff8fdd908>"
      ]
     },
     "execution_count": 63,
     "metadata": {},
     "output_type": "execute_result"
    },
    {
     "data": {
      "image/png": "[encoded data removed]",
      "text/plain": [
       "<matplotlib.figure.Figure at 0x7f4ff90ff588>"
      ]
     },
     "metadata": {},
     "output_type": "display_data"
    }
   ],
   "source": [
    "y_label_pm = unitsDict[winter.unit[0]]\n",
    "y_label_nox = unitsDict[winter_nox.unit[0]]\n",
    "\n",
    "fig, ax1 = plt.subplots()\n",
    "\n",
    "pm_w = ax1.plot(winter_daily.index, winter_daily, 'b-', label = 'Winter PM 2.5')\n",
    "pm_s = ax1.plot(summer_daily.index, summer_daily, 'r-', label = 'Summer PM 2.5')\n",
    "ax1.set_xlabel('Hour of Day')\n",
    "ax1.set_ylabel(y_label_pm + ' (PM 2.5)')\n",
    "\n",
    "ax2 = ax1.twinx()\n",
    "#winter_daily_co.plot(label='Winter CO')\n",
    "#summer_daily_co.plot(label='Summer CO')\n",
    "nox_w = ax2.plot(winter_daily_nox.index, winter_daily_nox, 'c-', label = 'Winter NOx')\n",
    "nox_s = ax2.plot(summer_daily_nox.index, summer_daily_nox, 'm-', label = 'Summer NOx')\n",
    "#co_w = ax2.plot(winter_daily_co.index, winter_daily_co, 'g-', label = 'Winter CO')\n",
    "#co_s = ax2.plot(summer_daily_co.index, summer_daily_co, 'b-', label = 'Summer CO')\n",
    "ax2.set_ylabel(y_label_nox + ' (NOx)')\n",
    "\n",
    "lns = pm_w+ pm_s + nox_w + nox_s# + co_w + co_s\n",
    "labs = [l.get_label() for l in lns]\n",
    "ax1.set_xlim(0, 24)\n",
    "ax2.set_xlim(0,24)\n",
    "plt.legend(lns, labs, bbox_to_anchor=(1.55, 1.03))\n",
    "\n",
    "plt.title(\"NOx and PM 2.5 Concentration for Winter and Summer\")"
   ]
  },
  {
   "cell_type": "code",
   "execution_count": 64,
   "metadata": {
    "collapsed": true
   },
   "outputs": [],
   "source": [
    "def detrend(df):\n",
    "    annual_mean = df.groupby('doy').filtVal.mean()\n",
    "    df['annual_mean'] = annual_mean[df.doy].values\n",
    "    df['detrend'] = df.filtVal - df.annual_mean\n"
   ]
  },
  {
   "cell_type": "code",
   "execution_count": 65,
   "metadata": {
    "collapsed": false
   },
   "outputs": [
    {
     "name": "stderr",
     "output_type": "stream",
     "text": [
      "/home/kaitlyn/anaconda3/lib/python3.5/site-packages/ipykernel/__main__.py:3: SettingWithCopyWarning: \n",
      "A value is trying to be set on a copy of a slice from a DataFrame.\n",
      "Try using .loc[row_indexer,col_indexer] = value instead\n",
      "\n",
      "See the caveats in the documentation: http://pandas.pydata.org/pandas-docs/stable/indexing.html#indexing-view-versus-copy\n",
      "  app.launch_new_instance()\n",
      "/home/kaitlyn/anaconda3/lib/python3.5/site-packages/ipykernel/__main__.py:4: SettingWithCopyWarning: \n",
      "A value is trying to be set on a copy of a slice from a DataFrame.\n",
      "Try using .loc[row_indexer,col_indexer] = value instead\n",
      "\n",
      "See the caveats in the documentation: http://pandas.pydata.org/pandas-docs/stable/indexing.html#indexing-view-versus-copy\n"
     ]
    },
    {
     "data": {
      "text/plain": [
       "<matplotlib.axes._subplots.AxesSubplot at 0x7f4ff8fd7438>"
      ]
     },
     "execution_count": 65,
     "metadata": {},
     "output_type": "execute_result"
    },
    {
     "data": {
      "image/png": "[encoded data removed]",
      "text/plain": [
       "<matplotlib.figure.Figure at 0x7f4ff93b0dd8>"
      ]
     },
     "metadata": {},
     "output_type": "display_data"
    }
   ],
   "source": [
    "detrend(df_pm25)\n",
    "df_pm25.detrend.plot()"
   ]
  },
  {
   "cell_type": "code",
   "execution_count": 66,
   "metadata": {
    "collapsed": false
   },
   "outputs": [
    {
     "name": "stderr",
     "output_type": "stream",
     "text": [
      "/home/kaitlyn/anaconda3/lib/python3.5/site-packages/ipykernel/__main__.py:1: SettingWithCopyWarning: \n",
      "A value is trying to be set on a copy of a slice from a DataFrame.\n",
      "Try using .loc[row_indexer,col_indexer] = value instead\n",
      "\n",
      "See the caveats in the documentation: http://pandas.pydata.org/pandas-docs/stable/indexing.html#indexing-view-versus-copy\n",
      "  if __name__ == '__main__':\n",
      "/home/kaitlyn/anaconda3/lib/python3.5/site-packages/ipykernel/__main__.py:3: SettingWithCopyWarning: \n",
      "A value is trying to be set on a copy of a slice from a DataFrame.\n",
      "Try using .loc[row_indexer,col_indexer] = value instead\n",
      "\n",
      "See the caveats in the documentation: http://pandas.pydata.org/pandas-docs/stable/indexing.html#indexing-view-versus-copy\n",
      "  app.launch_new_instance()\n",
      "/home/kaitlyn/anaconda3/lib/python3.5/site-packages/ipykernel/__main__.py:4: SettingWithCopyWarning: \n",
      "A value is trying to be set on a copy of a slice from a DataFrame.\n",
      "Try using .loc[row_indexer,col_indexer] = value instead\n",
      "\n",
      "See the caveats in the documentation: http://pandas.pydata.org/pandas-docs/stable/indexing.html#indexing-view-versus-copy\n"
     ]
    },
    {
     "data": {
      "text/plain": [
       "<matplotlib.axes._subplots.AxesSubplot at 0x7f4ff8c44518>"
      ]
     },
     "execution_count": 66,
     "metadata": {},
     "output_type": "execute_result"
    },
    {
     "data": {
      "image/png": "[encoded data removed]",
      "text/plain": [
       "<matplotlib.figure.Figure at 0x7f4ff8fcec18>"
      ]
     },
     "metadata": {},
     "output_type": "display_data"
    }
   ],
   "source": [
    "df_pm10['filtVal'] = df_pm10.groupby('season').value.transform(replace)\n",
    "detrend(df_pm10)\n",
    "df_pm10.detrend.plot()"
   ]
  },
  {
   "cell_type": "code",
   "execution_count": 67,
   "metadata": {
    "collapsed": false
   },
   "outputs": [
    {
     "name": "stderr",
     "output_type": "stream",
     "text": [
      "/home/kaitlyn/anaconda3/lib/python3.5/site-packages/ipykernel/__main__.py:3: SettingWithCopyWarning: \n",
      "A value is trying to be set on a copy of a slice from a DataFrame.\n",
      "Try using .loc[row_indexer,col_indexer] = value instead\n",
      "\n",
      "See the caveats in the documentation: http://pandas.pydata.org/pandas-docs/stable/indexing.html#indexing-view-versus-copy\n",
      "  app.launch_new_instance()\n",
      "/home/kaitlyn/anaconda3/lib/python3.5/site-packages/ipykernel/__main__.py:4: SettingWithCopyWarning: \n",
      "A value is trying to be set on a copy of a slice from a DataFrame.\n",
      "Try using .loc[row_indexer,col_indexer] = value instead\n",
      "\n",
      "See the caveats in the documentation: http://pandas.pydata.org/pandas-docs/stable/indexing.html#indexing-view-versus-copy\n"
     ]
    },
    {
     "data": {
      "text/plain": [
       "<matplotlib.axes._subplots.AxesSubplot at 0x7f4ff906cba8>"
      ]
     },
     "execution_count": 67,
     "metadata": {},
     "output_type": "execute_result"
    },
    {
     "data": {
      "image/png": "[encoded data removed]",
      "text/plain": [
       "<matplotlib.figure.Figure at 0x7f4ff9082160>"
      ]
     },
     "metadata": {},
     "output_type": "display_data"
    }
   ],
   "source": [
    "detrend(df_co)\n",
    "df_co.detrend.plot()"
   ]
  },
  {
   "cell_type": "code",
   "execution_count": 68,
   "metadata": {
    "collapsed": false
   },
   "outputs": [
    {
     "name": "stderr",
     "output_type": "stream",
     "text": [
      "/home/kaitlyn/anaconda3/lib/python3.5/site-packages/ipykernel/__main__.py:3: SettingWithCopyWarning: \n",
      "A value is trying to be set on a copy of a slice from a DataFrame.\n",
      "Try using .loc[row_indexer,col_indexer] = value instead\n",
      "\n",
      "See the caveats in the documentation: http://pandas.pydata.org/pandas-docs/stable/indexing.html#indexing-view-versus-copy\n",
      "  app.launch_new_instance()\n",
      "/home/kaitlyn/anaconda3/lib/python3.5/site-packages/ipykernel/__main__.py:4: SettingWithCopyWarning: \n",
      "A value is trying to be set on a copy of a slice from a DataFrame.\n",
      "Try using .loc[row_indexer,col_indexer] = value instead\n",
      "\n",
      "See the caveats in the documentation: http://pandas.pydata.org/pandas-docs/stable/indexing.html#indexing-view-versus-copy\n"
     ]
    },
    {
     "data": {
      "text/plain": [
       "<matplotlib.axes._subplots.AxesSubplot at 0x7f4ff8c9d278>"
      ]
     },
     "execution_count": 68,
     "metadata": {},
     "output_type": "execute_result"
    },
    {
     "data": {
      "image/png": "[encoded data removed]",
      "text/plain": [
       "<matplotlib.figure.Figure at 0x7f4ff9323e10>"
      ]
     },
     "metadata": {},
     "output_type": "display_data"
    }
   ],
   "source": [
    "detrend(df_nox)\n",
    "df_nox.detrend.plot()"
   ]
  },
  {
   "cell_type": "code",
   "execution_count": 69,
   "metadata": {
    "collapsed": false
   },
   "outputs": [
    {
     "data": {
      "text/plain": [
       "0.57618084614131815"
      ]
     },
     "execution_count": 69,
     "metadata": {},
     "output_type": "execute_result"
    }
   ],
   "source": [
    "df_pm25.detrend.corr(df_pm10.detrend)"
   ]
  },
  {
   "cell_type": "code",
   "execution_count": 70,
   "metadata": {
    "collapsed": false
   },
   "outputs": [
    {
     "data": {
      "text/plain": [
       "0.62410350968745754"
      ]
     },
     "execution_count": 70,
     "metadata": {},
     "output_type": "execute_result"
    }
   ],
   "source": [
    "df_pm25.detrend.corr(df_co.detrend)"
   ]
  },
  {
   "cell_type": "code",
   "execution_count": 71,
   "metadata": {
    "collapsed": false
   },
   "outputs": [
    {
     "data": {
      "text/plain": [
       "0.58831923150193632"
      ]
     },
     "execution_count": 71,
     "metadata": {},
     "output_type": "execute_result"
    }
   ],
   "source": [
    "df_pm25.detrend.corr(df_nox.detrend)"
   ]
  },
  {
   "cell_type": "code",
   "execution_count": 72,
   "metadata": {
    "collapsed": false
   },
   "outputs": [
    {
     "data": {
      "text/plain": [
       "0.4575132901836293"
      ]
     },
     "execution_count": 72,
     "metadata": {},
     "output_type": "execute_result"
    }
   ],
   "source": [
    "df_nox.detrend.corr(df_pm10.detrend)"
   ]
  },
  {
   "cell_type": "code",
   "execution_count": 73,
   "metadata": {
    "collapsed": false
   },
   "outputs": [
    {
     "data": {
      "text/plain": [
       "0.46922349098222582"
      ]
     },
     "execution_count": 73,
     "metadata": {},
     "output_type": "execute_result"
    }
   ],
   "source": [
    "df_pm10.detrend.corr(df_co.detrend)"
   ]
  },
  {
   "cell_type": "code",
   "execution_count": 74,
   "metadata": {
    "collapsed": false
   },
   "outputs": [
    {
     "data": {
      "text/plain": [
       "0.71616881597218951"
      ]
     },
     "execution_count": 74,
     "metadata": {},
     "output_type": "execute_result"
    }
   ],
   "source": [
    "df_nox.detrend.corr(df_co.detrend)"
   ]
  },
  {
   "cell_type": "code",
   "execution_count": 75,
   "metadata": {
    "collapsed": true
   },
   "outputs": [],
   "source": [
    "def effective_windspeed(a_wind, a_H, e_H, season):\n",
    "    roughness = 0\n",
    "    if season == 'winter': \n",
    "        roughness = .5 #change this later\n",
    "    elif season == 'summer':\n",
    "        roughness = .15\n",
    "    e_wind = ((e_H/a_H) ** roughness) * a_wind\n",
    "    return e_wind\n",
    "    \n",
    "def gaussian_point(y, Q, H, windspeed, y_dispersion, z_dispersion):\n",
    "    res = (Q/(np.pi * windspeed * y_dispersion * z_dispersion)) * \\\n",
    "        np.exp((-H**2) / (2 * (z_dispersion**2))) * \\\n",
    "        np.exp((-y**2) / (2 * (y_dispersion ** 2)))\n",
    "    return res"
   ]
  },
  {
   "cell_type": "code",
   "execution_count": 76,
   "metadata": {
    "collapsed": false
   },
   "outputs": [
    {
     "data": {
      "text/plain": [
       "<matplotlib.axes._subplots.AxesSubplot at 0x7f4ff8a8e128>"
      ]
     },
     "execution_count": 76,
     "metadata": {},
     "output_type": "execute_result"
    },
    {
     "data": {
      "image/png": "[encoded data removed]",
      "text/plain": [
       "<matplotlib.figure.Figure at 0x7f4ff8b638d0>"
      ]
     },
     "metadata": {},
     "output_type": "display_data"
    }
   ],
   "source": [
    "# gaussian point source for fake airfield 1\n",
    "y = 100 #meters\n",
    "e_H = 1 #meters\n",
    "Q = 2.02 * 10**6\n",
    "# windspeed = effective_windspeed(dfwSpeed.loc[dfwDir.season == 'Winter'], 10, e_H, 'winter')\n",
    "windspeed = dfwSpeed.loc[dfwDir.season == 'Winter'].value\n",
    "y_dispersion = 1\n",
    "z_dispersion = 1\n",
    "airfield_gaus = gaussian_point(y, Q, e_H, windspeed, y_dispersion, z_dispersion)\n",
    "airfield_gaus.plot()"
   ]
  },
  {
   "cell_type": "code",
   "execution_count": 137,
   "metadata": {
    "collapsed": true
   },
   "outputs": [],
   "source": [
    "def indoor_conc(outdoor_conc):\n",
    "    time = np.arange(24*60) # time in minutes over the course of a day\n",
    "    Ca = np.empty(np.shape(time))\n",
    "    S = np.ones(np.shape(time)) * (800 * (244/97)) # gets the proportional scale up\n",
    "    for i in outdoor_conc.index:\n",
    "        Ca[i*60:(i+1)*60] = outdoor_conc[i]\n",
    "        if i%2 == 0:\n",
    "            S[i*60] = S[i*60] * 5 # model the stove being open for stoking\n",
    "    V = (1844 * 10) * 0.0283 # get volume of house in meters\n",
    "    n = 1/60 # air changes/min\n",
    "    K = 0.48\n",
    "    C = np.empty(np.shape(time))\n",
    "    C[0] = Ca[0]\n",
    "    for i in time:\n",
    "        if i == 0:\n",
    "            pass\n",
    "        else:\n",
    "            C[i] = ((S[i]/V + Ca[i]*n)/(n+K))*(1 - np.exp(-(n+K)*i%60)) + C[i-1]*np.exp(-(n+K))\n",
    "    \n",
    "    return C, Ca\n",
    "            "
   ]
  },
  {
   "cell_type": "code",
   "execution_count": 138,
   "metadata": {
    "collapsed": false
   },
   "outputs": [
    {
     "name": "stdout",
     "output_type": "stream",
     "text": [
      "[  1.95084325e+01   9.67458750e+25   2.20230073e+25 ...,   1.90964528e+26\n",
      "   4.34707238e+25   9.89557508e+24]\n"
     ]
    }
   ],
   "source": [
    "C, Ca = indoor_conc(winter_daily)\n",
    "print(C)"
   ]
  },
  {
   "cell_type": "code",
   "execution_count": 139,
   "metadata": {
    "collapsed": false
   },
   "outputs": [
    {
     "data": {
      "text/plain": [
       "[<matplotlib.lines.Line2D at 0x7f4ff7fe4160>]"
      ]
     },
     "execution_count": 139,
     "metadata": {},
     "output_type": "execute_result"
    },
    {
     "data": {
      "image/png": "[encoded data removed]",
      "text/plain": [
       "<matplotlib.figure.Figure at 0x7f4ff7fe4080>"
      ]
     },
     "metadata": {},
     "output_type": "display_data"
    }
   ],
   "source": [
    "plt.plot(C, 'r-')\n",
    "plt.plot(Ca, 'b')"
   ]
  },
  {
   "cell_type": "code",
   "execution_count": 113,
   "metadata": {
    "collapsed": false
   },
   "outputs": [
    {
     "data": {
      "text/plain": [
       "521.852"
      ]
     },
     "execution_count": 113,
     "metadata": {},
     "output_type": "execute_result"
    }
   ],
   "source": [
    "(1844 * 10) * 0.0283"
   ]
  },
  {
   "cell_type": "code",
   "execution_count": 130,
   "metadata": {
    "collapsed": false
   },
   "outputs": [
    {
     "data": {
      "text/plain": [
       "2012.3711340206185"
      ]
     },
     "execution_count": 130,
     "metadata": {},
     "output_type": "execute_result"
    }
   ],
   "source": [
    "(800 * (244/97))"
   ]
  },
  {
   "cell_type": "code",
   "execution_count": null,
   "metadata": {
    "collapsed": true
   },
   "outputs": [],
   "source": []
  }
 ],
 "metadata": {
  "anaconda-cloud": {},
  "kernelspec": {
   "display_name": "Python [default]",
   "language": "python",
   "name": "python3"
  },
  "language_info": {
   "codemirror_mode": {
    "name": "ipython",
    "version": 3
   },
   "file_extension": ".py",
   "mimetype": "text/x-python",
   "name": "python",
   "nbconvert_exporter": "python",
   "pygments_lexer": "ipython3",
   "version": "3.5.2"
  }
 },
 "nbformat": 4,
 "nbformat_minor": 1
}
